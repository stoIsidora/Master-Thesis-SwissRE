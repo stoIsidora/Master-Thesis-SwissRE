{
 "cells": [
  {
   "cell_type": "code",
   "execution_count": 2,
   "id": "101dc026",
   "metadata": {},
   "outputs": [],
   "source": [
    "import pandas as pd\n",
    "import numpy as np\n",
    "import time\n",
    "import matplotlib.colors as mcolors\n",
    "import matplotlib.pyplot as plt\n",
    "from lifelines.utils import concordance_index\n",
    "from sklearn.model_selection import GridSearchCV\n",
    "from sklearn.metrics import log_loss\n",
    "from sklearn.metrics import brier_score_loss\n",
    "import matplotlib.ticker as mticker\n",
    "from sklearn.tree import DecisionTreeClassifier\n",
    "from sklearn.metrics import make_scorer\n",
    "from sklearn.tree import plot_tree\n",
    "from itertools import product\n",
    "import matplotlib.pyplot as plt"
   ]
  },
  {
   "cell_type": "code",
   "execution_count": null,
   "id": "6f1c74e5",
   "metadata": {},
   "outputs": [],
   "source": []
  },
  {
   "cell_type": "code",
   "execution_count": null,
   "id": "8fe2e510",
   "metadata": {},
   "outputs": [],
   "source": []
  },
  {
   "cell_type": "code",
   "execution_count": 3,
   "id": "23ce3138",
   "metadata": {},
   "outputs": [],
   "source": [
    "df_train = pd.read_csv('df_train.csv')\n",
    "df_test = pd.read_csv('df_test.csv')"
   ]
  },
  {
   "cell_type": "code",
   "execution_count": 4,
   "id": "869e3a0a",
   "metadata": {},
   "outputs": [],
   "source": [
    "# define three-year mortalitty status\n",
    "df_train.loc[:,'MORTSTAT3Y'] = np.where((df_train[\"MORTSTAT\"] == 1) & (df_train[\"TIMETOEVENT\"] <= 3), 1, 0)\n",
    "df_test.loc[:,'MORTSTAT3Y'] = np.where((df_test[\"MORTSTAT\"] == 1) & (df_test[\"TIMETOEVENT\"] <= 3), 1, 0)"
   ]
  },
  {
   "cell_type": "code",
   "execution_count": null,
   "id": "92cb2bef",
   "metadata": {},
   "outputs": [],
   "source": []
  },
  {
   "cell_type": "code",
   "execution_count": null,
   "id": "cc3fae0d",
   "metadata": {},
   "outputs": [],
   "source": []
  },
  {
   "cell_type": "code",
   "execution_count": 5,
   "id": "1bd77365",
   "metadata": {},
   "outputs": [],
   "source": [
    "# select features and target\n",
    "X_train_3y = df_train.drop(columns=['MORTSTAT3Y', 'TIMETOEVENT', 'MORTSTAT'])\n",
    "y_train_3y = df_train['MORTSTAT3Y']\n",
    "\n",
    "X_test_3y = df_test.drop(columns=['MORTSTAT3Y', 'TIMETOEVENT', 'MORTSTAT'])\n",
    "y_test_3y = df_test['MORTSTAT3Y']"
   ]
  },
  {
   "cell_type": "code",
   "execution_count": null,
   "id": "269d2b9d",
   "metadata": {},
   "outputs": [],
   "source": []
  },
  {
   "cell_type": "code",
   "execution_count": null,
   "id": "902e6c8c",
   "metadata": {},
   "outputs": [],
   "source": []
  },
  {
   "cell_type": "code",
   "execution_count": 6,
   "id": "11742e70",
   "metadata": {},
   "outputs": [],
   "source": [
    "# deifne c-index as in thesis"
   ]
  },
  {
   "cell_type": "code",
   "execution_count": 7,
   "id": "68e9d1f7",
   "metadata": {},
   "outputs": [],
   "source": [
    "def c_index_classification(y_true, y_pred_proba, times):\n",
    "    y_true = np.asarray(y_true)\n",
    "    y_pred_proba = np.asarray(y_pred_proba)\n",
    "    times = np.asarray(times)\n",
    "    cc = dc = tp = 0\n",
    "\n",
    "    n = len(y_true)\n",
    "    for i in range(n):\n",
    "        for j in range(n):\n",
    "            if i == j:\n",
    "                continue\n",
    "            if times[i] < times[j] and y_true[i] == 1:\n",
    "                if y_pred_proba[i] > y_pred_proba[j]:\n",
    "                    cc += 1\n",
    "                elif y_pred_proba[i] < y_pred_proba[j]:\n",
    "                    dc += 1\n",
    "                else:\n",
    "                    tp += 1\n",
    "\n",
    "        \n",
    "    return (cc + 0.5 * tp) / (cc + dc + tp)"
   ]
  },
  {
   "cell_type": "code",
   "execution_count": null,
   "id": "9eaece11",
   "metadata": {},
   "outputs": [],
   "source": []
  },
  {
   "cell_type": "code",
   "execution_count": 8,
   "id": "154a202c",
   "metadata": {},
   "outputs": [],
   "source": [
    "# DecisionTreeClassifier"
   ]
  },
  {
   "cell_type": "code",
   "execution_count": 9,
   "id": "735945e6",
   "metadata": {},
   "outputs": [],
   "source": [
    "# grid search 0 (log-loss)"
   ]
  },
  {
   "cell_type": "code",
   "execution_count": 10,
   "id": "67952f5c",
   "metadata": {},
   "outputs": [
    {
     "name": "stdout",
     "output_type": "stream",
     "text": [
      "{'max_depth': 4}\n"
     ]
    }
   ],
   "source": [
    "param_grid0 = {'max_depth': [3, 4, 5, 6, 7, 8, 10, 12]}\n",
    "\n",
    "grid_search1 = GridSearchCV(DecisionTreeClassifier(criterion='log_loss'), param_grid0, cv=4, scoring='neg_log_loss')\n",
    "grid_search1.fit(X_train_3y, y_train_3y)\n",
    "\n",
    "print(grid_search1.best_params_)"
   ]
  },
  {
   "cell_type": "code",
   "execution_count": 11,
   "id": "290870c6",
   "metadata": {},
   "outputs": [],
   "source": [
    "# grid search 0 (brier-score)"
   ]
  },
  {
   "cell_type": "code",
   "execution_count": 12,
   "id": "0f7aceef",
   "metadata": {},
   "outputs": [
    {
     "name": "stdout",
     "output_type": "stream",
     "text": [
      "{'max_depth': 5}\n"
     ]
    }
   ],
   "source": [
    "grid_search2 = GridSearchCV(DecisionTreeClassifier(criterion='log_loss'), param_grid0, cv=4, scoring='neg_brier_score')\n",
    "grid_search2.fit(X_train_3y, y_train_3y)\n",
    "\n",
    "print(grid_search2.best_params_)"
   ]
  },
  {
   "cell_type": "code",
   "execution_count": 13,
   "id": "4a830074",
   "metadata": {},
   "outputs": [],
   "source": [
    "# DTC0L"
   ]
  },
  {
   "cell_type": "code",
   "execution_count": 14,
   "id": "ef6b59ce",
   "metadata": {},
   "outputs": [
    {
     "name": "stdout",
     "output_type": "stream",
     "text": [
      "Training Time: 2.1047 seconds\n"
     ]
    }
   ],
   "source": [
    "dtc0l = DecisionTreeClassifier(criterion='log_loss', max_depth=4)\n",
    "\n",
    "# train\n",
    "start_time = time.time()\n",
    "dtc0l.fit(X_train_3y, y_train_3y)\n",
    "print(f\"Training Time: {time.time() - start_time:.4f} seconds\")"
   ]
  },
  {
   "cell_type": "code",
   "execution_count": 15,
   "id": "5bef66fc",
   "metadata": {},
   "outputs": [
    {
     "name": "stdout",
     "output_type": "stream",
     "text": [
      "Log Loss is: 0.1215\n",
      "Log Loss os: 0.1200\n",
      "BS is: 0.0313\n",
      "BS os: 0.0308\n",
      "C is: 0.8533\n"
     ]
    }
   ],
   "source": [
    "# get predicted probabilities\n",
    "y_pred_proba_train_3y = dtc0l.predict_proba(X_train_3y)[:, 1]\n",
    "y_pred_proba_test_3y = dtc0l.predict_proba(X_test_3y)[:, 1]\n",
    "\n",
    "# compute Log Loss\n",
    "logloss_train_3y = log_loss(y_train_3y, y_pred_proba_train_3y)\n",
    "logloss_test_3y = log_loss(y_test_3y, y_pred_proba_test_3y)\n",
    "\n",
    "# compute Brier\n",
    "bs_train_3y = brier_score_loss(y_train_3y, y_pred_proba_train_3y)\n",
    "bs_test_3y = brier_score_loss(y_test_3y, y_pred_proba_test_3y)\n",
    "\n",
    "# c-index\n",
    "c_is = c_index_classification(df_train['MORTSTAT'], y_pred_proba_train_3y, df_train['TIMETOEVENT'])\n",
    "\n",
    "print(f'Log Loss is: {logloss_train_3y:.4f}')\n",
    "print(f'Log Loss os: {logloss_test_3y:.4f}')\n",
    "print(f'BS is: {bs_train_3y:.4f}')\n",
    "print(f'BS os: {bs_test_3y:.4f}')\n",
    "print(f'C is: {c_is:.4f}')"
   ]
  },
  {
   "cell_type": "code",
   "execution_count": 16,
   "id": "d9f782e0",
   "metadata": {},
   "outputs": [],
   "source": [
    "# DTC0B"
   ]
  },
  {
   "cell_type": "code",
   "execution_count": 17,
   "id": "f8c58fae",
   "metadata": {},
   "outputs": [
    {
     "name": "stdout",
     "output_type": "stream",
     "text": [
      "Training Time: 0.4530 seconds\n"
     ]
    }
   ],
   "source": [
    "dtc0b = DecisionTreeClassifier(criterion='log_loss', max_depth=6)\n",
    "\n",
    "# train\n",
    "start_time = time.time()\n",
    "dtc0b.fit(X_train_3y, y_train_3y)\n",
    "print(f\"Training Time: {time.time() - start_time:.4f} seconds\")"
   ]
  },
  {
   "cell_type": "code",
   "execution_count": 18,
   "id": "651ed7ff",
   "metadata": {},
   "outputs": [
    {
     "name": "stdout",
     "output_type": "stream",
     "text": [
      "Log Loss is: 0.1162\n",
      "Log Loss os: 0.1334\n",
      "BS is: 0.0302\n",
      "BS os: 0.0306\n",
      "C is: 0.8700\n"
     ]
    }
   ],
   "source": [
    "# get predicted probabilities\n",
    "y_pred_proba_train_3y = dtc0b.predict_proba(X_train_3y)[:, 1]\n",
    "y_pred_proba_test_3y = dtc0b.predict_proba(X_test_3y)[:, 1]\n",
    "\n",
    "# compute Log Loss\n",
    "logloss_train_3y = log_loss(y_train_3y, y_pred_proba_train_3y)\n",
    "logloss_test_3y = log_loss(y_test_3y, y_pred_proba_test_3y)\n",
    "\n",
    "# compute Brier\n",
    "bs_train_3y = brier_score_loss(y_train_3y, y_pred_proba_train_3y)\n",
    "bs_test_3y = brier_score_loss(y_test_3y, y_pred_proba_test_3y)\n",
    "\n",
    "# c-index\n",
    "c_is = c_index_classification(df_train['MORTSTAT'], y_pred_proba_train_3y, df_train['TIMETOEVENT'])\n",
    "\n",
    "print(f'Log Loss is: {logloss_train_3y:.4f}')\n",
    "print(f'Log Loss os: {logloss_test_3y:.4f}')\n",
    "print(f'BS is: {bs_train_3y:.4f}')\n",
    "print(f'BS os: {bs_test_3y:.4f}')\n",
    "print(f'C is: {c_is:.4f}')"
   ]
  },
  {
   "cell_type": "code",
   "execution_count": 19,
   "id": "9fba65ec",
   "metadata": {},
   "outputs": [],
   "source": [
    "#______________________________________________________________________________________________________________________________"
   ]
  },
  {
   "cell_type": "code",
   "execution_count": 20,
   "id": "8eb547b1",
   "metadata": {},
   "outputs": [],
   "source": [
    "# grid search 1 (log-loss)"
   ]
  },
  {
   "cell_type": "code",
   "execution_count": 21,
   "id": "c8ab3594",
   "metadata": {},
   "outputs": [
    {
     "name": "stdout",
     "output_type": "stream",
     "text": [
      "Fitting 4 folds for each of 20 candidates, totalling 80 fits\n",
      "{'max_leaf_nodes': 30, 'min_samples_leaf': 200}\n"
     ]
    }
   ],
   "source": [
    "param_grid1 = {'max_leaf_nodes': [10, 20, 30, 40, 50],\n",
    "              'min_samples_leaf': [100, 200, 300, 400]}\n",
    "\n",
    "grid_search3 = GridSearchCV(DecisionTreeClassifier(criterion='log_loss'), param_grid1, cv=4, scoring='neg_log_loss', n_jobs=-1, verbose=2)\n",
    "grid_search3.fit(X_train_3y, y_train_3y)\n",
    "\n",
    "print(grid_search3.best_params_)"
   ]
  },
  {
   "cell_type": "code",
   "execution_count": 22,
   "id": "407cf60c",
   "metadata": {},
   "outputs": [
    {
     "data": {
      "text/html": [
       "<div>\n",
       "<style scoped>\n",
       "    .dataframe tbody tr th:only-of-type {\n",
       "        vertical-align: middle;\n",
       "    }\n",
       "\n",
       "    .dataframe tbody tr th {\n",
       "        vertical-align: top;\n",
       "    }\n",
       "\n",
       "    .dataframe thead th {\n",
       "        text-align: right;\n",
       "    }\n",
       "</style>\n",
       "<table border=\"1\" class=\"dataframe\">\n",
       "  <thead>\n",
       "    <tr style=\"text-align: right;\">\n",
       "      <th></th>\n",
       "      <th>rank_test_score</th>\n",
       "      <th>param_max_leaf_nodes</th>\n",
       "      <th>param_min_samples_leaf</th>\n",
       "      <th>ll3y</th>\n",
       "    </tr>\n",
       "  </thead>\n",
       "  <tbody>\n",
       "    <tr>\n",
       "      <th>9</th>\n",
       "      <td>1</td>\n",
       "      <td>30</td>\n",
       "      <td>200</td>\n",
       "      <td>0.1217</td>\n",
       "    </tr>\n",
       "    <tr>\n",
       "      <th>4</th>\n",
       "      <td>2</td>\n",
       "      <td>20</td>\n",
       "      <td>100</td>\n",
       "      <td>0.1217</td>\n",
       "    </tr>\n",
       "    <tr>\n",
       "      <th>7</th>\n",
       "      <td>3</td>\n",
       "      <td>20</td>\n",
       "      <td>400</td>\n",
       "      <td>0.1218</td>\n",
       "    </tr>\n",
       "  </tbody>\n",
       "</table>\n",
       "</div>"
      ],
      "text/plain": [
       "   rank_test_score  param_max_leaf_nodes  param_min_samples_leaf    ll3y\n",
       "9                1                    30                     200  0.1217\n",
       "4                2                    20                     100  0.1217\n",
       "7                3                    20                     400  0.1218"
      ]
     },
     "execution_count": 22,
     "metadata": {},
     "output_type": "execute_result"
    }
   ],
   "source": [
    "results_df = pd.DataFrame(grid_search3.cv_results_)\n",
    "# extract relevant columns\n",
    "results_df = results_df[['rank_test_score', 'param_max_leaf_nodes', 'param_min_samples_leaf', 'mean_test_score']]\n",
    "\n",
    "results_df['ll3y'] = (- results_df['mean_test_score']).round(4)\n",
    "results_df = results_df.drop(columns=['mean_test_score'])\n",
    "\n",
    "results_df = results_df.sort_values(by='rank_test_score')\n",
    "results_df.head(3)"
   ]
  },
  {
   "cell_type": "code",
   "execution_count": 23,
   "id": "1a82b23e",
   "metadata": {},
   "outputs": [],
   "source": [
    "# DTC1L"
   ]
  },
  {
   "cell_type": "code",
   "execution_count": 24,
   "id": "87ea139f",
   "metadata": {},
   "outputs": [
    {
     "name": "stdout",
     "output_type": "stream",
     "text": [
      "Training Time: 0.3823 seconds\n"
     ]
    }
   ],
   "source": [
    "dtc1l = DecisionTreeClassifier(criterion='log_loss', max_leaf_nodes= 30, min_samples_leaf= 200)\n",
    "\n",
    "# train\n",
    "start_time = time.time()\n",
    "dtc1l.fit(X_train_3y, y_train_3y)\n",
    "print(f\"Training Time: {time.time() - start_time:.4f} seconds\")"
   ]
  },
  {
   "cell_type": "code",
   "execution_count": 25,
   "id": "718b5465",
   "metadata": {},
   "outputs": [
    {
     "name": "stdout",
     "output_type": "stream",
     "text": [
      "Log Loss is: 0.1184\n",
      "Log Loss os: 0.1176\n",
      "BS is: 0.0308\n",
      "BS os: 0.0305\n",
      "C is: 0.8659\n"
     ]
    }
   ],
   "source": [
    "# get predicted probabilities\n",
    "y_pred_proba_train_3y = dtc1l.predict_proba(X_train_3y)[:, 1]\n",
    "y_pred_proba_test_3y = dtc1l.predict_proba(X_test_3y)[:, 1]\n",
    "\n",
    "# compute Log Loss\n",
    "logloss_train_3y = log_loss(y_train_3y, y_pred_proba_train_3y)\n",
    "logloss_test_3y = log_loss(y_test_3y, y_pred_proba_test_3y)\n",
    "\n",
    "# compute Brier\n",
    "bs_train_3y = brier_score_loss(y_train_3y, y_pred_proba_train_3y)\n",
    "bs_test_3y = brier_score_loss(y_test_3y, y_pred_proba_test_3y)\n",
    "\n",
    "# c-index\n",
    "c_is = c_index_classification(df_train['MORTSTAT'], y_pred_proba_train_3y, df_train['TIMETOEVENT'])\n",
    "\n",
    "print(f'Log Loss is: {logloss_train_3y:.4f}')\n",
    "print(f'Log Loss os: {logloss_test_3y:.4f}')\n",
    "print(f'BS is: {bs_train_3y:.4f}')\n",
    "print(f'BS os: {bs_test_3y:.4f}')\n",
    "print(f'C is: {c_is:.4f}')"
   ]
  },
  {
   "cell_type": "code",
   "execution_count": 26,
   "id": "bcf64218",
   "metadata": {},
   "outputs": [],
   "source": [
    "# DTC2L"
   ]
  },
  {
   "cell_type": "code",
   "execution_count": 27,
   "id": "48969e87",
   "metadata": {},
   "outputs": [
    {
     "name": "stdout",
     "output_type": "stream",
     "text": [
      "Training Time: 0.3111 seconds\n"
     ]
    }
   ],
   "source": [
    "dtc2l = DecisionTreeClassifier(criterion='log_loss', max_leaf_nodes=20, min_samples_leaf=100)\n",
    "\n",
    "# train\n",
    "start_time = time.time()\n",
    "dtc2l.fit(X_train_3y, y_train_3y)\n",
    "print(f\"Training Time: {time.time() - start_time:.4f} seconds\")"
   ]
  },
  {
   "cell_type": "code",
   "execution_count": 28,
   "id": "53dbdbd2",
   "metadata": {},
   "outputs": [
    {
     "name": "stdout",
     "output_type": "stream",
     "text": [
      "Log Loss is: 0.1198\n",
      "Log Loss os: 0.1185\n",
      "BS is: 0.0310\n",
      "BS os: 0.0307\n",
      "C is: 0.8600\n"
     ]
    }
   ],
   "source": [
    "# get predicted probabilities\n",
    "y_pred_proba_train_3y = dtc2l.predict_proba(X_train_3y)[:, 1]\n",
    "y_pred_proba_test_3y = dtc2l.predict_proba(X_test_3y)[:, 1]\n",
    "\n",
    "# compute Log Loss\n",
    "logloss_train_3y = log_loss(y_train_3y, y_pred_proba_train_3y)\n",
    "logloss_test_3y = log_loss(y_test_3y, y_pred_proba_test_3y)\n",
    "\n",
    "# compute Brier\n",
    "bs_train_3y = brier_score_loss(y_train_3y, y_pred_proba_train_3y)\n",
    "bs_test_3y = brier_score_loss(y_test_3y, y_pred_proba_test_3y)\n",
    "\n",
    "# c-index\n",
    "c_is = c_index_classification(df_train['MORTSTAT'], y_pred_proba_train_3y, df_train['TIMETOEVENT'])\n",
    "\n",
    "print(f'Log Loss is: {logloss_train_3y:.4f}')\n",
    "print(f'Log Loss os: {logloss_test_3y:.4f}')\n",
    "print(f'BS is: {bs_train_3y:.4f}')\n",
    "print(f'BS os: {bs_test_3y:.4f}')\n",
    "print(f'C is: {c_is:.4f}')"
   ]
  },
  {
   "cell_type": "code",
   "execution_count": 29,
   "id": "8b2efe95",
   "metadata": {},
   "outputs": [],
   "source": [
    "# DTC3L"
   ]
  },
  {
   "cell_type": "code",
   "execution_count": 30,
   "id": "a08839dc",
   "metadata": {},
   "outputs": [
    {
     "name": "stdout",
     "output_type": "stream",
     "text": [
      "Training Time: 0.2932 seconds\n"
     ]
    }
   ],
   "source": [
    "dtc3l = DecisionTreeClassifier(criterion='log_loss', max_leaf_nodes=20, min_samples_leaf=400)\n",
    "\n",
    "# train\n",
    "start_time = time.time()\n",
    "dtc3l.fit(X_train_3y, y_train_3y)\n",
    "print(f\"Training Time: {time.time() - start_time:.4f} seconds\")"
   ]
  },
  {
   "cell_type": "code",
   "execution_count": 31,
   "id": "8153b3ec",
   "metadata": {},
   "outputs": [
    {
     "name": "stdout",
     "output_type": "stream",
     "text": [
      "Log Loss is: 0.1200\n",
      "Log Loss os: 0.1183\n",
      "BS is: 0.0311\n",
      "BS os: 0.0306\n",
      "C is: 0.8599\n"
     ]
    }
   ],
   "source": [
    "# get predicted probabilities\n",
    "y_pred_proba_train_3y = dtc3l.predict_proba(X_train_3y)[:, 1]\n",
    "y_pred_proba_test_3y = dtc3l.predict_proba(X_test_3y)[:, 1]\n",
    "\n",
    "# compute Log Loss\n",
    "logloss_train_3y = log_loss(y_train_3y, y_pred_proba_train_3y)\n",
    "logloss_test_3y = log_loss(y_test_3y, y_pred_proba_test_3y)\n",
    "\n",
    "# compute Brier\n",
    "bs_train_3y = brier_score_loss(y_train_3y, y_pred_proba_train_3y)\n",
    "bs_test_3y = brier_score_loss(y_test_3y, y_pred_proba_test_3y)\n",
    "\n",
    "# c-index\n",
    "c_is = c_index_classification(df_train['MORTSTAT'], y_pred_proba_train_3y, df_train['TIMETOEVENT'])\n",
    "\n",
    "print(f'Log Loss is: {logloss_train_3y:.4f}')\n",
    "print(f'Log Loss os: {logloss_test_3y:.4f}')\n",
    "print(f'BS is: {bs_train_3y:.4f}')\n",
    "print(f'BS os: {bs_test_3y:.4f}')\n",
    "print(f'C is: {c_is:.4f}')"
   ]
  },
  {
   "cell_type": "code",
   "execution_count": 32,
   "id": "51b0b06c",
   "metadata": {},
   "outputs": [],
   "source": [
    "#_______________________________________________________________________________________________________________________________"
   ]
  },
  {
   "cell_type": "code",
   "execution_count": 33,
   "id": "708cb47b",
   "metadata": {},
   "outputs": [],
   "source": [
    "# grid search 2 brier-score"
   ]
  },
  {
   "cell_type": "code",
   "execution_count": 34,
   "id": "8bd416cc",
   "metadata": {},
   "outputs": [
    {
     "name": "stdout",
     "output_type": "stream",
     "text": [
      "{'max_leaf_nodes': 40, 'min_samples_leaf': 300}\n"
     ]
    }
   ],
   "source": [
    "grid_search4 = GridSearchCV(DecisionTreeClassifier(criterion='log_loss'), param_grid1, cv=4, scoring='neg_brier_score', n_jobs=-1)\n",
    "grid_search4.fit(X_train_3y, y_train_3y)\n",
    "\n",
    "print(grid_search4.best_params_)"
   ]
  },
  {
   "cell_type": "code",
   "execution_count": 35,
   "id": "2e5e6540",
   "metadata": {},
   "outputs": [
    {
     "data": {
      "text/html": [
       "<div>\n",
       "<style scoped>\n",
       "    .dataframe tbody tr th:only-of-type {\n",
       "        vertical-align: middle;\n",
       "    }\n",
       "\n",
       "    .dataframe tbody tr th {\n",
       "        vertical-align: top;\n",
       "    }\n",
       "\n",
       "    .dataframe thead th {\n",
       "        text-align: right;\n",
       "    }\n",
       "</style>\n",
       "<table border=\"1\" class=\"dataframe\">\n",
       "  <thead>\n",
       "    <tr style=\"text-align: right;\">\n",
       "      <th></th>\n",
       "      <th>rank_test_score</th>\n",
       "      <th>param_max_leaf_nodes</th>\n",
       "      <th>param_min_samples_leaf</th>\n",
       "      <th>bs3y</th>\n",
       "    </tr>\n",
       "  </thead>\n",
       "  <tbody>\n",
       "    <tr>\n",
       "      <th>14</th>\n",
       "      <td>1</td>\n",
       "      <td>40</td>\n",
       "      <td>300</td>\n",
       "      <td>0.0313</td>\n",
       "    </tr>\n",
       "    <tr>\n",
       "      <th>18</th>\n",
       "      <td>2</td>\n",
       "      <td>50</td>\n",
       "      <td>300</td>\n",
       "      <td>0.0313</td>\n",
       "    </tr>\n",
       "    <tr>\n",
       "      <th>16</th>\n",
       "      <td>3</td>\n",
       "      <td>50</td>\n",
       "      <td>100</td>\n",
       "      <td>0.0313</td>\n",
       "    </tr>\n",
       "  </tbody>\n",
       "</table>\n",
       "</div>"
      ],
      "text/plain": [
       "    rank_test_score  param_max_leaf_nodes  param_min_samples_leaf    bs3y\n",
       "14                1                    40                     300  0.0313\n",
       "18                2                    50                     300  0.0313\n",
       "16                3                    50                     100  0.0313"
      ]
     },
     "execution_count": 35,
     "metadata": {},
     "output_type": "execute_result"
    }
   ],
   "source": [
    "results_df = pd.DataFrame(grid_search4.cv_results_)\n",
    "# extract relevant columns\n",
    "results_df = results_df[['rank_test_score', 'param_max_leaf_nodes', 'param_min_samples_leaf', 'mean_test_score']]\n",
    "\n",
    "results_df['bs3y'] = (- results_df['mean_test_score']).round(4)\n",
    "results_df = results_df.drop(columns=['mean_test_score'])\n",
    "\n",
    "results_df = results_df.sort_values(by='rank_test_score')\n",
    "results_df.head(3)"
   ]
  },
  {
   "cell_type": "code",
   "execution_count": 36,
   "id": "5acec7df",
   "metadata": {},
   "outputs": [],
   "source": [
    "# DTC1B"
   ]
  },
  {
   "cell_type": "code",
   "execution_count": 37,
   "id": "4e519540",
   "metadata": {},
   "outputs": [
    {
     "name": "stdout",
     "output_type": "stream",
     "text": [
      "Training Time: 0.3910 seconds\n"
     ]
    }
   ],
   "source": [
    "dtc1b = DecisionTreeClassifier(criterion='log_loss', max_leaf_nodes=40, min_samples_leaf=300)\n",
    "\n",
    "# train\n",
    "start_time = time.time()\n",
    "dtc1b.fit(X_train_3y, y_train_3y)\n",
    "print(f\"Training Time: {time.time() - start_time:.4f} seconds\")"
   ]
  },
  {
   "cell_type": "code",
   "execution_count": 38,
   "id": "a0ef6540",
   "metadata": {},
   "outputs": [
    {
     "name": "stdout",
     "output_type": "stream",
     "text": [
      "Log Loss is: 0.1177\n",
      "Log Loss os: 0.1173\n",
      "BS is: 0.0307\n",
      "BS os: 0.0305\n",
      "C is: 0.8695\n"
     ]
    }
   ],
   "source": [
    "# get predicted probabilities\n",
    "y_pred_proba_train_3y = dtc1b.predict_proba(X_train_3y)[:, 1]\n",
    "y_pred_proba_test_3y = dtc1b.predict_proba(X_test_3y)[:, 1]\n",
    "\n",
    "# compute Log Loss\n",
    "logloss_train_3y = log_loss(y_train_3y, y_pred_proba_train_3y)\n",
    "logloss_test_3y = log_loss(y_test_3y, y_pred_proba_test_3y)\n",
    "\n",
    "# compute Brier\n",
    "bs_train_3y = brier_score_loss(y_train_3y, y_pred_proba_train_3y)\n",
    "bs_test_3y = brier_score_loss(y_test_3y, y_pred_proba_test_3y)\n",
    "\n",
    "# c-index\n",
    "c_is = c_index_classification(df_train['MORTSTAT'], y_pred_proba_train_3y, df_train['TIMETOEVENT'])\n",
    "\n",
    "print(f'Log Loss is: {logloss_train_3y:.4f}')\n",
    "print(f'Log Loss os: {logloss_test_3y:.4f}')\n",
    "print(f'BS is: {bs_train_3y:.4f}')\n",
    "print(f'BS os: {bs_test_3y:.4f}')\n",
    "print(f'C is: {c_is:.4f}')"
   ]
  },
  {
   "cell_type": "code",
   "execution_count": 39,
   "id": "c5919b04",
   "metadata": {},
   "outputs": [],
   "source": [
    "# DTC2B"
   ]
  },
  {
   "cell_type": "code",
   "execution_count": 40,
   "id": "66024490",
   "metadata": {},
   "outputs": [
    {
     "name": "stdout",
     "output_type": "stream",
     "text": [
      "Training Time: 0.4584 seconds\n"
     ]
    }
   ],
   "source": [
    "dtc2b = DecisionTreeClassifier(criterion='log_loss', max_leaf_nodes=50, min_samples_leaf=300)\n",
    "\n",
    "# train\n",
    "start_time = time.time()\n",
    "dtc2b.fit(X_train_3y, y_train_3y)\n",
    "print(f\"Training Time: {time.time() - start_time:.4f} seconds\")"
   ]
  },
  {
   "cell_type": "code",
   "execution_count": 41,
   "id": "43e1518f",
   "metadata": {},
   "outputs": [
    {
     "name": "stdout",
     "output_type": "stream",
     "text": [
      "Log Loss is: 0.1170\n",
      "Log Loss os: 0.1169\n",
      "BS is: 0.0307\n",
      "BS os: 0.0304\n",
      "C is: 0.8719\n"
     ]
    }
   ],
   "source": [
    "# get predicted probabilities\n",
    "y_pred_proba_train_3y = dtc2b.predict_proba(X_train_3y)[:, 1]\n",
    "y_pred_proba_test_3y = dtc2b.predict_proba(X_test_3y)[:, 1]\n",
    "\n",
    "# compute Log Loss\n",
    "logloss_train_3y = log_loss(y_train_3y, y_pred_proba_train_3y)\n",
    "logloss_test_3y = log_loss(y_test_3y, y_pred_proba_test_3y)\n",
    "\n",
    "# compute Brier\n",
    "bs_train_3y = brier_score_loss(y_train_3y, y_pred_proba_train_3y)\n",
    "bs_test_3y = brier_score_loss(y_test_3y, y_pred_proba_test_3y)\n",
    "\n",
    "# c-index\n",
    "c_is = c_index_classification(df_train['MORTSTAT'], y_pred_proba_train_3y, df_train['TIMETOEVENT'])\n",
    "\n",
    "print(f'Log Loss is: {logloss_train_3y:.4f}')\n",
    "print(f'Log Loss os: {logloss_test_3y:.4f}')\n",
    "print(f'BS is: {bs_train_3y:.4f}')\n",
    "print(f'BS os: {bs_test_3y:.4f}')\n",
    "print(f'C is: {c_is:.4f}')"
   ]
  },
  {
   "cell_type": "code",
   "execution_count": 42,
   "id": "fac5f191",
   "metadata": {},
   "outputs": [],
   "source": [
    "# DTC3B"
   ]
  },
  {
   "cell_type": "code",
   "execution_count": 43,
   "id": "5895763e",
   "metadata": {},
   "outputs": [
    {
     "name": "stdout",
     "output_type": "stream",
     "text": [
      "Training Time: 0.3893 seconds\n"
     ]
    }
   ],
   "source": [
    "dtc3b = DecisionTreeClassifier(criterion='log_loss', max_leaf_nodes=50, min_samples_leaf=100)\n",
    "\n",
    "# train\n",
    "start_time = time.time()\n",
    "dtc3b.fit(X_train_3y, y_train_3y)\n",
    "print(f\"Training Time: {time.time() - start_time:.4f} seconds\")"
   ]
  },
  {
   "cell_type": "code",
   "execution_count": 44,
   "id": "6a1d59e9",
   "metadata": {},
   "outputs": [
    {
     "name": "stdout",
     "output_type": "stream",
     "text": [
      "Log Loss is: 0.1162\n",
      "Log Loss os: 0.1175\n",
      "BS is: 0.0304\n",
      "BS os: 0.0305\n",
      "C is: 0.8727\n"
     ]
    }
   ],
   "source": [
    "# get predicted probabilities\n",
    "y_pred_proba_train_3y = dtc3b.predict_proba(X_train_3y)[:, 1]\n",
    "y_pred_proba_test_3y = dtc3b.predict_proba(X_test_3y)[:, 1]\n",
    "\n",
    "# compute Log Loss\n",
    "logloss_train_3y = log_loss(y_train_3y, y_pred_proba_train_3y)\n",
    "logloss_test_3y = log_loss(y_test_3y, y_pred_proba_test_3y)\n",
    "\n",
    "# compute Brier\n",
    "bs_train_3y = brier_score_loss(y_train_3y, y_pred_proba_train_3y)\n",
    "bs_test_3y = brier_score_loss(y_test_3y, y_pred_proba_test_3y)\n",
    "\n",
    "# c-index\n",
    "c_is = c_index_classification(df_train['MORTSTAT'], y_pred_proba_train_3y, df_train['TIMETOEVENT'])\n",
    "\n",
    "print(f'Log Loss is: {logloss_train_3y:.4f}')\n",
    "print(f'Log Loss os: {logloss_test_3y:.4f}')\n",
    "print(f'BS is: {bs_train_3y:.4f}')\n",
    "print(f'BS os: {bs_test_3y:.4f}')\n",
    "print(f'C is: {c_is:.4f}')"
   ]
  },
  {
   "cell_type": "code",
   "execution_count": null,
   "id": "5e366b62",
   "metadata": {},
   "outputs": [],
   "source": []
  },
  {
   "cell_type": "code",
   "execution_count": null,
   "id": "a2a9a856",
   "metadata": {},
   "outputs": [],
   "source": []
  }
 ],
 "metadata": {
  "kernelspec": {
   "display_name": "Python 3 (ipykernel)",
   "language": "python",
   "name": "python3"
  },
  "language_info": {
   "codemirror_mode": {
    "name": "ipython",
    "version": 3
   },
   "file_extension": ".py",
   "mimetype": "text/x-python",
   "name": "python",
   "nbconvert_exporter": "python",
   "pygments_lexer": "ipython3",
   "version": "3.11.5"
  }
 },
 "nbformat": 4,
 "nbformat_minor": 5
}
