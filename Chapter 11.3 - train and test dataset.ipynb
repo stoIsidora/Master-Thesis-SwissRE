{
 "cells": [
  {
   "cell_type": "code",
   "execution_count": 2,
   "id": "cc6d0a1a",
   "metadata": {},
   "outputs": [],
   "source": [
    "import pandas as pd\n",
    "import numpy as np\n",
    "from sklearn.model_selection import train_test_split"
   ]
  },
  {
   "cell_type": "code",
   "execution_count": null,
   "id": "c6156aa3",
   "metadata": {},
   "outputs": [],
   "source": []
  },
  {
   "cell_type": "code",
   "execution_count": null,
   "id": "d154612b",
   "metadata": {},
   "outputs": [],
   "source": []
  },
  {
   "cell_type": "code",
   "execution_count": 3,
   "id": "2fada5f2",
   "metadata": {},
   "outputs": [],
   "source": [
    "df = pd.read_csv('df2016.csv')"
   ]
  },
  {
   "cell_type": "code",
   "execution_count": 4,
   "id": "f7c86073",
   "metadata": {},
   "outputs": [],
   "source": [
    "# split on train and test set\n",
    "df_train, df_test = train_test_split(df, test_size=0.2, random_state=23)"
   ]
  },
  {
   "cell_type": "code",
   "execution_count": 5,
   "id": "248825b1",
   "metadata": {},
   "outputs": [],
   "source": [
    "# D_train"
   ]
  },
  {
   "cell_type": "code",
   "execution_count": 6,
   "id": "c0b552db",
   "metadata": {},
   "outputs": [
    {
     "name": "stdout",
     "output_type": "stream",
     "text": [
      "number of samples: 82720\n",
      "non-censored: 5.58%\n",
      "censored: 94.42%\n"
     ]
    }
   ],
   "source": [
    "print(\"number of samples:\", len(df_train))\n",
    "print(f\"non-censored: {len(df_train[df_train['MORTSTAT'] == 1]) / len(df_train) * 100:.2f}%\")\n",
    "print(f\"censored: {len(df_train[df_train['MORTSTAT'] == 0]) / len(df_train) * 100:.2f}%\")"
   ]
  },
  {
   "cell_type": "code",
   "execution_count": 7,
   "id": "4b4965e3",
   "metadata": {},
   "outputs": [],
   "source": [
    "# D_test"
   ]
  },
  {
   "cell_type": "code",
   "execution_count": 8,
   "id": "67ecf46b",
   "metadata": {},
   "outputs": [
    {
     "name": "stdout",
     "output_type": "stream",
     "text": [
      "number of samples: 20680\n",
      "non-censored: 5.44%\n",
      "censored: 94.56%\n"
     ]
    }
   ],
   "source": [
    "print(\"number of samples:\", len(df_test))\n",
    "print(f\"non-censored: {len(df_test[df_test['MORTSTAT'] == 1]) / len(df_test) * 100:.2f}%\")\n",
    "print(f\"censored: {len(df_test[df_test['MORTSTAT'] == 0]) / len(df_test) * 100:.2f}%\")"
   ]
  },
  {
   "cell_type": "code",
   "execution_count": 10,
   "id": "4a793569",
   "metadata": {},
   "outputs": [],
   "source": [
    "# save"
   ]
  },
  {
   "cell_type": "code",
   "execution_count": 9,
   "id": "8f44a874",
   "metadata": {},
   "outputs": [],
   "source": [
    "# save training dataset\n",
    "df_train.to_csv(\"df_train.csv\", index=False)\n",
    "# save test dataset\n",
    "df_test.to_csv(\"df_test.csv\", index=False)"
   ]
  }
 ],
 "metadata": {
  "kernelspec": {
   "display_name": "Python 3 (ipykernel)",
   "language": "python",
   "name": "python3"
  },
  "language_info": {
   "codemirror_mode": {
    "name": "ipython",
    "version": 3
   },
   "file_extension": ".py",
   "mimetype": "text/x-python",
   "name": "python",
   "nbconvert_exporter": "python",
   "pygments_lexer": "ipython3",
   "version": "3.11.5"
  }
 },
 "nbformat": 4,
 "nbformat_minor": 5
}
