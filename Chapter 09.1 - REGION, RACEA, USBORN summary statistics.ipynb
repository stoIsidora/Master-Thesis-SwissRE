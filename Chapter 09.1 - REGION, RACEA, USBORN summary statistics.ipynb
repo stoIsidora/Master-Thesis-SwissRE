{
 "cells": [
  {
   "cell_type": "code",
   "execution_count": 2,
   "id": "67cfb569",
   "metadata": {},
   "outputs": [],
   "source": [
    "import pandas as pd\n",
    "import numpy as np\n",
    "import matplotlib.colors as mcolors\n",
    "import matplotlib.pyplot as plt"
   ]
  },
  {
   "cell_type": "code",
   "execution_count": null,
   "id": "063f0e57",
   "metadata": {},
   "outputs": [],
   "source": []
  },
  {
   "cell_type": "code",
   "execution_count": null,
   "id": "0516ee59",
   "metadata": {},
   "outputs": [],
   "source": [
    "# REGION"
   ]
  },
  {
   "cell_type": "code",
   "execution_count": 4,
   "id": "273828ac",
   "metadata": {},
   "outputs": [],
   "source": [
    "df_region = pd.read_csv('thesis__data_res.csv', usecols = ['MORTSTAT', 'REGION'])"
   ]
  },
  {
   "cell_type": "code",
   "execution_count": 5,
   "id": "a36172c1",
   "metadata": {},
   "outputs": [],
   "source": [
    "# use only samples available for mortality tracking\n",
    "df_region = df_region[(df_region['MORTSTAT']==1) | (df_region['MORTSTAT']==2)]"
   ]
  },
  {
   "cell_type": "code",
   "execution_count": 8,
   "id": "bf53c0f5",
   "metadata": {},
   "outputs": [],
   "source": [
    "# recode\n",
    "df_region['REGION'] = df_region['REGION'].replace(1, 'Northeast')\n",
    "df_region['REGION'] = df_region['REGION'].replace(2, 'North Central/Midwest')\n",
    "df_region['REGION'] = df_region['REGION'].replace(3, 'South')\n",
    "df_region['REGION'] = df_region['REGION'].replace(4, 'West')"
   ]
  },
  {
   "cell_type": "code",
   "execution_count": 11,
   "id": "d95dd1d1",
   "metadata": {},
   "outputs": [
    {
     "data": {
      "text/plain": [
       "REGION\n",
       "South                    35.402998\n",
       "West                     23.303681\n",
       "North Central/Midwest    22.540039\n",
       "Northeast                18.753283\n",
       "Name: count, dtype: float64"
      ]
     },
     "execution_count": 11,
     "metadata": {},
     "output_type": "execute_result"
    }
   ],
   "source": [
    "# summary statistics\n",
    "df_region['REGION'].value_counts() / len(df_region) * 100"
   ]
  },
  {
   "cell_type": "code",
   "execution_count": null,
   "id": "57534b03",
   "metadata": {},
   "outputs": [],
   "source": []
  },
  {
   "cell_type": "code",
   "execution_count": null,
   "id": "077f6bfa",
   "metadata": {},
   "outputs": [],
   "source": [
    "# RACEA"
   ]
  },
  {
   "cell_type": "code",
   "execution_count": 12,
   "id": "45070aa5",
   "metadata": {},
   "outputs": [],
   "source": [
    "df_racea = pd.read_csv('thesis__data_res.csv', usecols = ['RACEA', 'MORTSTAT'])"
   ]
  },
  {
   "cell_type": "code",
   "execution_count": 16,
   "id": "4e61e29b",
   "metadata": {},
   "outputs": [],
   "source": [
    "# use only samples available for mortality tracking\n",
    "df_racea = df_racea[(df_racea['MORTSTAT']==1) | (df_racea['MORTSTAT']==2)]"
   ]
  },
  {
   "cell_type": "code",
   "execution_count": 17,
   "id": "c4224243",
   "metadata": {},
   "outputs": [],
   "source": [
    "# fix universe\n",
    "df_racea = df_racea[(df_racea['RACEA']<900)]\n",
    "\n",
    "# group\n",
    "df_racea['RACEA_group'] = df_racea['RACEA'] // 100 "
   ]
  },
  {
   "cell_type": "code",
   "execution_count": 18,
   "id": "2dbaea79",
   "metadata": {},
   "outputs": [],
   "source": [
    "# recode\n",
    "df_racea['RACEA_group'] = df_racea['RACEA_group'].replace(1, 'white')\n",
    "df_racea['RACEA_group'] = df_racea['RACEA_group'].replace(2, 'black')\n",
    "df_racea['RACEA_group'] = df_racea['RACEA_group'].replace(3, 'other')\n",
    "df_racea['RACEA_group'] = df_racea['RACEA_group'].replace(4, 'Asian')\n",
    "df_racea['RACEA_group'] = df_racea['RACEA_group'].replace(5, 'other')\n",
    "df_racea['RACEA_group'] = df_racea['RACEA_group'].replace(6, 'other')"
   ]
  },
  {
   "cell_type": "code",
   "execution_count": 19,
   "id": "d411adeb",
   "metadata": {},
   "outputs": [
    {
     "data": {
      "text/plain": [
       "RACEA_group\n",
       "white    79.105401\n",
       "black    13.685274\n",
       "Asian     4.119390\n",
       "other     2.761067\n",
       "Name: count, dtype: float64"
      ]
     },
     "execution_count": 19,
     "metadata": {},
     "output_type": "execute_result"
    }
   ],
   "source": [
    "# summary statistics\n",
    "df_racea['RACEA_group'].value_counts() / len(df_region) * 100"
   ]
  },
  {
   "cell_type": "code",
   "execution_count": null,
   "id": "c7d0249c",
   "metadata": {},
   "outputs": [],
   "source": []
  },
  {
   "cell_type": "code",
   "execution_count": 20,
   "id": "77d455b4",
   "metadata": {},
   "outputs": [],
   "source": [
    "# USBORN"
   ]
  },
  {
   "cell_type": "code",
   "execution_count": 47,
   "id": "9551cad5",
   "metadata": {},
   "outputs": [],
   "source": [
    "df_usborn = pd.read_csv('thesis__data_res.csv', usecols = ['MORTSTAT', 'USBORN'])"
   ]
  },
  {
   "cell_type": "code",
   "execution_count": 48,
   "id": "53d19efb",
   "metadata": {},
   "outputs": [],
   "source": [
    "# use only samples available for mortality tracking\n",
    "df_usborn = df_usborn[(df_usborn['MORTSTAT']==1) | (df_usborn['MORTSTAT']==2)]"
   ]
  },
  {
   "cell_type": "code",
   "execution_count": 49,
   "id": "90cc3764",
   "metadata": {},
   "outputs": [],
   "source": [
    "# fix universe\n",
    "df_usborn = df_usborn[(df_usborn['USBORN']<=20)]\n",
    "\n",
    "#group\n",
    "df_usborn['USBORN'] = df_usborn['USBORN'].apply(lambda x: 10 if 10 <= x <= 12 else x)"
   ]
  },
  {
   "cell_type": "code",
   "execution_count": 50,
   "id": "2594af05",
   "metadata": {},
   "outputs": [],
   "source": [
    "# recode\n",
    "df_usborn['USBORN'] = df_usborn['USBORN'].replace(20, 'yes')\n",
    "df_usborn['USBORN'] = df_usborn['USBORN'].replace(10, 'no')"
   ]
  },
  {
   "cell_type": "code",
   "execution_count": 53,
   "id": "c743234d",
   "metadata": {},
   "outputs": [
    {
     "data": {
      "text/plain": [
       "USBORN\n",
       "yes    79.987959\n",
       "no     20.012041\n",
       "Name: count, dtype: float64"
      ]
     },
     "execution_count": 53,
     "metadata": {},
     "output_type": "execute_result"
    }
   ],
   "source": [
    "# summary statistics\n",
    "df_usborn['USBORN'].value_counts() / len(df_usborn) * 100"
   ]
  }
 ],
 "metadata": {
  "kernelspec": {
   "display_name": "Python 3 (ipykernel)",
   "language": "python",
   "name": "python3"
  },
  "language_info": {
   "codemirror_mode": {
    "name": "ipython",
    "version": 3
   },
   "file_extension": ".py",
   "mimetype": "text/x-python",
   "name": "python",
   "nbconvert_exporter": "python",
   "pygments_lexer": "ipython3",
   "version": "3.11.5"
  }
 },
 "nbformat": 4,
 "nbformat_minor": 5
}
