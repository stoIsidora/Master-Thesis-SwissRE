{
 "cells": [
  {
   "cell_type": "code",
   "execution_count": 2,
   "id": "85bc1104",
   "metadata": {},
   "outputs": [],
   "source": [
    "import pandas as pd\n",
    "import numpy as np\n",
    "import time\n",
    "import matplotlib.colors as mcolors\n",
    "from lifelines.utils import concordance_index\n",
    "from sklearn.model_selection import GridSearchCV\n",
    "from sklearn.metrics import log_loss\n",
    "from sklearn.metrics import brier_score_loss\n",
    "import matplotlib.ticker as mticker\n",
    "from sklearn.ensemble import RandomForestClassifier  \n",
    "from itertools import product\n",
    "import matplotlib.pyplot as plt"
   ]
  },
  {
   "cell_type": "code",
   "execution_count": null,
   "id": "d1d77135",
   "metadata": {},
   "outputs": [],
   "source": []
  },
  {
   "cell_type": "code",
   "execution_count": null,
   "id": "0083585e",
   "metadata": {},
   "outputs": [],
   "source": []
  },
  {
   "cell_type": "code",
   "execution_count": 3,
   "id": "e021c51b",
   "metadata": {},
   "outputs": [],
   "source": [
    "df_train = pd.read_csv('df_train.csv')\n",
    "df_test = pd.read_csv('df_test.csv')"
   ]
  },
  {
   "cell_type": "code",
   "execution_count": 4,
   "id": "a451c853",
   "metadata": {},
   "outputs": [],
   "source": [
    "# define three-year mortalitty status\n",
    "df_train.loc[:,'MORTSTAT3Y'] = np.where((df_train[\"MORTSTAT\"] == 1) & (df_train[\"TIMETOEVENT\"] <= 3), 1, 0)\n",
    "df_test.loc[:,'MORTSTAT3Y'] = np.where((df_test[\"MORTSTAT\"] == 1) & (df_test[\"TIMETOEVENT\"] <= 3), 1, 0)"
   ]
  },
  {
   "cell_type": "code",
   "execution_count": null,
   "id": "7146f5ae",
   "metadata": {},
   "outputs": [],
   "source": []
  },
  {
   "cell_type": "code",
   "execution_count": null,
   "id": "e24e717a",
   "metadata": {},
   "outputs": [],
   "source": []
  },
  {
   "cell_type": "code",
   "execution_count": 5,
   "id": "954b1661",
   "metadata": {},
   "outputs": [],
   "source": [
    "# select features and target\n",
    "X_train_3y = df_train.drop(columns=['MORTSTAT3Y', 'TIMETOEVENT', 'MORTSTAT'])\n",
    "y_train_3y = df_train['MORTSTAT3Y']\n",
    "\n",
    "X_test_3y = df_test.drop(columns=['MORTSTAT3Y', 'TIMETOEVENT', 'MORTSTAT'])\n",
    "y_test_3y = df_test['MORTSTAT3Y']"
   ]
  },
  {
   "cell_type": "code",
   "execution_count": 6,
   "id": "07f441fb",
   "metadata": {},
   "outputs": [],
   "source": [
    "def c_index_classification(y_true, y_pred_proba, times):\n",
    "    y_true = np.asarray(y_true)\n",
    "    y_pred_proba = np.asarray(y_pred_proba)\n",
    "    times = np.asarray(times)\n",
    "    cc = dc = tp = 0\n",
    "\n",
    "    n = len(y_true)\n",
    "    for i in range(n):\n",
    "        for j in range(n):\n",
    "            if i == j:\n",
    "                continue\n",
    "            if times[i] < times[j] and y_true[i] == 1:\n",
    "                if y_pred_proba[i] > y_pred_proba[j]:\n",
    "                    cc += 1\n",
    "                elif y_pred_proba[i] < y_pred_proba[j]:\n",
    "                    dc += 1\n",
    "                else:\n",
    "                    tp += 1\n",
    "\n",
    "        \n",
    "    return (cc + 0.5 * tp) / (cc + dc + tp)"
   ]
  },
  {
   "cell_type": "code",
   "execution_count": null,
   "id": "0ca2ab3f",
   "metadata": {},
   "outputs": [],
   "source": []
  },
  {
   "cell_type": "code",
   "execution_count": 7,
   "id": "4b61b7c7",
   "metadata": {},
   "outputs": [],
   "source": [
    "# RandomForestClassifier"
   ]
  },
  {
   "cell_type": "code",
   "execution_count": 8,
   "id": "29656284",
   "metadata": {},
   "outputs": [],
   "source": [
    "# grid search "
   ]
  },
  {
   "cell_type": "code",
   "execution_count": 9,
   "id": "64160abf",
   "metadata": {},
   "outputs": [
    {
     "name": "stdout",
     "output_type": "stream",
     "text": [
      "Fitting 4 folds for each of 144 candidates, totalling 576 fits\n"
     ]
    },
    {
     "name": "stderr",
     "output_type": "stream",
     "text": [
      "C:\\ProgramData\\anaconda3\\Lib\\site-packages\\numpy\\ma\\core.py:2820: RuntimeWarning: invalid value encountered in cast\n",
      "  _data = np.array(data, dtype=dtype, copy=copy,\n"
     ]
    },
    {
     "name": "stdout",
     "output_type": "stream",
     "text": [
      "{'max_features': None, 'max_leaf_nodes': 50, 'max_samples': 0.1, 'n_estimators': 200}\n"
     ]
    }
   ],
   "source": [
    "param_grid = {'n_estimators': [100, 150, 200],\n",
    "              'max_leaf_nodes': [20, 30, 40, 50],\n",
    "              'max_features': [20, 30, 40, None],\n",
    "              'max_samples': [0.1, 0.2, 0.4]}\n",
    "\n",
    "grid_search1 = GridSearchCV(RandomForestClassifier(random_state=42, criterion='log_loss'), param_grid, cv=4, scoring='neg_log_loss', n_jobs=-1, verbose=2)\n",
    "grid_search1.fit(X_train_3y, y_train_3y)\n",
    "\n",
    "print(grid_search1.best_params_)"
   ]
  },
  {
   "cell_type": "code",
   "execution_count": 10,
   "id": "12bd6b44",
   "metadata": {},
   "outputs": [
    {
     "data": {
      "text/html": [
       "<div>\n",
       "<style scoped>\n",
       "    .dataframe tbody tr th:only-of-type {\n",
       "        vertical-align: middle;\n",
       "    }\n",
       "\n",
       "    .dataframe tbody tr th {\n",
       "        vertical-align: top;\n",
       "    }\n",
       "\n",
       "    .dataframe thead th {\n",
       "        text-align: right;\n",
       "    }\n",
       "</style>\n",
       "<table border=\"1\" class=\"dataframe\">\n",
       "  <thead>\n",
       "    <tr style=\"text-align: right;\">\n",
       "      <th></th>\n",
       "      <th>rank_test_score</th>\n",
       "      <th>param_n_estimators</th>\n",
       "      <th>param_max_leaf_nodes</th>\n",
       "      <th>param_max_features</th>\n",
       "      <th>param_max_samples</th>\n",
       "      <th>ll3y</th>\n",
       "    </tr>\n",
       "  </thead>\n",
       "  <tbody>\n",
       "    <tr>\n",
       "      <th>137</th>\n",
       "      <td>1</td>\n",
       "      <td>200</td>\n",
       "      <td>50</td>\n",
       "      <td>None</td>\n",
       "      <td>0.1</td>\n",
       "      <td>0.114</td>\n",
       "    </tr>\n",
       "    <tr>\n",
       "      <th>136</th>\n",
       "      <td>2</td>\n",
       "      <td>150</td>\n",
       "      <td>50</td>\n",
       "      <td>None</td>\n",
       "      <td>0.1</td>\n",
       "      <td>0.114</td>\n",
       "    </tr>\n",
       "    <tr>\n",
       "      <th>101</th>\n",
       "      <td>3</td>\n",
       "      <td>200</td>\n",
       "      <td>50</td>\n",
       "      <td>40</td>\n",
       "      <td>0.1</td>\n",
       "      <td>0.114</td>\n",
       "    </tr>\n",
       "  </tbody>\n",
       "</table>\n",
       "</div>"
      ],
      "text/plain": [
       "     rank_test_score  param_n_estimators  param_max_leaf_nodes  \\\n",
       "137                1                 200                    50   \n",
       "136                2                 150                    50   \n",
       "101                3                 200                    50   \n",
       "\n",
       "    param_max_features  param_max_samples   ll3y  \n",
       "137               None                0.1  0.114  \n",
       "136               None                0.1  0.114  \n",
       "101                 40                0.1  0.114  "
      ]
     },
     "execution_count": 10,
     "metadata": {},
     "output_type": "execute_result"
    }
   ],
   "source": [
    "results_df = pd.DataFrame(grid_search1.cv_results_)\n",
    "\n",
    "# extract relevant columns\n",
    "results_df = results_df[['rank_test_score', 'param_n_estimators', 'param_max_leaf_nodes', 'param_max_features', 'param_max_samples', 'mean_test_score']]\n",
    "results_df['ll3y'] = (- results_df['mean_test_score']).round(4)\n",
    "results_df = results_df.drop(columns=['mean_test_score'])\n",
    "\n",
    "results_df = results_df.sort_values(by='rank_test_score')\n",
    "results_df.head(3)"
   ]
  },
  {
   "cell_type": "code",
   "execution_count": 11,
   "id": "f67870b2",
   "metadata": {},
   "outputs": [],
   "source": [
    "# RFC1L"
   ]
  },
  {
   "cell_type": "code",
   "execution_count": 12,
   "id": "ed25f309",
   "metadata": {},
   "outputs": [
    {
     "name": "stdout",
     "output_type": "stream",
     "text": [
      "Training Time: 40.8231 seconds\n"
     ]
    }
   ],
   "source": [
    "rfc1l = RandomForestClassifier(criterion= 'log_loss', random_state=42,\n",
    "                               n_estimators=200, max_leaf_nodes=50, max_features=None, max_samples=0.1)\n",
    "# train\n",
    "start_time = time.time()\n",
    "rfc1l.fit(X_train_3y, y_train_3y)\n",
    "print(f\"Training Time: {time.time() - start_time:.4f} seconds\")"
   ]
  },
  {
   "cell_type": "code",
   "execution_count": 13,
   "id": "c3ff1abd",
   "metadata": {},
   "outputs": [
    {
     "name": "stdout",
     "output_type": "stream",
     "text": [
      "Log Loss is: 0.1077\n",
      "Log Loss os: 0.1105\n",
      "BS is: 0.0291\n",
      "BS os: 0.0293\n",
      "C is: 0.9028\n"
     ]
    }
   ],
   "source": [
    "# get predicted probabilities\n",
    "y_pred_proba_train_3y = rfc1l.predict_proba(X_train_3y)[:, 1]\n",
    "y_pred_proba_test_3y = rfc1l.predict_proba(X_test_3y)[:, 1]\n",
    "\n",
    "# compute log loss\n",
    "logloss_train_3y = log_loss(y_train_3y, y_pred_proba_train_3y)\n",
    "logloss_test_3y = log_loss(y_test_3y, y_pred_proba_test_3y)\n",
    "\n",
    "# compute Brier\n",
    "bs_train_3y = brier_score_loss(y_train_3y, y_pred_proba_train_3y)\n",
    "bs_test_3y = brier_score_loss(y_test_3y, y_pred_proba_test_3y)\n",
    "\n",
    "# c-index\n",
    "c_is = c_index_classification(df_train['MORTSTAT'], y_pred_proba_train_3y, df_train['TIMETOEVENT'])\n",
    "\n",
    "print(f'Log Loss is: {logloss_train_3y:.4f}')\n",
    "print(f'Log Loss os: {logloss_test_3y:.4f}')\n",
    "print(f'BS is: {bs_train_3y:.4f}')\n",
    "print(f'BS os: {bs_test_3y:.4f}')\n",
    "print(f'C is: {c_is:.4f}')"
   ]
  },
  {
   "cell_type": "code",
   "execution_count": 14,
   "id": "f27ade0d",
   "metadata": {},
   "outputs": [],
   "source": [
    "# RFC2L"
   ]
  },
  {
   "cell_type": "code",
   "execution_count": 15,
   "id": "8e7cb5d6",
   "metadata": {},
   "outputs": [
    {
     "name": "stdout",
     "output_type": "stream",
     "text": [
      "Training Time: 7.7297 seconds\n"
     ]
    }
   ],
   "source": [
    "rfc2l = RandomForestClassifier(criterion= 'log_loss', random_state=42,\n",
    "                               n_estimators=150, max_leaf_nodes=50, max_features=None, max_samples=0.1)\n",
    "# train\n",
    "start_time = time.time()\n",
    "rfc2l.fit(X_train_3y, y_train_3y)\n",
    "print(f\"Training Time: {time.time() - start_time:.4f} seconds\")"
   ]
  },
  {
   "cell_type": "code",
   "execution_count": 16,
   "id": "201f4982",
   "metadata": {},
   "outputs": [
    {
     "name": "stdout",
     "output_type": "stream",
     "text": [
      "Log Loss is: 0.1077\n",
      "Log Loss os: 0.1105\n",
      "BS is: 0.0291\n",
      "BS os: 0.0293\n",
      "C is: 0.9023\n"
     ]
    }
   ],
   "source": [
    "# get predicted probabilities\n",
    "y_pred_proba_train_3y = rfc2l.predict_proba(X_train_3y)[:, 1]\n",
    "y_pred_proba_test_3y = rfc2l.predict_proba(X_test_3y)[:, 1]\n",
    "\n",
    "# compute log loss\n",
    "logloss_train_3y = log_loss(y_train_3y, y_pred_proba_train_3y)\n",
    "logloss_test_3y = log_loss(y_test_3y, y_pred_proba_test_3y)\n",
    "\n",
    "# compute Brier\n",
    "bs_train_3y = brier_score_loss(y_train_3y, y_pred_proba_train_3y)\n",
    "bs_test_3y = brier_score_loss(y_test_3y, y_pred_proba_test_3y)\n",
    "\n",
    "# c-index\n",
    "c_is = c_index_classification(df_train['MORTSTAT'], y_pred_proba_train_3y, df_train['TIMETOEVENT'])\n",
    "\n",
    "print(f'Log Loss is: {logloss_train_3y:.4f}')\n",
    "print(f'Log Loss os: {logloss_test_3y:.4f}')\n",
    "print(f'BS is: {bs_train_3y:.4f}')\n",
    "print(f'BS os: {bs_test_3y:.4f}')\n",
    "print(f'C is: {c_is:.4f}')"
   ]
  },
  {
   "cell_type": "code",
   "execution_count": 17,
   "id": "15699eff",
   "metadata": {},
   "outputs": [],
   "source": [
    "# RFC3l"
   ]
  },
  {
   "cell_type": "code",
   "execution_count": 18,
   "id": "cd7685a7",
   "metadata": {},
   "outputs": [
    {
     "name": "stdout",
     "output_type": "stream",
     "text": [
      "Training Time: 9.8758 seconds\n"
     ]
    }
   ],
   "source": [
    "rfc3l = RandomForestClassifier(criterion= 'log_loss', random_state=42,\n",
    "                               n_estimators=200, max_leaf_nodes=50, max_features=40, max_samples=0.1)\n",
    "# train\n",
    "start_time = time.time()\n",
    "rfc3l.fit(X_train_3y, y_train_3y)\n",
    "print(f\"Training Time: {time.time() - start_time:.4f} seconds\")"
   ]
  },
  {
   "cell_type": "code",
   "execution_count": 19,
   "id": "b9932bac",
   "metadata": {},
   "outputs": [
    {
     "name": "stdout",
     "output_type": "stream",
     "text": [
      "Log Loss is: 0.1080\n",
      "Log Loss os: 0.1106\n",
      "BS is: 0.0291\n",
      "BS os: 0.0293\n",
      "C is: 0.9024\n"
     ]
    }
   ],
   "source": [
    "# get predicted probabilities\n",
    "y_pred_proba_train_3y = rfc3l.predict_proba(X_train_3y)[:, 1]\n",
    "y_pred_proba_test_3y = rfc3l.predict_proba(X_test_3y)[:, 1]\n",
    "\n",
    "# compute log loss\n",
    "logloss_train_3y = log_loss(y_train_3y, y_pred_proba_train_3y)\n",
    "logloss_test_3y = log_loss(y_test_3y, y_pred_proba_test_3y)\n",
    "\n",
    "# compute Brier\n",
    "bs_train_3y = brier_score_loss(y_train_3y, y_pred_proba_train_3y)\n",
    "bs_test_3y = brier_score_loss(y_test_3y, y_pred_proba_test_3y)\n",
    "\n",
    "# c-index\n",
    "c_is = c_index_classification(df_train['MORTSTAT'], y_pred_proba_train_3y, df_train['TIMETOEVENT'])\n",
    "\n",
    "print(f'Log Loss is: {logloss_train_3y:.4f}')\n",
    "print(f'Log Loss os: {logloss_test_3y:.4f}')\n",
    "print(f'BS is: {bs_train_3y:.4f}')\n",
    "print(f'BS os: {bs_test_3y:.4f}')\n",
    "print(f'C is: {c_is:.4f}')"
   ]
  },
  {
   "cell_type": "code",
   "execution_count": 20,
   "id": "13628759",
   "metadata": {},
   "outputs": [],
   "source": [
    "# grid search 2 brier-score"
   ]
  },
  {
   "cell_type": "code",
   "execution_count": 21,
   "id": "ae4790df",
   "metadata": {},
   "outputs": [
    {
     "name": "stdout",
     "output_type": "stream",
     "text": [
      "Fitting 4 folds for each of 144 candidates, totalling 576 fits\n"
     ]
    },
    {
     "name": "stderr",
     "output_type": "stream",
     "text": [
      "C:\\ProgramData\\anaconda3\\Lib\\site-packages\\numpy\\ma\\core.py:2820: RuntimeWarning: invalid value encountered in cast\n",
      "  _data = np.array(data, dtype=dtype, copy=copy,\n"
     ]
    },
    {
     "name": "stdout",
     "output_type": "stream",
     "text": [
      "{'max_features': None, 'max_leaf_nodes': 50, 'max_samples': 0.1, 'n_estimators': 200}\n"
     ]
    }
   ],
   "source": [
    "grid_search = GridSearchCV(RandomForestClassifier(random_state=42, criterion='log_loss'), param_grid, cv=4, scoring='neg_brier_score', n_jobs=-1, verbose=2)\n",
    "grid_search.fit(X_train_3y, y_train_3y)\n",
    "\n",
    "print(grid_search.best_params_)"
   ]
  },
  {
   "cell_type": "code",
   "execution_count": 22,
   "id": "2efd84c6",
   "metadata": {},
   "outputs": [
    {
     "data": {
      "text/html": [
       "<div>\n",
       "<style scoped>\n",
       "    .dataframe tbody tr th:only-of-type {\n",
       "        vertical-align: middle;\n",
       "    }\n",
       "\n",
       "    .dataframe tbody tr th {\n",
       "        vertical-align: top;\n",
       "    }\n",
       "\n",
       "    .dataframe thead th {\n",
       "        text-align: right;\n",
       "    }\n",
       "</style>\n",
       "<table border=\"1\" class=\"dataframe\">\n",
       "  <thead>\n",
       "    <tr style=\"text-align: right;\">\n",
       "      <th></th>\n",
       "      <th>rank_test_score</th>\n",
       "      <th>param_n_estimators</th>\n",
       "      <th>param_max_leaf_nodes</th>\n",
       "      <th>param_max_features</th>\n",
       "      <th>param_max_samples</th>\n",
       "      <th>ll3y</th>\n",
       "    </tr>\n",
       "  </thead>\n",
       "  <tbody>\n",
       "    <tr>\n",
       "      <th>137</th>\n",
       "      <td>1</td>\n",
       "      <td>200</td>\n",
       "      <td>50</td>\n",
       "      <td>None</td>\n",
       "      <td>0.1</td>\n",
       "      <td>0.03</td>\n",
       "    </tr>\n",
       "    <tr>\n",
       "      <th>101</th>\n",
       "      <td>2</td>\n",
       "      <td>200</td>\n",
       "      <td>50</td>\n",
       "      <td>40</td>\n",
       "      <td>0.1</td>\n",
       "      <td>0.03</td>\n",
       "    </tr>\n",
       "    <tr>\n",
       "      <th>136</th>\n",
       "      <td>3</td>\n",
       "      <td>150</td>\n",
       "      <td>50</td>\n",
       "      <td>None</td>\n",
       "      <td>0.1</td>\n",
       "      <td>0.03</td>\n",
       "    </tr>\n",
       "  </tbody>\n",
       "</table>\n",
       "</div>"
      ],
      "text/plain": [
       "     rank_test_score  param_n_estimators  param_max_leaf_nodes  \\\n",
       "137                1                 200                    50   \n",
       "101                2                 200                    50   \n",
       "136                3                 150                    50   \n",
       "\n",
       "    param_max_features  param_max_samples  ll3y  \n",
       "137               None                0.1  0.03  \n",
       "101                 40                0.1  0.03  \n",
       "136               None                0.1  0.03  "
      ]
     },
     "execution_count": 22,
     "metadata": {},
     "output_type": "execute_result"
    }
   ],
   "source": [
    "results_df = pd.DataFrame(grid_search.cv_results_)\n",
    "\n",
    "# extract relevant columns\n",
    "results_df = results_df[['rank_test_score', 'param_n_estimators', 'param_max_leaf_nodes', 'param_max_features', 'param_max_samples', 'mean_test_score']]\n",
    "\n",
    "# convert negative log-loss to positive (since scoring='neg_log_loss')\n",
    "results_df['ll3y'] = (- results_df['mean_test_score']).round(4)\n",
    "results_df = results_df.drop(columns=['mean_test_score'])\n",
    "\n",
    "results_df = results_df.sort_values(by='rank_test_score')\n",
    "results_df.head(3)"
   ]
  },
  {
   "cell_type": "code",
   "execution_count": 23,
   "id": "03cac8c9",
   "metadata": {},
   "outputs": [],
   "source": [
    "# RFC1B"
   ]
  },
  {
   "cell_type": "code",
   "execution_count": 24,
   "id": "83ef965e",
   "metadata": {},
   "outputs": [
    {
     "name": "stdout",
     "output_type": "stream",
     "text": [
      "Training Time: 17.6425 seconds\n"
     ]
    }
   ],
   "source": [
    "rfc1b = RandomForestClassifier(criterion= 'log_loss', random_state=42,\n",
    "                               n_estimators=200, max_leaf_nodes=50, max_features=None, max_samples=0.1)\n",
    "# train\n",
    "start_time = time.time()\n",
    "rfc1b.fit(X_train_3y, y_train_3y)\n",
    "print(f\"Training Time: {time.time() - start_time:.4f} seconds\")"
   ]
  },
  {
   "cell_type": "code",
   "execution_count": 25,
   "id": "ac70a539",
   "metadata": {},
   "outputs": [
    {
     "name": "stdout",
     "output_type": "stream",
     "text": [
      "Log Loss is: 0.1077\n",
      "Log Loss os: 0.1105\n",
      "BS is: 0.0291\n",
      "BS os: 0.0293\n",
      "C is: 0.9028\n"
     ]
    }
   ],
   "source": [
    "# get predicted probabilities\n",
    "y_pred_proba_train_3y = rfc1b.predict_proba(X_train_3y)[:, 1]\n",
    "y_pred_proba_test_3y = rfc1b.predict_proba(X_test_3y)[:, 1]\n",
    "\n",
    "# compute log loss\n",
    "logloss_train_3y = log_loss(y_train_3y, y_pred_proba_train_3y)\n",
    "logloss_test_3y = log_loss(y_test_3y, y_pred_proba_test_3y)\n",
    "\n",
    "# compute Brier\n",
    "bs_train_3y = brier_score_loss(y_train_3y, y_pred_proba_train_3y)\n",
    "bs_test_3y = brier_score_loss(y_test_3y, y_pred_proba_test_3y)\n",
    "\n",
    "# c-index\n",
    "c_is = c_index_classification(df_train['MORTSTAT'], y_pred_proba_train_3y, df_train['TIMETOEVENT'])\n",
    "\n",
    "print(f'Log Loss is: {logloss_train_3y:.4f}')\n",
    "print(f'Log Loss os: {logloss_test_3y:.4f}')\n",
    "print(f'BS is: {bs_train_3y:.4f}')\n",
    "print(f'BS os: {bs_test_3y:.4f}')\n",
    "print(f'C is: {c_is:.4f}')"
   ]
  },
  {
   "cell_type": "code",
   "execution_count": 26,
   "id": "f1438129",
   "metadata": {},
   "outputs": [],
   "source": [
    "# RFC2B"
   ]
  },
  {
   "cell_type": "code",
   "execution_count": 27,
   "id": "a039d3da",
   "metadata": {},
   "outputs": [
    {
     "name": "stdout",
     "output_type": "stream",
     "text": [
      "Training Time: 10.1346 seconds\n"
     ]
    }
   ],
   "source": [
    "rfc2b = RandomForestClassifier(criterion= 'log_loss', random_state=42,\n",
    "                               n_estimators=200, max_leaf_nodes=50, max_features=40, max_samples=0.1)\n",
    "# train\n",
    "start_time = time.time()\n",
    "rfc2b.fit(X_train_3y, y_train_3y)\n",
    "print(f\"Training Time: {time.time() - start_time:.4f} seconds\")"
   ]
  },
  {
   "cell_type": "code",
   "execution_count": 28,
   "id": "337ed06b",
   "metadata": {},
   "outputs": [
    {
     "name": "stdout",
     "output_type": "stream",
     "text": [
      "Log Loss is: 0.1080\n",
      "Log Loss os: 0.1106\n",
      "BS is: 0.0291\n",
      "BS os: 0.0293\n",
      "C is: 0.9024\n"
     ]
    }
   ],
   "source": [
    "# get predicted probabilities\n",
    "y_pred_proba_train_3y = rfc2b.predict_proba(X_train_3y)[:, 1]\n",
    "y_pred_proba_test_3y = rfc2b.predict_proba(X_test_3y)[:, 1]\n",
    "\n",
    "# compute log loss\n",
    "logloss_train_3y = log_loss(y_train_3y, y_pred_proba_train_3y)\n",
    "logloss_test_3y = log_loss(y_test_3y, y_pred_proba_test_3y)\n",
    "\n",
    "# compute Brier\n",
    "bs_train_3y = brier_score_loss(y_train_3y, y_pred_proba_train_3y)\n",
    "bs_test_3y = brier_score_loss(y_test_3y, y_pred_proba_test_3y)\n",
    "\n",
    "# c-index\n",
    "c_is = c_index_classification(df_train['MORTSTAT'], y_pred_proba_train_3y, df_train['TIMETOEVENT'])\n",
    "\n",
    "print(f'Log Loss is: {logloss_train_3y:.4f}')\n",
    "print(f'Log Loss os: {logloss_test_3y:.4f}')\n",
    "print(f'BS is: {bs_train_3y:.4f}')\n",
    "print(f'BS os: {bs_test_3y:.4f}')\n",
    "print(f'C is: {c_is:.4f}')"
   ]
  },
  {
   "cell_type": "code",
   "execution_count": 29,
   "id": "49f06f19",
   "metadata": {},
   "outputs": [],
   "source": [
    "# RFC3B"
   ]
  },
  {
   "cell_type": "code",
   "execution_count": 30,
   "id": "f5502825",
   "metadata": {},
   "outputs": [
    {
     "name": "stdout",
     "output_type": "stream",
     "text": [
      "Training Time: 8.1248 seconds\n"
     ]
    }
   ],
   "source": [
    "rfc3b = RandomForestClassifier(criterion= 'log_loss', random_state=42,\n",
    "                               n_estimators=150, max_leaf_nodes=50, max_features=None, max_samples=0.1)\n",
    "# train\n",
    "start_time = time.time()\n",
    "rfc3b.fit(X_train_3y, y_train_3y)\n",
    "print(f\"Training Time: {time.time() - start_time:.4f} seconds\")"
   ]
  },
  {
   "cell_type": "code",
   "execution_count": 31,
   "id": "e8e4669a",
   "metadata": {},
   "outputs": [
    {
     "name": "stdout",
     "output_type": "stream",
     "text": [
      "Log Loss is: 0.1077\n",
      "Log Loss os: 0.1105\n",
      "BS is: 0.0291\n",
      "BS os: 0.0293\n",
      "C is: 0.9023\n"
     ]
    }
   ],
   "source": [
    "# get predicted probabilities\n",
    "y_pred_proba_train_3y = rfc3b.predict_proba(X_train_3y)[:, 1]\n",
    "y_pred_proba_test_3y = rfc3b.predict_proba(X_test_3y)[:, 1]\n",
    "\n",
    "# compute log loss\n",
    "logloss_train_3y = log_loss(y_train_3y, y_pred_proba_train_3y)\n",
    "logloss_test_3y = log_loss(y_test_3y, y_pred_proba_test_3y)\n",
    "\n",
    "# compute Brier\n",
    "bs_train_3y = brier_score_loss(y_train_3y, y_pred_proba_train_3y)\n",
    "bs_test_3y = brier_score_loss(y_test_3y, y_pred_proba_test_3y)\n",
    "\n",
    "# c-index\n",
    "c_is = c_index_classification(df_train['MORTSTAT'], y_pred_proba_train_3y, df_train['TIMETOEVENT'])\n",
    "\n",
    "print(f'Log Loss is: {logloss_train_3y:.4f}')\n",
    "print(f'Log Loss os: {logloss_test_3y:.4f}')\n",
    "print(f'BS is: {bs_train_3y:.4f}')\n",
    "print(f'BS os: {bs_test_3y:.4f}')\n",
    "print(f'C is: {c_is:.4f}')"
   ]
  },
  {
   "cell_type": "code",
   "execution_count": null,
   "id": "e4792f77",
   "metadata": {},
   "outputs": [],
   "source": []
  },
  {
   "cell_type": "code",
   "execution_count": null,
   "id": "8f5e4b2c",
   "metadata": {},
   "outputs": [],
   "source": []
  }
 ],
 "metadata": {
  "kernelspec": {
   "display_name": "Python 3 (ipykernel)",
   "language": "python",
   "name": "python3"
  },
  "language_info": {
   "codemirror_mode": {
    "name": "ipython",
    "version": 3
   },
   "file_extension": ".py",
   "mimetype": "text/x-python",
   "name": "python",
   "nbconvert_exporter": "python",
   "pygments_lexer": "ipython3",
   "version": "3.11.5"
  }
 },
 "nbformat": 4,
 "nbformat_minor": 5
}
