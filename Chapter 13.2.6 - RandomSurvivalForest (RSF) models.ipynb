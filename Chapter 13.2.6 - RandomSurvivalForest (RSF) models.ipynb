{
 "cells": [
  {
   "cell_type": "code",
   "execution_count": 2,
   "id": "a4d6ec83",
   "metadata": {},
   "outputs": [],
   "source": [
    "import pandas as pd\n",
    "import numpy as np\n",
    "import time\n",
    "from lifelines.utils import concordance_index\n",
    "from sklearn.model_selection import GridSearchCV\n",
    "from sklearn.metrics import log_loss\n",
    "from sklearn.metrics import brier_score_loss\n",
    "from sksurv.ensemble import RandomSurvivalForest\n",
    "from sklearn.metrics import make_scorer"
   ]
  },
  {
   "cell_type": "code",
   "execution_count": null,
   "id": "0de3b041",
   "metadata": {},
   "outputs": [],
   "source": []
  },
  {
   "cell_type": "code",
   "execution_count": null,
   "id": "1e936eb4",
   "metadata": {},
   "outputs": [],
   "source": []
  },
  {
   "cell_type": "code",
   "execution_count": 3,
   "id": "f4ca6fad",
   "metadata": {},
   "outputs": [],
   "source": [
    "df_train = pd.read_csv('df_train.csv')\n",
    "df_test = pd.read_csv('df_test.csv')"
   ]
  },
  {
   "cell_type": "code",
   "execution_count": 4,
   "id": "d9b118ff",
   "metadata": {},
   "outputs": [],
   "source": [
    "# select features\n",
    "X_surv_train = df_train.drop(columns=['TIMETOEVENT', 'MORTSTAT'])\n",
    "X_surv_test = df_test.drop(columns=['TIMETOEVENT', 'MORTSTAT'])\n",
    "# select target\n",
    "y_surv_train = np.array([(event, time) for event, time in zip(df_train['MORTSTAT'], df_train['TIMETOEVENT'])], dtype=[('MORTSTAT', bool), ('TIMETOEVENT', float)])\n",
    "y_surv_test = np.array([(event, time) for event, time in zip(df_test['MORTSTAT'], df_test['TIMETOEVENT'])], dtype=[('MORTSTAT', bool), ('TIMETOEVENT', float)])"
   ]
  },
  {
   "cell_type": "code",
   "execution_count": null,
   "id": "1beb2f31",
   "metadata": {},
   "outputs": [],
   "source": []
  },
  {
   "cell_type": "code",
   "execution_count": null,
   "id": "8cb1e620",
   "metadata": {},
   "outputs": [],
   "source": []
  },
  {
   "cell_type": "code",
   "execution_count": 5,
   "id": "60d9fa94",
   "metadata": {},
   "outputs": [],
   "source": [
    "def c_index_classification(y_true, y_pred_proba, times):\n",
    "    y_true = np.asarray(y_true)\n",
    "    y_pred_proba = np.asarray(y_pred_proba)\n",
    "    times = np.asarray(times)\n",
    "    cc = dc = tp = 0\n",
    "\n",
    "    n = len(y_true)\n",
    "    for i in range(n):\n",
    "        for j in range(n):\n",
    "            if i == j:\n",
    "                continue\n",
    "            if times[i] < times[j] and y_true[i] == 1:\n",
    "                if y_pred_proba[i] < y_pred_proba[j]:\n",
    "                    cc += 1\n",
    "                elif y_pred_proba[i] > y_pred_proba[j]:\n",
    "                    dc += 1\n",
    "                else:\n",
    "                    tp += 1\n",
    "\n",
    "        \n",
    "    return (cc + 0.5 * tp) / (cc + dc + tp)"
   ]
  },
  {
   "cell_type": "code",
   "execution_count": null,
   "id": "5d8dc602",
   "metadata": {},
   "outputs": [],
   "source": []
  },
  {
   "cell_type": "code",
   "execution_count": 6,
   "id": "099a43a3",
   "metadata": {},
   "outputs": [],
   "source": [
    "# define scorer"
   ]
  },
  {
   "cell_type": "code",
   "execution_count": 7,
   "id": "4c7295cf",
   "metadata": {},
   "outputs": [],
   "source": [
    "def ll3y(estimator, X, y):\n",
    "    event_indicators = np.where((y[\"MORTSTAT\"] == 1) & (y[\"TIMETOEVENT\"] <= 3), 0, 1)\n",
    "\n",
    "    # get predicted survival functions\n",
    "    surv_funcs = estimator.predict_survival_function(X)\n",
    "\n",
    "    # get time points (assuming all survival functions have same time grid)\n",
    "    time_points = surv_funcs[0].x\n",
    "\n",
    "    # extract survival probabilities at 3 years\n",
    "    surv_prob_3y = np.array([fn(time_points[3]) for fn in surv_funcs])\n",
    "\n",
    "    # compute log-loss\n",
    "    logloss = log_loss(event_indicators, surv_prob_3y)\n",
    "\n",
    "    return -logloss  "
   ]
  },
  {
   "cell_type": "code",
   "execution_count": 8,
   "id": "fda5711f",
   "metadata": {},
   "outputs": [],
   "source": [
    "def bs3y(estimator, X, y):\n",
    "    event_indicators = np.where((y[\"MORTSTAT\"] == 1) & (y[\"TIMETOEVENT\"] <= 3), 0, 1)\n",
    "\n",
    "    # get predicted survival functions\n",
    "    surv_funcs = estimator.predict_survival_function(X)\n",
    "\n",
    "    # get time points (assuming all survival functions have same time grid)\n",
    "    time_points = surv_funcs[0].x\n",
    "\n",
    "    # extract survival probabilities at 3 years\n",
    "    surv_prob_3y = np.array([fn(time_points[3]) for fn in surv_funcs])\n",
    "\n",
    "    # compute log-loss\n",
    "    bs = brier_score_loss(event_indicators, surv_prob_3y)\n",
    "\n",
    "    return -bs  "
   ]
  },
  {
   "cell_type": "code",
   "execution_count": null,
   "id": "5d49cf57",
   "metadata": {},
   "outputs": [],
   "source": []
  },
  {
   "cell_type": "code",
   "execution_count": null,
   "id": "b415bfd3",
   "metadata": {},
   "outputs": [],
   "source": []
  },
  {
   "cell_type": "code",
   "execution_count": 9,
   "id": "b33fc745",
   "metadata": {},
   "outputs": [],
   "source": [
    "# RandomSurvivalForest"
   ]
  },
  {
   "cell_type": "code",
   "execution_count": 10,
   "id": "2911c12a",
   "metadata": {},
   "outputs": [],
   "source": [
    "#______________________________________________________________________________________________________________________________"
   ]
  },
  {
   "cell_type": "code",
   "execution_count": 11,
   "id": "06aab0e7",
   "metadata": {},
   "outputs": [],
   "source": [
    "# hyperparamter search (scorer=log-loss)"
   ]
  },
  {
   "cell_type": "code",
   "execution_count": 12,
   "id": "07778001",
   "metadata": {},
   "outputs": [
    {
     "name": "stdout",
     "output_type": "stream",
     "text": [
      "Fitting 4 folds for each of 144 candidates, totalling 576 fits\n"
     ]
    },
    {
     "name": "stderr",
     "output_type": "stream",
     "text": [
      "C:\\ProgramData\\anaconda3\\Lib\\site-packages\\numpy\\ma\\core.py:2820: RuntimeWarning: invalid value encountered in cast\n",
      "  _data = np.array(data, dtype=dtype, copy=copy,\n"
     ]
    },
    {
     "name": "stdout",
     "output_type": "stream",
     "text": [
      "{'max_features': 30, 'max_leaf_nodes': 50, 'max_samples': 4000, 'n_estimators': 200}\n"
     ]
    }
   ],
   "source": [
    "param_grid_rst = {'n_estimators': [100, 150, 200],\n",
    "                  'max_samples': [2000, 3000, 4000],\n",
    "                  'max_leaf_nodes': [20, 30, 40, 50],\n",
    "                  'max_features': [20, 30, 40, None]}\n",
    "\n",
    "grid_search_rst1 = GridSearchCV(estimator=RandomSurvivalForest(random_state=42), param_grid=param_grid_rst, scoring=ll3y, cv=4, n_jobs=-1, verbose=2)\n",
    "\n",
    "grid_search_rst1.fit(X_surv_train, y_surv_train)\n",
    "print(grid_search_rst1.best_params_)"
   ]
  },
  {
   "cell_type": "code",
   "execution_count": 13,
   "id": "8d917345",
   "metadata": {},
   "outputs": [
    {
     "data": {
      "text/html": [
       "<div>\n",
       "<style scoped>\n",
       "    .dataframe tbody tr th:only-of-type {\n",
       "        vertical-align: middle;\n",
       "    }\n",
       "\n",
       "    .dataframe tbody tr th {\n",
       "        vertical-align: top;\n",
       "    }\n",
       "\n",
       "    .dataframe thead th {\n",
       "        text-align: right;\n",
       "    }\n",
       "</style>\n",
       "<table border=\"1\" class=\"dataframe\">\n",
       "  <thead>\n",
       "    <tr style=\"text-align: right;\">\n",
       "      <th></th>\n",
       "      <th>rank_test_score</th>\n",
       "      <th>param_n_estimators</th>\n",
       "      <th>param_max_samples</th>\n",
       "      <th>param_max_leaf_nodes</th>\n",
       "      <th>param_max_features</th>\n",
       "      <th>ll3y</th>\n",
       "    </tr>\n",
       "  </thead>\n",
       "  <tbody>\n",
       "    <tr>\n",
       "      <th>71</th>\n",
       "      <td>1</td>\n",
       "      <td>200</td>\n",
       "      <td>4000</td>\n",
       "      <td>50</td>\n",
       "      <td>30</td>\n",
       "      <td>0.1151</td>\n",
       "    </tr>\n",
       "    <tr>\n",
       "      <th>68</th>\n",
       "      <td>2</td>\n",
       "      <td>200</td>\n",
       "      <td>3000</td>\n",
       "      <td>50</td>\n",
       "      <td>30</td>\n",
       "      <td>0.1152</td>\n",
       "    </tr>\n",
       "    <tr>\n",
       "      <th>69</th>\n",
       "      <td>3</td>\n",
       "      <td>100</td>\n",
       "      <td>4000</td>\n",
       "      <td>50</td>\n",
       "      <td>30</td>\n",
       "      <td>0.1152</td>\n",
       "    </tr>\n",
       "  </tbody>\n",
       "</table>\n",
       "</div>"
      ],
      "text/plain": [
       "    rank_test_score  param_n_estimators  param_max_samples  \\\n",
       "71                1                 200               4000   \n",
       "68                2                 200               3000   \n",
       "69                3                 100               4000   \n",
       "\n",
       "    param_max_leaf_nodes param_max_features    ll3y  \n",
       "71                    50                 30  0.1151  \n",
       "68                    50                 30  0.1152  \n",
       "69                    50                 30  0.1152  "
      ]
     },
     "execution_count": 13,
     "metadata": {},
     "output_type": "execute_result"
    }
   ],
   "source": [
    "results_df = pd.DataFrame(grid_search_rst1.cv_results_)\n",
    "\n",
    "# extract relevant columns\n",
    "results_df = results_df[['rank_test_score', 'param_n_estimators', 'param_max_samples', 'param_max_leaf_nodes', 'param_max_features', 'mean_test_score']]\n",
    "\n",
    "# convert negative log-loss to positive (since scoring='neg_log_loss')\n",
    "results_df['ll3y'] = (- results_df['mean_test_score']).round(4)\n",
    "results_df = results_df.drop(columns=['mean_test_score'])\n",
    "\n",
    "results_df = results_df.sort_values(by='rank_test_score')\n",
    "results_df.head(3)"
   ]
  },
  {
   "cell_type": "code",
   "execution_count": 14,
   "id": "c0ce122a",
   "metadata": {},
   "outputs": [],
   "source": [
    "# RSF1L"
   ]
  },
  {
   "cell_type": "code",
   "execution_count": 15,
   "id": "fe19f086",
   "metadata": {},
   "outputs": [
    {
     "name": "stdout",
     "output_type": "stream",
     "text": [
      "Time for one model: 16.20 seconds\n"
     ]
    }
   ],
   "source": [
    "rsf1l = RandomSurvivalForest(random_state=42, \n",
    "                             n_estimators=200, max_leaf_nodes=50, max_features=30, max_samples=4000)\n",
    "\n",
    "start_time = time.time()\n",
    "rsf1l.fit(X_surv_train, y_surv_train)\n",
    "end_time = time.time()\n",
    "print(f\"Time for one model: {end_time - start_time:.2f} seconds\")"
   ]
  },
  {
   "cell_type": "code",
   "execution_count": 16,
   "id": "a5910e30",
   "metadata": {},
   "outputs": [
    {
     "name": "stdout",
     "output_type": "stream",
     "text": [
      "Log Loss is: 0.1115\n",
      "Log Loss os: 0.1117\n",
      "BS is: 0.0298\n",
      "BS os: 0.0296\n",
      "C is: 0.8925\n"
     ]
    }
   ],
   "source": [
    "# predict survival function\n",
    "surv_probs_train = rsf1l.predict_survival_function(X_surv_train)\n",
    "surv_probs_test = rsf1l.predict_survival_function(X_surv_test)\n",
    "\n",
    "# all time-to-event points\n",
    "time_points_train = surv_probs_train[0].x\n",
    "time_points_test = surv_probs_test[0].x \n",
    " \n",
    "# convert survival probabilities to df\n",
    "df_surv_probs_train = pd.DataFrame(\n",
    "    data=[fn(time_points_train) for fn in surv_probs_train],  \n",
    "    columns=time_points_train)\n",
    "df_surv_probs_test = pd.DataFrame(\n",
    "    data=[fn(time_points_train) for fn in surv_probs_test],  \n",
    "    columns=time_points_train)\n",
    "\n",
    "# surv probabilites after 1 and 3 years\n",
    "suvr_prob_3y_train = df_surv_probs_train.iloc[:,3]\n",
    "suvr_prob_3y_test = df_surv_probs_test.iloc[:,3]\n",
    "\n",
    "# extract status\n",
    "# get 3-year event status based on TIMETOEVENT and MORTSTAT\n",
    "status_3y_train_surv = np.where((df_train[\"MORTSTAT\"] == 1) & (df_train[\"TIMETOEVENT\"] <= 3), 0, 1)\n",
    "status_3y_test_surv = np.where((df_test[\"MORTSTAT\"] == 1) & (df_test[\"TIMETOEVENT\"] <= 3), 0, 1)\n",
    "\n",
    "# log-loss\n",
    "log_loss_3y_train = log_loss(status_3y_train_surv, suvr_prob_3y_train)\n",
    "log_loss_3y_test = log_loss(status_3y_test_surv, suvr_prob_3y_test)\n",
    "\n",
    "# compute Brier\n",
    "bs_train_3y = brier_score_loss(status_3y_train_surv, suvr_prob_3y_train)\n",
    "bs_test_3y = brier_score_loss(status_3y_test_surv, suvr_prob_3y_test)\n",
    "\n",
    "# c-index\n",
    "c_is = c_index_classification(df_train[\"MORTSTAT\"], suvr_prob_3y_train, df_train['TIMETOEVENT'])\n",
    "\n",
    "print(f'Log Loss is: {log_loss_3y_train:.4f}')\n",
    "print(f'Log Loss os: {log_loss_3y_test:.4f}')\n",
    "print(f'BS is: {bs_train_3y:.4f}')\n",
    "print(f'BS os: {bs_test_3y:.4f}')\n",
    "print(f'C is: {c_is:.4f}')"
   ]
  },
  {
   "cell_type": "code",
   "execution_count": 17,
   "id": "0d88d5b2",
   "metadata": {},
   "outputs": [],
   "source": [
    "# RSF2L"
   ]
  },
  {
   "cell_type": "code",
   "execution_count": 18,
   "id": "defb2a39",
   "metadata": {},
   "outputs": [
    {
     "name": "stdout",
     "output_type": "stream",
     "text": [
      "Time for one model: 9.69 seconds\n"
     ]
    }
   ],
   "source": [
    "rsf2l = RandomSurvivalForest(random_state=42, \n",
    "                             n_estimators=200, max_leaf_nodes=50, max_features=30, max_samples=3000)\n",
    "\n",
    "start_time = time.time()\n",
    "rsf2l.fit(X_surv_train, y_surv_train)\n",
    "end_time = time.time()\n",
    "print(f\"Time for one model: {end_time - start_time:.2f} seconds\")"
   ]
  },
  {
   "cell_type": "code",
   "execution_count": 19,
   "id": "41acf8c0",
   "metadata": {},
   "outputs": [
    {
     "name": "stdout",
     "output_type": "stream",
     "text": [
      "Log Loss is: 0.1115\n",
      "Log Loss os: 0.1124\n",
      "BS is: 0.0297\n",
      "BS os: 0.0296\n",
      "C is: 0.8920\n"
     ]
    }
   ],
   "source": [
    "# predict survival function\n",
    "surv_probs_train = rsf2l.predict_survival_function(X_surv_train)\n",
    "surv_probs_test = rsf2l.predict_survival_function(X_surv_test)\n",
    "\n",
    "# all time-to-event points\n",
    "time_points_train = surv_probs_train[0].x\n",
    "time_points_test = surv_probs_test[0].x \n",
    " \n",
    "# convert survival probabilities to df\n",
    "df_surv_probs_train = pd.DataFrame(\n",
    "    data=[fn(time_points_train) for fn in surv_probs_train],  \n",
    "    columns=time_points_train)\n",
    "df_surv_probs_test = pd.DataFrame(\n",
    "    data=[fn(time_points_train) for fn in surv_probs_test],  \n",
    "    columns=time_points_train)\n",
    "\n",
    "# surv probabilites after 1 and 3 years\n",
    "suvr_prob_3y_train = df_surv_probs_train.iloc[:,3]\n",
    "suvr_prob_3y_test = df_surv_probs_test.iloc[:,3]\n",
    "\n",
    "# extract status\n",
    "# get 3-year event status based on TIMETOEVENT and MORTSTAT\n",
    "status_3y_train_surv = np.where((df_train[\"MORTSTAT\"] == 1) & (df_train[\"TIMETOEVENT\"] <= 3), 0, 1)\n",
    "status_3y_test_surv = np.where((df_test[\"MORTSTAT\"] == 1) & (df_test[\"TIMETOEVENT\"] <= 3), 0, 1)\n",
    "\n",
    "# log-loss\n",
    "log_loss_3y_train = log_loss(status_3y_train_surv, suvr_prob_3y_train)\n",
    "log_loss_3y_test = log_loss(status_3y_test_surv, suvr_prob_3y_test)\n",
    "\n",
    "# compute Brier\n",
    "bs_train_3y = brier_score_loss(status_3y_train_surv, suvr_prob_3y_train)\n",
    "bs_test_3y = brier_score_loss(status_3y_test_surv, suvr_prob_3y_test)\n",
    "\n",
    "# c-index\n",
    "c_is = c_index_classification(df_train[\"MORTSTAT\"], suvr_prob_3y_train, df_train['TIMETOEVENT'])\n",
    "\n",
    "print(f'Log Loss is: {log_loss_3y_train:.4f}')\n",
    "print(f'Log Loss os: {log_loss_3y_test:.4f}')\n",
    "print(f'BS is: {bs_train_3y:.4f}')\n",
    "print(f'BS os: {bs_test_3y:.4f}')\n",
    "print(f'C is: {c_is:.4f}')"
   ]
  },
  {
   "cell_type": "code",
   "execution_count": 20,
   "id": "eabd2d30",
   "metadata": {},
   "outputs": [],
   "source": [
    "# RSF3L"
   ]
  },
  {
   "cell_type": "code",
   "execution_count": 21,
   "id": "f4824498",
   "metadata": {},
   "outputs": [
    {
     "name": "stdout",
     "output_type": "stream",
     "text": [
      "Time for one model: 6.40 seconds\n"
     ]
    }
   ],
   "source": [
    "rsf3l = RandomSurvivalForest(random_state=42,\n",
    "                             n_estimators=100, max_leaf_nodes=50, max_features=30, max_samples=4000)\n",
    "\n",
    "start_time = time.time()\n",
    "rsf3l.fit(X_surv_train, y_surv_train)\n",
    "end_time = time.time()\n",
    "print(f\"Time for one model: {end_time - start_time:.2f} seconds\")"
   ]
  },
  {
   "cell_type": "code",
   "execution_count": 22,
   "id": "2cb5547f",
   "metadata": {},
   "outputs": [
    {
     "name": "stdout",
     "output_type": "stream",
     "text": [
      "Log Loss is: 0.1117\n",
      "Log Loss os: 0.1117\n",
      "BS is: 0.0298\n",
      "BS os: 0.0296\n",
      "C is: 0.8917\n"
     ]
    }
   ],
   "source": [
    "# predict survival function\n",
    "surv_probs_train = rsf3l.predict_survival_function(X_surv_train)\n",
    "surv_probs_test = rsf3l.predict_survival_function(X_surv_test)\n",
    "\n",
    "# all time-to-event points\n",
    "time_points_train = surv_probs_train[0].x\n",
    "time_points_test = surv_probs_test[0].x \n",
    " \n",
    "# convert survival probabilities to df\n",
    "df_surv_probs_train = pd.DataFrame(\n",
    "    data=[fn(time_points_train) for fn in surv_probs_train],  \n",
    "    columns=time_points_train)\n",
    "df_surv_probs_test = pd.DataFrame(\n",
    "    data=[fn(time_points_train) for fn in surv_probs_test],  \n",
    "    columns=time_points_train)\n",
    "\n",
    "# surv probabilites after 1 and 3 years\n",
    "suvr_prob_3y_train = df_surv_probs_train.iloc[:,3]\n",
    "suvr_prob_3y_test = df_surv_probs_test.iloc[:,3]\n",
    "\n",
    "# extract status\n",
    "# get 3-year event status based on TIMETOEVENT and MORTSTAT\n",
    "status_3y_train_surv = np.where((df_train[\"MORTSTAT\"] == 1) & (df_train[\"TIMETOEVENT\"] <= 3), 0, 1)\n",
    "status_3y_test_surv = np.where((df_test[\"MORTSTAT\"] == 1) & (df_test[\"TIMETOEVENT\"] <= 3), 0, 1)\n",
    "\n",
    "# log-loss\n",
    "log_loss_3y_train = log_loss(status_3y_train_surv, suvr_prob_3y_train)\n",
    "log_loss_3y_test = log_loss(status_3y_test_surv, suvr_prob_3y_test)\n",
    "\n",
    "# compute Brier\n",
    "bs_train_3y = brier_score_loss(status_3y_train_surv, suvr_prob_3y_train)\n",
    "bs_test_3y = brier_score_loss(status_3y_test_surv, suvr_prob_3y_test)\n",
    "\n",
    "# c-index\n",
    "c_is = c_index_classification(df_train[\"MORTSTAT\"], suvr_prob_3y_train, df_train['TIMETOEVENT'])\n",
    "\n",
    "print(f'Log Loss is: {log_loss_3y_train:.4f}')\n",
    "print(f'Log Loss os: {log_loss_3y_test:.4f}')\n",
    "print(f'BS is: {bs_train_3y:.4f}')\n",
    "print(f'BS os: {bs_test_3y:.4f}')\n",
    "print(f'C is: {c_is:.4f}')"
   ]
  },
  {
   "cell_type": "code",
   "execution_count": 23,
   "id": "95946d50",
   "metadata": {},
   "outputs": [],
   "source": [
    "#______________________________________________________________________________________________________________________________"
   ]
  },
  {
   "cell_type": "code",
   "execution_count": 24,
   "id": "453c0037",
   "metadata": {},
   "outputs": [],
   "source": [
    "# hyperparamter search (scorer=Brier-score)"
   ]
  },
  {
   "cell_type": "code",
   "execution_count": 25,
   "id": "0b143e12",
   "metadata": {},
   "outputs": [
    {
     "name": "stdout",
     "output_type": "stream",
     "text": [
      "Fitting 4 folds for each of 144 candidates, totalling 576 fits\n",
      "{'max_features': 40, 'max_leaf_nodes': 50, 'max_samples': 2000, 'n_estimators': 200}\n"
     ]
    }
   ],
   "source": [
    "grid_search_rst2 = GridSearchCV(estimator=RandomSurvivalForest(random_state=42), param_grid=param_grid_rst, scoring=bs3y, cv=4, n_jobs=-1, verbose=2)\n",
    "\n",
    "grid_search_rst2.fit(X_surv_train, y_surv_train)\n",
    "print(grid_search_rst2.best_params_)"
   ]
  },
  {
   "cell_type": "code",
   "execution_count": 26,
   "id": "c58caa46",
   "metadata": {},
   "outputs": [
    {
     "data": {
      "text/html": [
       "<div>\n",
       "<style scoped>\n",
       "    .dataframe tbody tr th:only-of-type {\n",
       "        vertical-align: middle;\n",
       "    }\n",
       "\n",
       "    .dataframe tbody tr th {\n",
       "        vertical-align: top;\n",
       "    }\n",
       "\n",
       "    .dataframe thead th {\n",
       "        text-align: right;\n",
       "    }\n",
       "</style>\n",
       "<table border=\"1\" class=\"dataframe\">\n",
       "  <thead>\n",
       "    <tr style=\"text-align: right;\">\n",
       "      <th></th>\n",
       "      <th>rank_test_score</th>\n",
       "      <th>param_n_estimators</th>\n",
       "      <th>param_max_samples</th>\n",
       "      <th>param_max_leaf_nodes</th>\n",
       "      <th>param_max_features</th>\n",
       "      <th>bs3y</th>\n",
       "    </tr>\n",
       "  </thead>\n",
       "  <tbody>\n",
       "    <tr>\n",
       "      <th>101</th>\n",
       "      <td>1</td>\n",
       "      <td>200</td>\n",
       "      <td>2000</td>\n",
       "      <td>50</td>\n",
       "      <td>40</td>\n",
       "      <td>0.0302</td>\n",
       "    </tr>\n",
       "    <tr>\n",
       "      <th>100</th>\n",
       "      <td>2</td>\n",
       "      <td>150</td>\n",
       "      <td>2000</td>\n",
       "      <td>50</td>\n",
       "      <td>40</td>\n",
       "      <td>0.0302</td>\n",
       "    </tr>\n",
       "    <tr>\n",
       "      <th>137</th>\n",
       "      <td>3</td>\n",
       "      <td>200</td>\n",
       "      <td>2000</td>\n",
       "      <td>50</td>\n",
       "      <td>None</td>\n",
       "      <td>0.0302</td>\n",
       "    </tr>\n",
       "  </tbody>\n",
       "</table>\n",
       "</div>"
      ],
      "text/plain": [
       "     rank_test_score  param_n_estimators  param_max_samples  \\\n",
       "101                1                 200               2000   \n",
       "100                2                 150               2000   \n",
       "137                3                 200               2000   \n",
       "\n",
       "     param_max_leaf_nodes param_max_features    bs3y  \n",
       "101                    50                 40  0.0302  \n",
       "100                    50                 40  0.0302  \n",
       "137                    50               None  0.0302  "
      ]
     },
     "execution_count": 26,
     "metadata": {},
     "output_type": "execute_result"
    }
   ],
   "source": [
    "results_df = pd.DataFrame(grid_search_rst2.cv_results_)\n",
    "\n",
    "# extract relevant columns\n",
    "results_df = results_df[['rank_test_score', 'param_n_estimators', 'param_max_samples', 'param_max_leaf_nodes', 'param_max_features', 'mean_test_score']]\n",
    "\n",
    "# convert negative log-loss to positive (since scoring='neg_log_loss')\n",
    "results_df['bs3y'] = (- results_df['mean_test_score']).round(4)\n",
    "results_df = results_df.drop(columns=['mean_test_score'])\n",
    "\n",
    "results_df = results_df.sort_values(by='rank_test_score')\n",
    "results_df.head(3)"
   ]
  },
  {
   "cell_type": "code",
   "execution_count": 27,
   "id": "fd4d5616",
   "metadata": {},
   "outputs": [],
   "source": [
    "# RSF1B"
   ]
  },
  {
   "cell_type": "code",
   "execution_count": 28,
   "id": "e7e62e67",
   "metadata": {},
   "outputs": [
    {
     "name": "stdout",
     "output_type": "stream",
     "text": [
      "Time for one model: 7.62 seconds\n"
     ]
    }
   ],
   "source": [
    "rsf1b = RandomSurvivalForest(random_state=42,\n",
    "                             n_estimators=200, max_leaf_nodes=50, max_features=40, max_samples=2000)\n",
    "start_time = time.time()\n",
    "rsf1b.fit(X_surv_train, y_surv_train)\n",
    "end_time = time.time()\n",
    "print(f\"Time for one model: {end_time - start_time:.2f} seconds\")"
   ]
  },
  {
   "cell_type": "code",
   "execution_count": 29,
   "id": "02e9b3b8",
   "metadata": {},
   "outputs": [
    {
     "name": "stdout",
     "output_type": "stream",
     "text": [
      "Log Loss is: 0.1114\n",
      "Log Loss os: 0.1125\n",
      "BS is: 0.0297\n",
      "BS os: 0.0296\n",
      "C is: 0.8916\n"
     ]
    }
   ],
   "source": [
    "# predict survival function\n",
    "surv_probs_train = rsf1b.predict_survival_function(X_surv_train)\n",
    "surv_probs_test = rsf1b.predict_survival_function(X_surv_test)\n",
    "\n",
    "# all time-to-event points\n",
    "time_points_train = surv_probs_train[0].x\n",
    "time_points_test = surv_probs_test[0].x \n",
    " \n",
    "# convert survival probabilities to df\n",
    "df_surv_probs_train = pd.DataFrame(\n",
    "    data=[fn(time_points_train) for fn in surv_probs_train],  \n",
    "    columns=time_points_train)\n",
    "df_surv_probs_test = pd.DataFrame(\n",
    "    data=[fn(time_points_train) for fn in surv_probs_test],  \n",
    "    columns=time_points_train)\n",
    "\n",
    "# surv probabilites after 1 and 3 years\n",
    "suvr_prob_3y_train = df_surv_probs_train.iloc[:,3]\n",
    "suvr_prob_3y_test = df_surv_probs_test.iloc[:,3]\n",
    "\n",
    "# extract status\n",
    "# get 3-year event status based on TIMETOEVENT and MORTSTAT\n",
    "status_3y_train_surv = np.where((df_train[\"MORTSTAT\"] == 1) & (df_train[\"TIMETOEVENT\"] <= 3), 0, 1)\n",
    "status_3y_test_surv = np.where((df_test[\"MORTSTAT\"] == 1) & (df_test[\"TIMETOEVENT\"] <= 3), 0, 1)\n",
    "\n",
    "# log-loss\n",
    "log_loss_3y_train = log_loss(status_3y_train_surv, suvr_prob_3y_train)\n",
    "log_loss_3y_test = log_loss(status_3y_test_surv, suvr_prob_3y_test)\n",
    "\n",
    "# compute Brier\n",
    "bs_train_3y = brier_score_loss(status_3y_train_surv, suvr_prob_3y_train)\n",
    "bs_test_3y = brier_score_loss(status_3y_test_surv, suvr_prob_3y_test)\n",
    "\n",
    "# c-index\n",
    "c_is = c_index_classification(df_train[\"MORTSTAT\"], suvr_prob_3y_train, df_train['TIMETOEVENT'])\n",
    "\n",
    "print(f'Log Loss is: {log_loss_3y_train:.4f}')\n",
    "print(f'Log Loss os: {log_loss_3y_test:.4f}')\n",
    "print(f'BS is: {bs_train_3y:.4f}')\n",
    "print(f'BS os: {bs_test_3y:.4f}')\n",
    "print(f'C is: {c_is:.4f}')"
   ]
  },
  {
   "cell_type": "code",
   "execution_count": 30,
   "id": "15bbce7d",
   "metadata": {},
   "outputs": [],
   "source": [
    "# RSF2B"
   ]
  },
  {
   "cell_type": "code",
   "execution_count": 31,
   "id": "20e1b293",
   "metadata": {},
   "outputs": [
    {
     "name": "stdout",
     "output_type": "stream",
     "text": [
      "Time for one model: 5.57 seconds\n"
     ]
    }
   ],
   "source": [
    "rsf2b = RandomSurvivalForest(random_state=42,\n",
    "                             n_estimators=150, max_leaf_nodes=50, max_features=40, max_samples=2000)\n",
    "\n",
    "start_time = time.time()\n",
    "rsf2b.fit(X_surv_train, y_surv_train)\n",
    "end_time = time.time()\n",
    "print(f\"Time for one model: {end_time - start_time:.2f} seconds\")"
   ]
  },
  {
   "cell_type": "code",
   "execution_count": 32,
   "id": "1050049c",
   "metadata": {},
   "outputs": [
    {
     "name": "stdout",
     "output_type": "stream",
     "text": [
      "Log Loss is: 0.1116\n",
      "Log Loss os: 0.1127\n",
      "BS is: 0.0297\n",
      "BS os: 0.0296\n",
      "C is: 0.8907\n"
     ]
    }
   ],
   "source": [
    "# predict survival function\n",
    "surv_probs_train = rsf2b.predict_survival_function(X_surv_train)\n",
    "surv_probs_test = rsf2b.predict_survival_function(X_surv_test)\n",
    "\n",
    "# all time-to-event points\n",
    "time_points_train = surv_probs_train[0].x\n",
    "time_points_test = surv_probs_test[0].x \n",
    " \n",
    "# convert survival probabilities to df\n",
    "df_surv_probs_train = pd.DataFrame(\n",
    "    data=[fn(time_points_train) for fn in surv_probs_train],  \n",
    "    columns=time_points_train)\n",
    "df_surv_probs_test = pd.DataFrame(\n",
    "    data=[fn(time_points_train) for fn in surv_probs_test],  \n",
    "    columns=time_points_train)\n",
    "\n",
    "# surv probabilites after 1 and 3 years\n",
    "suvr_prob_3y_train = df_surv_probs_train.iloc[:,3]\n",
    "suvr_prob_3y_test = df_surv_probs_test.iloc[:,3]\n",
    "\n",
    "# extract status\n",
    "# get 3-year event status based on TIMETOEVENT and MORTSTAT\n",
    "status_3y_train_surv = np.where((df_train[\"MORTSTAT\"] == 1) & (df_train[\"TIMETOEVENT\"] <= 3), 0, 1)\n",
    "status_3y_test_surv = np.where((df_test[\"MORTSTAT\"] == 1) & (df_test[\"TIMETOEVENT\"] <= 3), 0, 1)\n",
    "\n",
    "# log-loss\n",
    "log_loss_3y_train = log_loss(status_3y_train_surv, suvr_prob_3y_train)\n",
    "log_loss_3y_test = log_loss(status_3y_test_surv, suvr_prob_3y_test)\n",
    "\n",
    "# compute Brier\n",
    "bs_train_3y = brier_score_loss(status_3y_train_surv, suvr_prob_3y_train)\n",
    "bs_test_3y = brier_score_loss(status_3y_test_surv, suvr_prob_3y_test)\n",
    "\n",
    "# c-index\n",
    "c_is = c_index_classification(df_train[\"MORTSTAT\"], suvr_prob_3y_train, df_train['TIMETOEVENT'])\n",
    "\n",
    "print(f'Log Loss is: {log_loss_3y_train:.4f}')\n",
    "print(f'Log Loss os: {log_loss_3y_test:.4f}')\n",
    "print(f'BS is: {bs_train_3y:.4f}')\n",
    "print(f'BS os: {bs_test_3y:.4f}')\n",
    "print(f'C is: {c_is:.4f}')"
   ]
  },
  {
   "cell_type": "code",
   "execution_count": 33,
   "id": "05cec514",
   "metadata": {},
   "outputs": [],
   "source": [
    "# RSF3B"
   ]
  },
  {
   "cell_type": "code",
   "execution_count": 34,
   "id": "801d77e9",
   "metadata": {},
   "outputs": [
    {
     "name": "stdout",
     "output_type": "stream",
     "text": [
      "Time for one model: 8.48 seconds\n"
     ]
    }
   ],
   "source": [
    "rsf3b = RandomSurvivalForest(random_state=42,\n",
    "                             n_estimators=200, max_leaf_nodes=50, max_features=None, max_samples=2000)\n",
    "\n",
    "start_time = time.time()\n",
    "rsf3b.fit(X_surv_train, y_surv_train)\n",
    "end_time = time.time()\n",
    "print(f\"Time for one model: {end_time - start_time:.2f} seconds\")"
   ]
  },
  {
   "cell_type": "code",
   "execution_count": 35,
   "id": "02dd9b46",
   "metadata": {},
   "outputs": [
    {
     "name": "stdout",
     "output_type": "stream",
     "text": [
      "Log Loss is: 0.1113\n",
      "Log Loss os: 0.1122\n",
      "BS is: 0.0297\n",
      "BS os: 0.0296\n",
      "C is: 0.8916\n"
     ]
    }
   ],
   "source": [
    "# predict survival function\n",
    "surv_probs_train = rsf3b.predict_survival_function(X_surv_train)\n",
    "surv_probs_test = rsf3b.predict_survival_function(X_surv_test)\n",
    "\n",
    "# all time-to-event points\n",
    "time_points_train = surv_probs_train[0].x\n",
    "time_points_test = surv_probs_test[0].x \n",
    " \n",
    "# convert survival probabilities to df\n",
    "df_surv_probs_train = pd.DataFrame(\n",
    "    data=[fn(time_points_train) for fn in surv_probs_train],  \n",
    "    columns=time_points_train)\n",
    "df_surv_probs_test = pd.DataFrame(\n",
    "    data=[fn(time_points_train) for fn in surv_probs_test],  \n",
    "    columns=time_points_train)\n",
    "\n",
    "# surv probabilites after 1 and 3 years\n",
    "suvr_prob_3y_train = df_surv_probs_train.iloc[:,3]\n",
    "suvr_prob_3y_test = df_surv_probs_test.iloc[:,3]\n",
    "\n",
    "# extract status\n",
    "# get 3-year event status based on TIMETOEVENT and MORTSTAT\n",
    "status_3y_train_surv = np.where((df_train[\"MORTSTAT\"] == 1) & (df_train[\"TIMETOEVENT\"] <= 3), 0, 1)\n",
    "status_3y_test_surv = np.where((df_test[\"MORTSTAT\"] == 1) & (df_test[\"TIMETOEVENT\"] <= 3), 0, 1)\n",
    "\n",
    "# log-loss\n",
    "log_loss_3y_train = log_loss(status_3y_train_surv, suvr_prob_3y_train)\n",
    "log_loss_3y_test = log_loss(status_3y_test_surv, suvr_prob_3y_test)\n",
    "\n",
    "# compute Brier\n",
    "bs_train_3y = brier_score_loss(status_3y_train_surv, suvr_prob_3y_train)\n",
    "bs_test_3y = brier_score_loss(status_3y_test_surv, suvr_prob_3y_test)\n",
    "\n",
    "# c-index\n",
    "c_is = c_index_classification(df_train[\"MORTSTAT\"], suvr_prob_3y_train, df_train['TIMETOEVENT'])\n",
    "\n",
    "print(f'Log Loss is: {log_loss_3y_train:.4f}')\n",
    "print(f'Log Loss os: {log_loss_3y_test:.4f}')\n",
    "print(f'BS is: {bs_train_3y:.4f}')\n",
    "print(f'BS os: {bs_test_3y:.4f}')\n",
    "print(f'C is: {c_is:.4f}')"
   ]
  },
  {
   "cell_type": "code",
   "execution_count": null,
   "id": "e2c2827f",
   "metadata": {},
   "outputs": [],
   "source": []
  },
  {
   "cell_type": "code",
   "execution_count": null,
   "id": "646e84be",
   "metadata": {},
   "outputs": [],
   "source": []
  }
 ],
 "metadata": {
  "kernelspec": {
   "display_name": "Python 3 (ipykernel)",
   "language": "python",
   "name": "python3"
  },
  "language_info": {
   "codemirror_mode": {
    "name": "ipython",
    "version": 3
   },
   "file_extension": ".py",
   "mimetype": "text/x-python",
   "name": "python",
   "nbconvert_exporter": "python",
   "pygments_lexer": "ipython3",
   "version": "3.11.5"
  }
 },
 "nbformat": 4,
 "nbformat_minor": 5
}
