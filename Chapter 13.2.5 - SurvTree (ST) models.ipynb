{
 "cells": [
  {
   "cell_type": "code",
   "execution_count": 2,
   "id": "f7cd4b4e",
   "metadata": {},
   "outputs": [],
   "source": [
    "import pandas as pd\n",
    "import numpy as np\n",
    "import time\n",
    "import matplotlib.colors as mcolors\n",
    "import matplotlib.pyplot as plt\n",
    "from lifelines.utils import concordance_index\n",
    "from sklearn.model_selection import GridSearchCV\n",
    "from sklearn.metrics import log_loss\n",
    "from sklearn.metrics import brier_score_loss\n",
    "import matplotlib.ticker as mticker\n",
    "from sksurv.tree import SurvivalTree\n",
    "from sklearn.metrics import make_scorer\n",
    "from sklearn.tree import plot_tree"
   ]
  },
  {
   "cell_type": "code",
   "execution_count": null,
   "id": "8a35e563",
   "metadata": {},
   "outputs": [],
   "source": []
  },
  {
   "cell_type": "code",
   "execution_count": null,
   "id": "913f9fc4",
   "metadata": {},
   "outputs": [],
   "source": []
  },
  {
   "cell_type": "code",
   "execution_count": 3,
   "id": "4eb1b924",
   "metadata": {},
   "outputs": [],
   "source": [
    "df_train = pd.read_csv('df_train.csv')\n",
    "df_test = pd.read_csv('df_test.csv')"
   ]
  },
  {
   "cell_type": "code",
   "execution_count": 4,
   "id": "7f1e8060",
   "metadata": {},
   "outputs": [],
   "source": [
    "# select features\n",
    "X_surv_train = df_train.drop(columns=['TIMETOEVENT', 'MORTSTAT'])\n",
    "X_surv_test = df_test.drop(columns=['TIMETOEVENT', 'MORTSTAT'])\n",
    "# select target\n",
    "y_surv_train = np.array([(event, time) for event, time in zip(df_train['MORTSTAT'], df_train['TIMETOEVENT'])], dtype=[('MORTSTAT', bool), ('TIMETOEVENT', float)])\n",
    "y_surv_test = np.array([(event, time) for event, time in zip(df_test['MORTSTAT'], df_test['TIMETOEVENT'])], dtype=[('MORTSTAT', bool), ('TIMETOEVENT', float)])"
   ]
  },
  {
   "cell_type": "code",
   "execution_count": null,
   "id": "43739ea0",
   "metadata": {},
   "outputs": [],
   "source": []
  },
  {
   "cell_type": "code",
   "execution_count": null,
   "id": "9f68a3a8",
   "metadata": {},
   "outputs": [],
   "source": []
  },
  {
   "cell_type": "code",
   "execution_count": 5,
   "id": "0e0a6a50",
   "metadata": {},
   "outputs": [],
   "source": [
    "def c_index_classification(y_true, y_pred_proba, times):\n",
    "    y_true = np.asarray(y_true)\n",
    "    y_pred_proba = np.asarray(y_pred_proba)\n",
    "    times = np.asarray(times)\n",
    "    cc = dc = tp = 0\n",
    "\n",
    "    n = len(y_true)\n",
    "    for i in range(n):\n",
    "        for j in range(n):\n",
    "            if i == j:\n",
    "                continue\n",
    "            if times[i] < times[j] and y_true[i] == 1:\n",
    "                if y_pred_proba[i] < y_pred_proba[j]:\n",
    "                    cc += 1\n",
    "                elif y_pred_proba[i] > y_pred_proba[j]:\n",
    "                    dc += 1\n",
    "                else:\n",
    "                    tp += 1\n",
    "\n",
    "        \n",
    "    return (cc + 0.5 * tp) / (cc + dc + tp)"
   ]
  },
  {
   "cell_type": "code",
   "execution_count": null,
   "id": "7ab2d156",
   "metadata": {},
   "outputs": [],
   "source": []
  },
  {
   "cell_type": "code",
   "execution_count": 6,
   "id": "6925f80a",
   "metadata": {},
   "outputs": [],
   "source": [
    "# define scorer"
   ]
  },
  {
   "cell_type": "code",
   "execution_count": 7,
   "id": "fd17961f",
   "metadata": {},
   "outputs": [],
   "source": [
    "def ll3y(estimator, X, y):\n",
    "    event_indicators = np.where((y[\"MORTSTAT\"] == 1) & (y[\"TIMETOEVENT\"] <= 3), 0, 1)\n",
    "\n",
    "    # Get predicted survival functions\n",
    "    surv_funcs = estimator.predict_survival_function(X)\n",
    "\n",
    "    # Get time points (assuming all survival functions have same time grid)\n",
    "    time_points = surv_funcs[0].x\n",
    "\n",
    "    # Extract survival probabilities at 3 years\n",
    "    surv_prob_3y = np.array([fn(time_points[3]) for fn in surv_funcs])\n",
    "\n",
    "    # Compute log-loss\n",
    "    logloss = log_loss(event_indicators, surv_prob_3y)\n",
    "\n",
    "    return -logloss  "
   ]
  },
  {
   "cell_type": "code",
   "execution_count": 8,
   "id": "4c9aed0a",
   "metadata": {},
   "outputs": [],
   "source": [
    "def bs3y(estimator, X, y):\n",
    "    event_indicators = np.where((y[\"MORTSTAT\"] == 1) & (y[\"TIMETOEVENT\"] <= 3), 0, 1)\n",
    "\n",
    "    # Get predicted survival functions\n",
    "    surv_funcs = estimator.predict_survival_function(X)\n",
    "\n",
    "    # Get time points (assuming all survival functions have same time grid)\n",
    "    time_points = surv_funcs[0].x\n",
    "\n",
    "    # Extract survival probabilities at 3 years\n",
    "    surv_prob_3y = np.array([fn(time_points[3]) for fn in surv_funcs])\n",
    "\n",
    "    # Compute log-loss\n",
    "    bs = brier_score_loss(event_indicators, surv_prob_3y)\n",
    "\n",
    "    return -bs  "
   ]
  },
  {
   "cell_type": "code",
   "execution_count": null,
   "id": "51767744",
   "metadata": {},
   "outputs": [],
   "source": []
  },
  {
   "cell_type": "code",
   "execution_count": null,
   "id": "d98e80ea",
   "metadata": {},
   "outputs": [],
   "source": []
  },
  {
   "cell_type": "code",
   "execution_count": 9,
   "id": "ddb90e76",
   "metadata": {},
   "outputs": [],
   "source": [
    "# SurvTree"
   ]
  },
  {
   "cell_type": "code",
   "execution_count": 10,
   "id": "ba0c1ecf",
   "metadata": {},
   "outputs": [],
   "source": [
    "# hyperparamter search 0 (scorer=log-loss)"
   ]
  },
  {
   "cell_type": "code",
   "execution_count": 11,
   "id": "48300672",
   "metadata": {},
   "outputs": [
    {
     "name": "stdout",
     "output_type": "stream",
     "text": [
      "{'max_depth': 4}\n"
     ]
    }
   ],
   "source": [
    "param_grid_st0 = {'max_depth': [2, 3, 4, 5, 6]}\n",
    "\n",
    "grid_search_st1 = GridSearchCV(estimator=SurvivalTree(), param_grid=param_grid_st0, scoring=ll3y, cv=4)\n",
    "\n",
    "grid_search_st1.fit(X_surv_train, y_surv_train)\n",
    "print(grid_search_st1.best_params_)"
   ]
  },
  {
   "cell_type": "code",
   "execution_count": 12,
   "id": "f12e8dd1",
   "metadata": {},
   "outputs": [
    {
     "data": {
      "text/html": [
       "<div>\n",
       "<style scoped>\n",
       "    .dataframe tbody tr th:only-of-type {\n",
       "        vertical-align: middle;\n",
       "    }\n",
       "\n",
       "    .dataframe tbody tr th {\n",
       "        vertical-align: top;\n",
       "    }\n",
       "\n",
       "    .dataframe thead th {\n",
       "        text-align: right;\n",
       "    }\n",
       "</style>\n",
       "<table border=\"1\" class=\"dataframe\">\n",
       "  <thead>\n",
       "    <tr style=\"text-align: right;\">\n",
       "      <th></th>\n",
       "      <th>rank_test_score</th>\n",
       "      <th>param_max_depth</th>\n",
       "      <th>ll3y</th>\n",
       "    </tr>\n",
       "  </thead>\n",
       "  <tbody>\n",
       "    <tr>\n",
       "      <th>2</th>\n",
       "      <td>1</td>\n",
       "      <td>4</td>\n",
       "      <td>0.1229</td>\n",
       "    </tr>\n",
       "    <tr>\n",
       "      <th>1</th>\n",
       "      <td>2</td>\n",
       "      <td>3</td>\n",
       "      <td>0.1244</td>\n",
       "    </tr>\n",
       "    <tr>\n",
       "      <th>3</th>\n",
       "      <td>3</td>\n",
       "      <td>5</td>\n",
       "      <td>0.1249</td>\n",
       "    </tr>\n",
       "    <tr>\n",
       "      <th>0</th>\n",
       "      <td>4</td>\n",
       "      <td>2</td>\n",
       "      <td>0.1278</td>\n",
       "    </tr>\n",
       "    <tr>\n",
       "      <th>4</th>\n",
       "      <td>5</td>\n",
       "      <td>6</td>\n",
       "      <td>0.1320</td>\n",
       "    </tr>\n",
       "  </tbody>\n",
       "</table>\n",
       "</div>"
      ],
      "text/plain": [
       "   rank_test_score  param_max_depth    ll3y\n",
       "2                1                4  0.1229\n",
       "1                2                3  0.1244\n",
       "3                3                5  0.1249\n",
       "0                4                2  0.1278\n",
       "4                5                6  0.1320"
      ]
     },
     "execution_count": 12,
     "metadata": {},
     "output_type": "execute_result"
    }
   ],
   "source": [
    "results_df = pd.DataFrame(grid_search_st1.cv_results_)\n",
    "\n",
    "# extract relevant columns\n",
    "results_df = results_df[['rank_test_score', 'param_max_depth', 'mean_test_score']]\n",
    "\n",
    "# convert negative log-loss to positive (since scoring='neg_log_loss')\n",
    "results_df['ll3y'] = (- results_df['mean_test_score']).round(4)\n",
    "results_df = results_df.drop(columns=['mean_test_score'])\n",
    "\n",
    "results_df = results_df.sort_values(by='rank_test_score')\n",
    "results_df.head(5)"
   ]
  },
  {
   "cell_type": "code",
   "execution_count": 13,
   "id": "89079dc4",
   "metadata": {},
   "outputs": [],
   "source": [
    "# ST0L"
   ]
  },
  {
   "cell_type": "code",
   "execution_count": 14,
   "id": "596d2bbd",
   "metadata": {},
   "outputs": [
    {
     "name": "stdout",
     "output_type": "stream",
     "text": [
      "Training time: 1.00 seconds\n"
     ]
    }
   ],
   "source": [
    "st0l = SurvivalTree(max_depth=4)\n",
    "\n",
    "start_time = time.time()\n",
    "st0l.fit(X_surv_train, y_surv_train)\n",
    "end_time = time.time()\n",
    "print(f\"Training time: {end_time - start_time:.2f} seconds\")"
   ]
  },
  {
   "cell_type": "code",
   "execution_count": 15,
   "id": "c140c20f",
   "metadata": {},
   "outputs": [
    {
     "name": "stdout",
     "output_type": "stream",
     "text": [
      "Log Loss is: 0.1213\n",
      "Log Loss os: 0.1210\n",
      "BS is: 0.0310\n",
      "BS os: 0.0306\n",
      "C is: 0.8500\n"
     ]
    }
   ],
   "source": [
    "# predict survival function\n",
    "surv_probs_train = st0l.predict_survival_function(X_surv_train)\n",
    "surv_probs_test = st0l.predict_survival_function(X_surv_test)\n",
    "\n",
    "# all time-to-event points\n",
    "time_points_train = surv_probs_train[0].x\n",
    "time_points_test = surv_probs_test[0].x \n",
    " \n",
    "# convert survival probabilities to df\n",
    "df_surv_probs_train = pd.DataFrame(\n",
    "    data=[fn(time_points_train) for fn in surv_probs_train],  \n",
    "    columns=time_points_train)\n",
    "df_surv_probs_test = pd.DataFrame(\n",
    "    data=[fn(time_points_train) for fn in surv_probs_test],  \n",
    "    columns=time_points_train)\n",
    "\n",
    "# surv probabilites after 1 and 3 years\n",
    "suvr_prob_3y_train = df_surv_probs_train.iloc[:,3]\n",
    "suvr_prob_3y_test = df_surv_probs_test.iloc[:,3]\n",
    "\n",
    "# extract status\n",
    "# get 3-year event status based on TIMETOEVENT and MORTSTAT\n",
    "status_3y_train_surv = np.where((df_train[\"MORTSTAT\"] == 1) & (df_train[\"TIMETOEVENT\"] <= 3), 0, 1)\n",
    "status_3y_test_surv = np.where((df_test[\"MORTSTAT\"] == 1) & (df_test[\"TIMETOEVENT\"] <= 3), 0, 1)\n",
    "\n",
    "# log-loss\n",
    "log_loss_3y_train = log_loss(status_3y_train_surv, suvr_prob_3y_train)\n",
    "log_loss_3y_test = log_loss(status_3y_test_surv, suvr_prob_3y_test)\n",
    "\n",
    "# compute Brier\n",
    "bs_train_3y = brier_score_loss(status_3y_train_surv, suvr_prob_3y_train)\n",
    "bs_test_3y = brier_score_loss(status_3y_test_surv, suvr_prob_3y_test)\n",
    "\n",
    "# c-index\n",
    "c_is = c_index_classification(df_train[\"MORTSTAT\"], suvr_prob_3y_train, df_train['TIMETOEVENT'])\n",
    "\n",
    "print(f'Log Loss is: {log_loss_3y_train:.4f}')\n",
    "print(f'Log Loss os: {log_loss_3y_test:.4f}')\n",
    "print(f'BS is: {bs_train_3y:.4f}')\n",
    "print(f'BS os: {bs_test_3y:.4f}')\n",
    "print(f'C is: {c_is:.4f}')"
   ]
  },
  {
   "cell_type": "code",
   "execution_count": 16,
   "id": "db631ca3",
   "metadata": {},
   "outputs": [],
   "source": [
    "#_______________________________________________________________________________________________________________________________"
   ]
  },
  {
   "cell_type": "code",
   "execution_count": 17,
   "id": "cacf6e2a",
   "metadata": {},
   "outputs": [],
   "source": [
    "# hyperparamter search 0 (scorer=Brier-score)"
   ]
  },
  {
   "cell_type": "code",
   "execution_count": 18,
   "id": "27b78905",
   "metadata": {},
   "outputs": [
    {
     "name": "stdout",
     "output_type": "stream",
     "text": [
      "{'max_depth': 5}\n"
     ]
    }
   ],
   "source": [
    "grid_search_st2 = GridSearchCV(estimator=SurvivalTree(), param_grid=param_grid_st0, scoring=bs3y, cv=4)\n",
    "\n",
    "grid_search_st2.fit(X_surv_train, y_surv_train)\n",
    "print(grid_search_st2.best_params_)"
   ]
  },
  {
   "cell_type": "code",
   "execution_count": 19,
   "id": "976f76d6",
   "metadata": {},
   "outputs": [
    {
     "data": {
      "text/html": [
       "<div>\n",
       "<style scoped>\n",
       "    .dataframe tbody tr th:only-of-type {\n",
       "        vertical-align: middle;\n",
       "    }\n",
       "\n",
       "    .dataframe tbody tr th {\n",
       "        vertical-align: top;\n",
       "    }\n",
       "\n",
       "    .dataframe thead th {\n",
       "        text-align: right;\n",
       "    }\n",
       "</style>\n",
       "<table border=\"1\" class=\"dataframe\">\n",
       "  <thead>\n",
       "    <tr style=\"text-align: right;\">\n",
       "      <th></th>\n",
       "      <th>rank_test_score</th>\n",
       "      <th>param_max_depth</th>\n",
       "      <th>bs3y</th>\n",
       "    </tr>\n",
       "  </thead>\n",
       "  <tbody>\n",
       "    <tr>\n",
       "      <th>3</th>\n",
       "      <td>1</td>\n",
       "      <td>5</td>\n",
       "      <td>0.0313</td>\n",
       "    </tr>\n",
       "    <tr>\n",
       "      <th>4</th>\n",
       "      <td>2</td>\n",
       "      <td>6</td>\n",
       "      <td>0.0313</td>\n",
       "    </tr>\n",
       "    <tr>\n",
       "      <th>2</th>\n",
       "      <td>3</td>\n",
       "      <td>4</td>\n",
       "      <td>0.0314</td>\n",
       "    </tr>\n",
       "    <tr>\n",
       "      <th>1</th>\n",
       "      <td>4</td>\n",
       "      <td>3</td>\n",
       "      <td>0.0316</td>\n",
       "    </tr>\n",
       "    <tr>\n",
       "      <th>0</th>\n",
       "      <td>5</td>\n",
       "      <td>2</td>\n",
       "      <td>0.0319</td>\n",
       "    </tr>\n",
       "  </tbody>\n",
       "</table>\n",
       "</div>"
      ],
      "text/plain": [
       "   rank_test_score  param_max_depth    bs3y\n",
       "3                1                5  0.0313\n",
       "4                2                6  0.0313\n",
       "2                3                4  0.0314\n",
       "1                4                3  0.0316\n",
       "0                5                2  0.0319"
      ]
     },
     "execution_count": 19,
     "metadata": {},
     "output_type": "execute_result"
    }
   ],
   "source": [
    "results_df = pd.DataFrame(grid_search_st2.cv_results_)\n",
    "\n",
    "# extract relevant columns\n",
    "results_df = results_df[['rank_test_score', 'param_max_depth', 'mean_test_score']]\n",
    "results_df['bs3y'] = (- results_df['mean_test_score']).round(4)\n",
    "results_df = results_df.drop(columns=['mean_test_score'])\n",
    "\n",
    "results_df = results_df.sort_values(by='rank_test_score')\n",
    "results_df.head(5)"
   ]
  },
  {
   "cell_type": "code",
   "execution_count": 20,
   "id": "85d16d9b",
   "metadata": {},
   "outputs": [],
   "source": [
    "# ST0B"
   ]
  },
  {
   "cell_type": "code",
   "execution_count": 21,
   "id": "44e1ec22",
   "metadata": {},
   "outputs": [
    {
     "name": "stdout",
     "output_type": "stream",
     "text": [
      "Training time: 1.32 seconds\n"
     ]
    }
   ],
   "source": [
    "st0b = SurvivalTree(max_depth=5)\n",
    "\n",
    "start_time = time.time()\n",
    "st0b.fit(X_surv_train, y_surv_train)\n",
    "end_time = time.time()\n",
    "print(f\"Training time: {end_time - start_time:.2f} seconds\")"
   ]
  },
  {
   "cell_type": "code",
   "execution_count": 22,
   "id": "f34ee1a5",
   "metadata": {},
   "outputs": [
    {
     "name": "stdout",
     "output_type": "stream",
     "text": [
      "Log Loss is: 0.1191\n",
      "Log Loss os: 0.1222\n",
      "BS is: 0.0306\n",
      "BS os: 0.0304\n",
      "C is: 0.8585\n"
     ]
    }
   ],
   "source": [
    "# predict survival function\n",
    "surv_probs_train = st0b.predict_survival_function(X_surv_train)\n",
    "surv_probs_test = st0b.predict_survival_function(X_surv_test)\n",
    "\n",
    "# all time-to-event points\n",
    "time_points_train = surv_probs_train[0].x\n",
    "time_points_test = surv_probs_test[0].x \n",
    " \n",
    "# convert survival probabilities to df\n",
    "df_surv_probs_train = pd.DataFrame(\n",
    "    data=[fn(time_points_train) for fn in surv_probs_train],  \n",
    "    columns=time_points_train)\n",
    "df_surv_probs_test = pd.DataFrame(\n",
    "    data=[fn(time_points_train) for fn in surv_probs_test],  \n",
    "    columns=time_points_train)\n",
    "\n",
    "# surv probabilites after 1 and 3 years\n",
    "suvr_prob_3y_train = df_surv_probs_train.iloc[:,3]\n",
    "suvr_prob_3y_test = df_surv_probs_test.iloc[:,3]\n",
    "\n",
    "# extract status\n",
    "# get 3-year event status based on TIMETOEVENT and MORTSTAT\n",
    "status_3y_train_surv = np.where((df_train[\"MORTSTAT\"] == 1) & (df_train[\"TIMETOEVENT\"] <= 3), 0, 1)\n",
    "status_3y_test_surv = np.where((df_test[\"MORTSTAT\"] == 1) & (df_test[\"TIMETOEVENT\"] <= 3), 0, 1)\n",
    "\n",
    "# log-loss\n",
    "log_loss_3y_train = log_loss(status_3y_train_surv, suvr_prob_3y_train)\n",
    "log_loss_3y_test = log_loss(status_3y_test_surv, suvr_prob_3y_test)\n",
    "\n",
    "# compute Brier\n",
    "bs_train_3y = brier_score_loss(status_3y_train_surv, suvr_prob_3y_train)\n",
    "bs_test_3y = brier_score_loss(status_3y_test_surv, suvr_prob_3y_test)\n",
    "\n",
    "# c-index\n",
    "c_is =  c_index_classification(df_train[\"MORTSTAT\"], suvr_prob_3y_train, df_train['TIMETOEVENT'])\n",
    "\n",
    "print(f'Log Loss is: {log_loss_3y_train:.4f}')\n",
    "print(f'Log Loss os: {log_loss_3y_test:.4f}')\n",
    "print(f'BS is: {bs_train_3y:.4f}')\n",
    "print(f'BS os: {bs_test_3y:.4f}')\n",
    "print(f'C is: {c_is:.4f}')"
   ]
  },
  {
   "cell_type": "code",
   "execution_count": null,
   "id": "e4ff7fe8",
   "metadata": {},
   "outputs": [],
   "source": []
  },
  {
   "cell_type": "code",
   "execution_count": 23,
   "id": "543b3a0a",
   "metadata": {},
   "outputs": [],
   "source": [
    "#_______________________________________________________________________________________________________________________________"
   ]
  },
  {
   "cell_type": "code",
   "execution_count": 24,
   "id": "4cd07376",
   "metadata": {},
   "outputs": [],
   "source": [
    "# hyperparamter search (scorer=log-loss)"
   ]
  },
  {
   "cell_type": "code",
   "execution_count": 25,
   "id": "30d385fe",
   "metadata": {},
   "outputs": [
    {
     "name": "stdout",
     "output_type": "stream",
     "text": [
      "Fitting 4 folds for each of 20 candidates, totalling 80 fits\n",
      "{'max_leaf_nodes': 35, 'min_samples_leaf': 200}\n"
     ]
    }
   ],
   "source": [
    "param_grid_st1 = {'min_samples_leaf': [200, 400, 500, 600],\n",
    "                  'max_leaf_nodes': [15, 25, 35, 40, 50]}\n",
    "\n",
    "grid_search_st3 = GridSearchCV(estimator=SurvivalTree(), param_grid=param_grid_st1, scoring=ll3y, cv=4, n_jobs=-1, verbose=1)\n",
    "\n",
    "grid_search_st3.fit(X_surv_train, y_surv_train)\n",
    "print(grid_search_st3.best_params_)"
   ]
  },
  {
   "cell_type": "code",
   "execution_count": 26,
   "id": "7c840855",
   "metadata": {},
   "outputs": [
    {
     "data": {
      "text/html": [
       "<div>\n",
       "<style scoped>\n",
       "    .dataframe tbody tr th:only-of-type {\n",
       "        vertical-align: middle;\n",
       "    }\n",
       "\n",
       "    .dataframe tbody tr th {\n",
       "        vertical-align: top;\n",
       "    }\n",
       "\n",
       "    .dataframe thead th {\n",
       "        text-align: right;\n",
       "    }\n",
       "</style>\n",
       "<table border=\"1\" class=\"dataframe\">\n",
       "  <thead>\n",
       "    <tr style=\"text-align: right;\">\n",
       "      <th></th>\n",
       "      <th>rank_test_score</th>\n",
       "      <th>param_min_samples_leaf</th>\n",
       "      <th>param_max_leaf_nodes</th>\n",
       "      <th>ll3y</th>\n",
       "    </tr>\n",
       "  </thead>\n",
       "  <tbody>\n",
       "    <tr>\n",
       "      <th>8</th>\n",
       "      <td>1</td>\n",
       "      <td>200</td>\n",
       "      <td>35</td>\n",
       "      <td>0.1198</td>\n",
       "    </tr>\n",
       "    <tr>\n",
       "      <th>16</th>\n",
       "      <td>2</td>\n",
       "      <td>200</td>\n",
       "      <td>50</td>\n",
       "      <td>0.1198</td>\n",
       "    </tr>\n",
       "    <tr>\n",
       "      <th>13</th>\n",
       "      <td>3</td>\n",
       "      <td>400</td>\n",
       "      <td>40</td>\n",
       "      <td>0.1199</td>\n",
       "    </tr>\n",
       "    <tr>\n",
       "      <th>9</th>\n",
       "      <td>4</td>\n",
       "      <td>400</td>\n",
       "      <td>35</td>\n",
       "      <td>0.1199</td>\n",
       "    </tr>\n",
       "    <tr>\n",
       "      <th>5</th>\n",
       "      <td>5</td>\n",
       "      <td>400</td>\n",
       "      <td>25</td>\n",
       "      <td>0.1200</td>\n",
       "    </tr>\n",
       "  </tbody>\n",
       "</table>\n",
       "</div>"
      ],
      "text/plain": [
       "    rank_test_score  param_min_samples_leaf  param_max_leaf_nodes    ll3y\n",
       "8                 1                     200                    35  0.1198\n",
       "16                2                     200                    50  0.1198\n",
       "13                3                     400                    40  0.1199\n",
       "9                 4                     400                    35  0.1199\n",
       "5                 5                     400                    25  0.1200"
      ]
     },
     "execution_count": 26,
     "metadata": {},
     "output_type": "execute_result"
    }
   ],
   "source": [
    "results_df = pd.DataFrame(grid_search_st3.cv_results_)\n",
    "\n",
    "# extract relevant columns\n",
    "results_df = results_df[['rank_test_score', 'param_min_samples_leaf', 'param_max_leaf_nodes', 'mean_test_score']]\n",
    "results_df['ll3y'] = (- results_df['mean_test_score']).round(4)\n",
    "results_df = results_df.drop(columns=['mean_test_score'])\n",
    "\n",
    "results_df = results_df.sort_values(by='rank_test_score')\n",
    "results_df.head(5)"
   ]
  },
  {
   "cell_type": "code",
   "execution_count": 27,
   "id": "b3e4a150",
   "metadata": {},
   "outputs": [],
   "source": [
    "# ST1L"
   ]
  },
  {
   "cell_type": "code",
   "execution_count": 28,
   "id": "1eaa9c2c",
   "metadata": {},
   "outputs": [
    {
     "name": "stdout",
     "output_type": "stream",
     "text": [
      "Training time: 1.46 seconds\n"
     ]
    }
   ],
   "source": [
    "st1l = SurvivalTree(max_leaf_nodes=35, min_samples_leaf=200)\n",
    "\n",
    "start_time = time.time()\n",
    "st1l.fit(X_surv_train, y_surv_train)\n",
    "end_time = time.time()\n",
    "print(f\"Training time: {end_time - start_time:.2f} seconds\")"
   ]
  },
  {
   "cell_type": "code",
   "execution_count": 29,
   "id": "0fb44c37",
   "metadata": {},
   "outputs": [
    {
     "name": "stdout",
     "output_type": "stream",
     "text": [
      "Log Loss is: 0.1174\n",
      "Log Loss os: 0.1160\n",
      "BS is: 0.0306\n",
      "BS os: 0.0303\n",
      "C is: 0.8705\n"
     ]
    }
   ],
   "source": [
    "# predict survival function\n",
    "surv_probs_train = st1l.predict_survival_function(X_surv_train)\n",
    "surv_probs_test = st1l.predict_survival_function(X_surv_test)\n",
    "\n",
    "# all time-to-event points\n",
    "time_points_train = surv_probs_train[0].x\n",
    "time_points_test = surv_probs_test[0].x \n",
    " \n",
    "# convert survival probabilities to df\n",
    "df_surv_probs_train = pd.DataFrame(\n",
    "    data=[fn(time_points_train) for fn in surv_probs_train],  \n",
    "    columns=time_points_train)\n",
    "df_surv_probs_test = pd.DataFrame(\n",
    "    data=[fn(time_points_train) for fn in surv_probs_test],  \n",
    "    columns=time_points_train)\n",
    "\n",
    "# surv probabilites after 1 and 3 years\n",
    "suvr_prob_3y_train = df_surv_probs_train.iloc[:,3]\n",
    "suvr_prob_3y_test = df_surv_probs_test.iloc[:,3]\n",
    "\n",
    "# extract status\n",
    "# get 3-year event status based on TIMETOEVENT and MORTSTAT\n",
    "status_3y_train_surv = np.where((df_train[\"MORTSTAT\"] == 1) & (df_train[\"TIMETOEVENT\"] <= 3), 0, 1)\n",
    "status_3y_test_surv = np.where((df_test[\"MORTSTAT\"] == 1) & (df_test[\"TIMETOEVENT\"] <= 3), 0, 1)\n",
    "\n",
    "# log-loss\n",
    "log_loss_3y_train = log_loss(status_3y_train_surv, suvr_prob_3y_train)\n",
    "log_loss_3y_test = log_loss(status_3y_test_surv, suvr_prob_3y_test)\n",
    "\n",
    "# compute Brier\n",
    "bs_train_3y = brier_score_loss(status_3y_train_surv, suvr_prob_3y_train)\n",
    "bs_test_3y = brier_score_loss(status_3y_test_surv, suvr_prob_3y_test)\n",
    "\n",
    "# c-index\n",
    "c_is =  c_index_classification(df_train[\"MORTSTAT\"], suvr_prob_3y_train, df_train['TIMETOEVENT'])\n",
    "\n",
    "print(f'Log Loss is: {log_loss_3y_train:.4f}')\n",
    "print(f'Log Loss os: {log_loss_3y_test:.4f}')\n",
    "print(f'BS is: {bs_train_3y:.4f}')\n",
    "print(f'BS os: {bs_test_3y:.4f}')\n",
    "print(f'C is: {c_is:.4f}')"
   ]
  },
  {
   "cell_type": "code",
   "execution_count": 30,
   "id": "4be3f71b",
   "metadata": {},
   "outputs": [],
   "source": [
    "# ST2L"
   ]
  },
  {
   "cell_type": "code",
   "execution_count": 31,
   "id": "14ea5ed3",
   "metadata": {},
   "outputs": [
    {
     "name": "stdout",
     "output_type": "stream",
     "text": [
      "Training time: 2.23 seconds\n"
     ]
    }
   ],
   "source": [
    "st2l = SurvivalTree(max_leaf_nodes=50, min_samples_leaf=200)\n",
    "\n",
    "start_time = time.time()\n",
    "st2l.fit(X_surv_train, y_surv_train)\n",
    "end_time = time.time()\n",
    "print(f\"Training time: {end_time - start_time:.2f} seconds\")"
   ]
  },
  {
   "cell_type": "code",
   "execution_count": 32,
   "id": "0b9a6028",
   "metadata": {},
   "outputs": [
    {
     "name": "stdout",
     "output_type": "stream",
     "text": [
      "Log Loss is: 0.1163\n",
      "Log Loss os: 0.1155\n",
      "BS is: 0.0305\n",
      "BS os: 0.0301\n",
      "C is: 0.8751\n"
     ]
    }
   ],
   "source": [
    "# predict survival function\n",
    "surv_probs_train = st2l.predict_survival_function(X_surv_train)\n",
    "surv_probs_test = st2l.predict_survival_function(X_surv_test)\n",
    "\n",
    "# all time-to-event points\n",
    "time_points_train = surv_probs_train[0].x\n",
    "time_points_test = surv_probs_test[0].x \n",
    " \n",
    "# convert survival probabilities to df\n",
    "df_surv_probs_train = pd.DataFrame(\n",
    "    data=[fn(time_points_train) for fn in surv_probs_train],  \n",
    "    columns=time_points_train)\n",
    "df_surv_probs_test = pd.DataFrame(\n",
    "    data=[fn(time_points_train) for fn in surv_probs_test],  \n",
    "    columns=time_points_train)\n",
    "\n",
    "# surv probabilites after 1 and 3 years\n",
    "suvr_prob_3y_train = df_surv_probs_train.iloc[:,3]\n",
    "suvr_prob_3y_test = df_surv_probs_test.iloc[:,3]\n",
    "\n",
    "# extract status\n",
    "# get 3-year event status based on TIMETOEVENT and MORTSTAT\n",
    "status_3y_train_surv = np.where((df_train[\"MORTSTAT\"] == 1) & (df_train[\"TIMETOEVENT\"] <= 3), 0, 1)\n",
    "status_3y_test_surv = np.where((df_test[\"MORTSTAT\"] == 1) & (df_test[\"TIMETOEVENT\"] <= 3), 0, 1)\n",
    "\n",
    "# log-loss\n",
    "log_loss_3y_train = log_loss(status_3y_train_surv, suvr_prob_3y_train)\n",
    "log_loss_3y_test = log_loss(status_3y_test_surv, suvr_prob_3y_test)\n",
    "\n",
    "# compute Brier\n",
    "bs_train_3y = brier_score_loss(status_3y_train_surv, suvr_prob_3y_train)\n",
    "bs_test_3y = brier_score_loss(status_3y_test_surv, suvr_prob_3y_test)\n",
    "\n",
    "# c-index\n",
    "c_is =  c_index_classification(df_train[\"MORTSTAT\"], suvr_prob_3y_train, df_train['TIMETOEVENT'])\n",
    "\n",
    "print(f'Log Loss is: {log_loss_3y_train:.4f}')\n",
    "print(f'Log Loss os: {log_loss_3y_test:.4f}')\n",
    "print(f'BS is: {bs_train_3y:.4f}')\n",
    "print(f'BS os: {bs_test_3y:.4f}')\n",
    "print(f'C is: {c_is:.4f}')"
   ]
  },
  {
   "cell_type": "code",
   "execution_count": 33,
   "id": "33bf4435",
   "metadata": {},
   "outputs": [],
   "source": [
    "# ST3L"
   ]
  },
  {
   "cell_type": "code",
   "execution_count": 34,
   "id": "eac4e9f2",
   "metadata": {},
   "outputs": [
    {
     "name": "stdout",
     "output_type": "stream",
     "text": [
      "Training time: 1.29 seconds\n"
     ]
    }
   ],
   "source": [
    "st3l = SurvivalTree(max_leaf_nodes=40, min_samples_leaf=400)\n",
    "\n",
    "start_time = time.time()\n",
    "st3l.fit(X_surv_train, y_surv_train)\n",
    "end_time = time.time()\n",
    "print(f\"Training time: {end_time - start_time:.2f} seconds\")"
   ]
  },
  {
   "cell_type": "code",
   "execution_count": 35,
   "id": "0ed7638e",
   "metadata": {},
   "outputs": [
    {
     "name": "stdout",
     "output_type": "stream",
     "text": [
      "Log Loss is: 0.1173\n",
      "Log Loss os: 0.1160\n",
      "BS is: 0.0308\n",
      "BS os: 0.0303\n",
      "C is: 0.8727\n"
     ]
    }
   ],
   "source": [
    "# predict survival function\n",
    "surv_probs_train = st3l.predict_survival_function(X_surv_train)\n",
    "surv_probs_test = st3l.predict_survival_function(X_surv_test)\n",
    "\n",
    "# all time-to-event points\n",
    "time_points_train = surv_probs_train[0].x\n",
    "time_points_test = surv_probs_test[0].x \n",
    " \n",
    "# convert survival probabilities to df\n",
    "df_surv_probs_train = pd.DataFrame(\n",
    "    data=[fn(time_points_train) for fn in surv_probs_train],  \n",
    "    columns=time_points_train)\n",
    "df_surv_probs_test = pd.DataFrame(\n",
    "    data=[fn(time_points_train) for fn in surv_probs_test],  \n",
    "    columns=time_points_train)\n",
    "\n",
    "# surv probabilites after 1 and 3 years\n",
    "suvr_prob_3y_train = df_surv_probs_train.iloc[:,3]\n",
    "suvr_prob_3y_test = df_surv_probs_test.iloc[:,3]\n",
    "\n",
    "# extract status\n",
    "# get 3-year event status based on TIMETOEVENT and MORTSTAT\n",
    "status_3y_train_surv = np.where((df_train[\"MORTSTAT\"] == 1) & (df_train[\"TIMETOEVENT\"] <= 3), 0, 1)\n",
    "status_3y_test_surv = np.where((df_test[\"MORTSTAT\"] == 1) & (df_test[\"TIMETOEVENT\"] <= 3), 0, 1)\n",
    "\n",
    "# log-loss\n",
    "log_loss_3y_train = log_loss(status_3y_train_surv, suvr_prob_3y_train)\n",
    "log_loss_3y_test = log_loss(status_3y_test_surv, suvr_prob_3y_test)\n",
    "\n",
    "# compute Brier\n",
    "bs_train_3y = brier_score_loss(status_3y_train_surv, suvr_prob_3y_train)\n",
    "bs_test_3y = brier_score_loss(status_3y_test_surv, suvr_prob_3y_test)\n",
    "\n",
    "# c-index\n",
    "c_is =  c_index_classification(df_train[\"MORTSTAT\"], suvr_prob_3y_train, df_train['TIMETOEVENT'])\n",
    "\n",
    "print(f'Log Loss is: {log_loss_3y_train:.4f}')\n",
    "print(f'Log Loss os: {log_loss_3y_test:.4f}')\n",
    "print(f'BS is: {bs_train_3y:.4f}')\n",
    "print(f'BS os: {bs_test_3y:.4f}')\n",
    "print(f'C is: {c_is:.4f}')"
   ]
  },
  {
   "cell_type": "code",
   "execution_count": 36,
   "id": "55137935",
   "metadata": {},
   "outputs": [],
   "source": [
    "#_______________________________________________________________________________________________________________________________"
   ]
  },
  {
   "cell_type": "code",
   "execution_count": 37,
   "id": "e4dc1fa5",
   "metadata": {},
   "outputs": [],
   "source": [
    "# hyperparamter search (scorer=Brier score)"
   ]
  },
  {
   "cell_type": "code",
   "execution_count": 38,
   "id": "614aae66",
   "metadata": {},
   "outputs": [
    {
     "name": "stdout",
     "output_type": "stream",
     "text": [
      "Fitting 4 folds for each of 20 candidates, totalling 80 fits\n",
      "{'max_leaf_nodes': 50, 'min_samples_leaf': 200}\n"
     ]
    }
   ],
   "source": [
    "grid_search_st4 = GridSearchCV(estimator=SurvivalTree(), param_grid=param_grid_st1, scoring=bs3y, cv=4, n_jobs=-1, verbose=1)\n",
    "\n",
    "grid_search_st4.fit(X_surv_train, y_surv_train)\n",
    "print(grid_search_st4.best_params_)"
   ]
  },
  {
   "cell_type": "code",
   "execution_count": 39,
   "id": "8edbd778",
   "metadata": {},
   "outputs": [
    {
     "data": {
      "text/html": [
       "<div>\n",
       "<style scoped>\n",
       "    .dataframe tbody tr th:only-of-type {\n",
       "        vertical-align: middle;\n",
       "    }\n",
       "\n",
       "    .dataframe tbody tr th {\n",
       "        vertical-align: top;\n",
       "    }\n",
       "\n",
       "    .dataframe thead th {\n",
       "        text-align: right;\n",
       "    }\n",
       "</style>\n",
       "<table border=\"1\" class=\"dataframe\">\n",
       "  <thead>\n",
       "    <tr style=\"text-align: right;\">\n",
       "      <th></th>\n",
       "      <th>rank_test_score</th>\n",
       "      <th>param_min_samples_leaf</th>\n",
       "      <th>param_max_leaf_nodes</th>\n",
       "      <th>bs3y</th>\n",
       "    </tr>\n",
       "  </thead>\n",
       "  <tbody>\n",
       "    <tr>\n",
       "      <th>16</th>\n",
       "      <td>1</td>\n",
       "      <td>200</td>\n",
       "      <td>50</td>\n",
       "      <td>0.0310</td>\n",
       "    </tr>\n",
       "    <tr>\n",
       "      <th>12</th>\n",
       "      <td>2</td>\n",
       "      <td>200</td>\n",
       "      <td>40</td>\n",
       "      <td>0.0310</td>\n",
       "    </tr>\n",
       "    <tr>\n",
       "      <th>8</th>\n",
       "      <td>3</td>\n",
       "      <td>200</td>\n",
       "      <td>35</td>\n",
       "      <td>0.0311</td>\n",
       "    </tr>\n",
       "    <tr>\n",
       "      <th>13</th>\n",
       "      <td>4</td>\n",
       "      <td>400</td>\n",
       "      <td>40</td>\n",
       "      <td>0.0311</td>\n",
       "    </tr>\n",
       "    <tr>\n",
       "      <th>9</th>\n",
       "      <td>5</td>\n",
       "      <td>400</td>\n",
       "      <td>35</td>\n",
       "      <td>0.0311</td>\n",
       "    </tr>\n",
       "  </tbody>\n",
       "</table>\n",
       "</div>"
      ],
      "text/plain": [
       "    rank_test_score  param_min_samples_leaf  param_max_leaf_nodes    bs3y\n",
       "16                1                     200                    50  0.0310\n",
       "12                2                     200                    40  0.0310\n",
       "8                 3                     200                    35  0.0311\n",
       "13                4                     400                    40  0.0311\n",
       "9                 5                     400                    35  0.0311"
      ]
     },
     "execution_count": 39,
     "metadata": {},
     "output_type": "execute_result"
    }
   ],
   "source": [
    "results_df = pd.DataFrame(grid_search_st4.cv_results_)\n",
    "\n",
    "# extract relevant columns\n",
    "results_df = results_df[['rank_test_score', 'param_min_samples_leaf', 'param_max_leaf_nodes', 'mean_test_score']]\n",
    "\n",
    "results_df['bs3y'] = (- results_df['mean_test_score']).round(4)\n",
    "results_df = results_df.drop(columns=['mean_test_score'])\n",
    "\n",
    "results_df = results_df.sort_values(by='rank_test_score')\n",
    "results_df.head(5)"
   ]
  },
  {
   "cell_type": "code",
   "execution_count": 40,
   "id": "1ca5baf1",
   "metadata": {},
   "outputs": [],
   "source": [
    "# ST1B"
   ]
  },
  {
   "cell_type": "code",
   "execution_count": 41,
   "id": "5497e728",
   "metadata": {},
   "outputs": [
    {
     "name": "stdout",
     "output_type": "stream",
     "text": [
      "Training time: 1.65 seconds\n"
     ]
    }
   ],
   "source": [
    "st1b = SurvivalTree(max_leaf_nodes=50, min_samples_leaf=200)\n",
    "\n",
    "start_time = time.time()\n",
    "st1b.fit(X_surv_train, y_surv_train)\n",
    "end_time = time.time()\n",
    "print(f\"Training time: {end_time - start_time:.2f} seconds\")"
   ]
  },
  {
   "cell_type": "code",
   "execution_count": 42,
   "id": "45aa97e5",
   "metadata": {},
   "outputs": [
    {
     "name": "stdout",
     "output_type": "stream",
     "text": [
      "Log Loss is: 0.1163\n",
      "Log Loss os: 0.1155\n",
      "BS is: 0.0305\n",
      "BS os: 0.0301\n",
      "C is: 0.8751\n"
     ]
    }
   ],
   "source": [
    "# predict survival function\n",
    "surv_probs_train = st1b.predict_survival_function(X_surv_train)\n",
    "surv_probs_test = st1b.predict_survival_function(X_surv_test)\n",
    "\n",
    "# all time-to-event points\n",
    "time_points_train = surv_probs_train[0].x\n",
    "time_points_test = surv_probs_test[0].x \n",
    " \n",
    "# convert survival probabilities to df\n",
    "df_surv_probs_train = pd.DataFrame(\n",
    "    data=[fn(time_points_train) for fn in surv_probs_train],  \n",
    "    columns=time_points_train)\n",
    "df_surv_probs_test = pd.DataFrame(\n",
    "    data=[fn(time_points_train) for fn in surv_probs_test],  \n",
    "    columns=time_points_train)\n",
    "\n",
    "# surv probabilites after 1 and 3 years\n",
    "suvr_prob_3y_train = df_surv_probs_train.iloc[:,3]\n",
    "suvr_prob_3y_test = df_surv_probs_test.iloc[:,3]\n",
    "\n",
    "# extract status\n",
    "# get 3-year event status based on TIMETOEVENT and MORTSTAT\n",
    "status_3y_train_surv = np.where((df_train[\"MORTSTAT\"] == 1) & (df_train[\"TIMETOEVENT\"] <= 3), 0, 1)\n",
    "status_3y_test_surv = np.where((df_test[\"MORTSTAT\"] == 1) & (df_test[\"TIMETOEVENT\"] <= 3), 0, 1)\n",
    "\n",
    "# log-loss\n",
    "log_loss_3y_train = log_loss(status_3y_train_surv, suvr_prob_3y_train)\n",
    "log_loss_3y_test = log_loss(status_3y_test_surv, suvr_prob_3y_test)\n",
    "\n",
    "# compute Brier\n",
    "bs_train_3y = brier_score_loss(status_3y_train_surv, suvr_prob_3y_train)\n",
    "bs_test_3y = brier_score_loss(status_3y_test_surv, suvr_prob_3y_test)\n",
    "\n",
    "# c-index\n",
    "c_is =  c_index_classification(df_train[\"MORTSTAT\"], suvr_prob_3y_train, df_train['TIMETOEVENT'])\n",
    "\n",
    "print(f'Log Loss is: {log_loss_3y_train:.4f}')\n",
    "print(f'Log Loss os: {log_loss_3y_test:.4f}')\n",
    "print(f'BS is: {bs_train_3y:.4f}')\n",
    "print(f'BS os: {bs_test_3y:.4f}')\n",
    "print(f'C is: {c_is:.4f}')"
   ]
  },
  {
   "cell_type": "code",
   "execution_count": 43,
   "id": "81ee76b2",
   "metadata": {},
   "outputs": [],
   "source": [
    "# ST2B"
   ]
  },
  {
   "cell_type": "code",
   "execution_count": 44,
   "id": "96d25aea",
   "metadata": {},
   "outputs": [
    {
     "name": "stdout",
     "output_type": "stream",
     "text": [
      "Training time: 1.58 seconds\n"
     ]
    }
   ],
   "source": [
    "st2b = SurvivalTree(max_leaf_nodes=40, min_samples_leaf=200)\n",
    "\n",
    "start_time = time.time()\n",
    "st2b.fit(X_surv_train, y_surv_train)\n",
    "end_time = time.time()\n",
    "print(f\"Training time: {end_time - start_time:.2f} seconds\")"
   ]
  },
  {
   "cell_type": "code",
   "execution_count": 45,
   "id": "569e3d94",
   "metadata": {},
   "outputs": [
    {
     "name": "stdout",
     "output_type": "stream",
     "text": [
      "Log Loss is: 0.1171\n",
      "Log Loss os: 0.1160\n",
      "BS is: 0.0306\n",
      "BS os: 0.0303\n",
      "C is: 0.8725\n"
     ]
    }
   ],
   "source": [
    "# predict survival function\n",
    "surv_probs_train = st2b.predict_survival_function(X_surv_train)\n",
    "surv_probs_test = st2b.predict_survival_function(X_surv_test)\n",
    "\n",
    "# all time-to-event points\n",
    "time_points_train = surv_probs_train[0].x\n",
    "time_points_test = surv_probs_test[0].x \n",
    " \n",
    "# convert survival probabilities to df\n",
    "df_surv_probs_train = pd.DataFrame(\n",
    "    data=[fn(time_points_train) for fn in surv_probs_train],  \n",
    "    columns=time_points_train)\n",
    "df_surv_probs_test = pd.DataFrame(\n",
    "    data=[fn(time_points_train) for fn in surv_probs_test],  \n",
    "    columns=time_points_train)\n",
    "\n",
    "# surv probabilites after 1 and 3 years\n",
    "suvr_prob_3y_train = df_surv_probs_train.iloc[:,3]\n",
    "suvr_prob_3y_test = df_surv_probs_test.iloc[:,3]\n",
    "\n",
    "# extract status\n",
    "# get 3-year event status based on TIMETOEVENT and MORTSTAT\n",
    "status_3y_train_surv = np.where((df_train[\"MORTSTAT\"] == 1) & (df_train[\"TIMETOEVENT\"] <= 3), 0, 1)\n",
    "status_3y_test_surv = np.where((df_test[\"MORTSTAT\"] == 1) & (df_test[\"TIMETOEVENT\"] <= 3), 0, 1)\n",
    "\n",
    "# log-loss\n",
    "log_loss_3y_train = log_loss(status_3y_train_surv, suvr_prob_3y_train)\n",
    "log_loss_3y_test = log_loss(status_3y_test_surv, suvr_prob_3y_test)\n",
    "\n",
    "# compute Brier\n",
    "bs_train_3y = brier_score_loss(status_3y_train_surv, suvr_prob_3y_train)\n",
    "bs_test_3y = brier_score_loss(status_3y_test_surv, suvr_prob_3y_test)\n",
    "\n",
    "# c-index\n",
    "c_is =  c_index_classification(df_train[\"MORTSTAT\"], suvr_prob_3y_train, df_train['TIMETOEVENT'])\n",
    "\n",
    "print(f'Log Loss is: {log_loss_3y_train:.4f}')\n",
    "print(f'Log Loss os: {log_loss_3y_test:.4f}')\n",
    "print(f'BS is: {bs_train_3y:.4f}')\n",
    "print(f'BS os: {bs_test_3y:.4f}')\n",
    "print(f'C is: {c_is:.4f}')"
   ]
  },
  {
   "cell_type": "code",
   "execution_count": 46,
   "id": "1b21f04e",
   "metadata": {},
   "outputs": [],
   "source": [
    "# ST3B"
   ]
  },
  {
   "cell_type": "code",
   "execution_count": 47,
   "id": "cc53cdfb",
   "metadata": {},
   "outputs": [
    {
     "name": "stdout",
     "output_type": "stream",
     "text": [
      "Training time: 1.46 seconds\n"
     ]
    }
   ],
   "source": [
    "st3b = SurvivalTree(max_leaf_nodes=35, min_samples_leaf=200)\n",
    "\n",
    "start_time = time.time()\n",
    "st3b.fit(X_surv_train, y_surv_train)\n",
    "end_time = time.time()\n",
    "print(f\"Training time: {end_time - start_time:.2f} seconds\")"
   ]
  },
  {
   "cell_type": "code",
   "execution_count": 48,
   "id": "4617eade",
   "metadata": {},
   "outputs": [
    {
     "name": "stdout",
     "output_type": "stream",
     "text": [
      "Log Loss is: 0.1174\n",
      "Log Loss os: 0.1160\n",
      "BS is: 0.0306\n",
      "BS os: 0.0303\n",
      "C is: 0.8705\n"
     ]
    }
   ],
   "source": [
    "# predict survival function\n",
    "surv_probs_train = st3b.predict_survival_function(X_surv_train)\n",
    "surv_probs_test = st3b.predict_survival_function(X_surv_test)\n",
    "\n",
    "# all time-to-event points\n",
    "time_points_train = surv_probs_train[0].x\n",
    "time_points_test = surv_probs_test[0].x \n",
    " \n",
    "# convert survival probabilities to df\n",
    "df_surv_probs_train = pd.DataFrame(\n",
    "    data=[fn(time_points_train) for fn in surv_probs_train],  \n",
    "    columns=time_points_train)\n",
    "df_surv_probs_test = pd.DataFrame(\n",
    "    data=[fn(time_points_train) for fn in surv_probs_test],  \n",
    "    columns=time_points_train)\n",
    "\n",
    "# surv probabilites after 1 and 3 years\n",
    "suvr_prob_3y_train = df_surv_probs_train.iloc[:,3]\n",
    "suvr_prob_3y_test = df_surv_probs_test.iloc[:,3]\n",
    "\n",
    "# extract status\n",
    "# get 3-year event status based on TIMETOEVENT and MORTSTAT\n",
    "status_3y_train_surv = np.where((df_train[\"MORTSTAT\"] == 1) & (df_train[\"TIMETOEVENT\"] <= 3), 0, 1)\n",
    "status_3y_test_surv = np.where((df_test[\"MORTSTAT\"] == 1) & (df_test[\"TIMETOEVENT\"] <= 3), 0, 1)\n",
    "\n",
    "# log-loss\n",
    "log_loss_3y_train = log_loss(status_3y_train_surv, suvr_prob_3y_train)\n",
    "log_loss_3y_test = log_loss(status_3y_test_surv, suvr_prob_3y_test)\n",
    "\n",
    "# compute Brier\n",
    "bs_train_3y = brier_score_loss(status_3y_train_surv, suvr_prob_3y_train)\n",
    "bs_test_3y = brier_score_loss(status_3y_test_surv, suvr_prob_3y_test)\n",
    "\n",
    "# c-index\n",
    "c_is =  c_index_classification(df_train[\"MORTSTAT\"], suvr_prob_3y_train, df_train['TIMETOEVENT'])\n",
    "\n",
    "print(f'Log Loss is: {log_loss_3y_train:.4f}')\n",
    "print(f'Log Loss os: {log_loss_3y_test:.4f}')\n",
    "print(f'BS is: {bs_train_3y:.4f}')\n",
    "print(f'BS os: {bs_test_3y:.4f}')\n",
    "print(f'C is: {c_is:.4f}')"
   ]
  },
  {
   "cell_type": "code",
   "execution_count": null,
   "id": "39d38ea4",
   "metadata": {},
   "outputs": [],
   "source": []
  },
  {
   "cell_type": "code",
   "execution_count": null,
   "id": "d7e9f41e",
   "metadata": {},
   "outputs": [],
   "source": []
  }
 ],
 "metadata": {
  "kernelspec": {
   "display_name": "Python 3 (ipykernel)",
   "language": "python",
   "name": "python3"
  },
  "language_info": {
   "codemirror_mode": {
    "name": "ipython",
    "version": 3
   },
   "file_extension": ".py",
   "mimetype": "text/x-python",
   "name": "python",
   "nbconvert_exporter": "python",
   "pygments_lexer": "ipython3",
   "version": "3.11.5"
  }
 },
 "nbformat": 4,
 "nbformat_minor": 5
}
