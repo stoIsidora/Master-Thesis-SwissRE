{
 "cells": [
  {
   "cell_type": "code",
   "execution_count": 2,
   "id": "4ceb676b",
   "metadata": {},
   "outputs": [],
   "source": [
    "import pandas as pd\n",
    "import numpy as np\n",
    "import time\n",
    "import matplotlib.colors as mcolors\n",
    "from lifelines.utils import concordance_index\n",
    "from sklearn.model_selection import GridSearchCV\n",
    "from sklearn.metrics import log_loss\n",
    "from sklearn.metrics import brier_score_loss\n",
    "import matplotlib.ticker as mticker\n",
    "from sklearn.ensemble import GradientBoostingClassifier  \n",
    "from itertools import product"
   ]
  },
  {
   "cell_type": "code",
   "execution_count": null,
   "id": "28008a3c",
   "metadata": {},
   "outputs": [],
   "source": []
  },
  {
   "cell_type": "code",
   "execution_count": null,
   "id": "db260920",
   "metadata": {},
   "outputs": [],
   "source": []
  },
  {
   "cell_type": "code",
   "execution_count": 3,
   "id": "41b9fb6f",
   "metadata": {},
   "outputs": [],
   "source": [
    "df_train = pd.read_csv('df_train.csv')\n",
    "df_test = pd.read_csv('df_test.csv')"
   ]
  },
  {
   "cell_type": "code",
   "execution_count": 4,
   "id": "cf566f38",
   "metadata": {},
   "outputs": [],
   "source": [
    "# define three-year mortalitty status\n",
    "df_train.loc[:,'MORTSTAT3Y'] = np.where((df_train[\"MORTSTAT\"] == 1) & (df_train[\"TIMETOEVENT\"] <= 3), 1, 0)\n",
    "df_test.loc[:,'MORTSTAT3Y'] = np.where((df_test[\"MORTSTAT\"] == 1) & (df_test[\"TIMETOEVENT\"] <= 3), 1, 0)"
   ]
  },
  {
   "cell_type": "code",
   "execution_count": 5,
   "id": "2e0b27ec",
   "metadata": {},
   "outputs": [],
   "source": [
    "# select features and target\n",
    "X_train_3y = df_train.drop(columns=['MORTSTAT3Y', 'TIMETOEVENT', 'MORTSTAT'])\n",
    "y_train_3y = df_train['MORTSTAT3Y']\n",
    "\n",
    "X_test_3y = df_test.drop(columns=['MORTSTAT3Y', 'TIMETOEVENT', 'MORTSTAT'])\n",
    "y_test_3y = df_test['MORTSTAT3Y']"
   ]
  },
  {
   "cell_type": "code",
   "execution_count": null,
   "id": "38dcabf4",
   "metadata": {},
   "outputs": [],
   "source": []
  },
  {
   "cell_type": "code",
   "execution_count": null,
   "id": "63090ace",
   "metadata": {},
   "outputs": [],
   "source": []
  },
  {
   "cell_type": "code",
   "execution_count": 6,
   "id": "3fe4c2b1",
   "metadata": {},
   "outputs": [],
   "source": [
    "def c_index_classification(y_true, y_pred_proba, times):\n",
    "    y_true = np.asarray(y_true)\n",
    "    y_pred_proba = np.asarray(y_pred_proba)\n",
    "    times = np.asarray(times)\n",
    "    cc = dc = tp = 0\n",
    "\n",
    "    n = len(y_true)\n",
    "    for i in range(n):\n",
    "        for j in range(n):\n",
    "            if i == j:\n",
    "                continue\n",
    "            if times[i] < times[j] and y_true[i] == 1:\n",
    "                if y_pred_proba[i] > y_pred_proba[j]:\n",
    "                    cc += 1\n",
    "                elif y_pred_proba[i] < y_pred_proba[j]:\n",
    "                    dc += 1\n",
    "                else:\n",
    "                    tp += 1\n",
    "\n",
    "        \n",
    "    return (cc + 0.5 * tp) / (cc + dc + tp)"
   ]
  },
  {
   "cell_type": "code",
   "execution_count": null,
   "id": "ff4f3e31",
   "metadata": {},
   "outputs": [],
   "source": []
  },
  {
   "cell_type": "code",
   "execution_count": 7,
   "id": "01782038",
   "metadata": {},
   "outputs": [],
   "source": [
    "# GradientBoostingClassifier"
   ]
  },
  {
   "cell_type": "code",
   "execution_count": 8,
   "id": "3d9374c8",
   "metadata": {},
   "outputs": [],
   "source": [
    "# hyperparamter search (scorer=log-loss)"
   ]
  },
  {
   "cell_type": "code",
   "execution_count": 9,
   "id": "24c4e5ba",
   "metadata": {},
   "outputs": [
    {
     "name": "stdout",
     "output_type": "stream",
     "text": [
      "Fitting 4 folds for each of 243 candidates, totalling 972 fits\n",
      "{'learning_rate': 0.05, 'max_features': 20, 'max_leaf_nodes': 10, 'n_estimators': 200, 'subsample': 1}\n"
     ]
    }
   ],
   "source": [
    "param_grid_gbc = {'n_estimators': [100, 150, 200],\n",
    "                  'learning_rate': [0.01, 0.05, 0.1],\n",
    "                  'subsample': [0.5, 0.8, 1],\n",
    "                  'max_leaf_nodes': [5, 10, 20],\n",
    "                  'max_features': [20, 30, None]}\n",
    "\n",
    "grid_search_gbc1 = GridSearchCV(GradientBoostingClassifier(random_state=42, loss='log_loss'), param_grid_gbc, cv=4, scoring='neg_log_loss', n_jobs=-1, verbose=2)\n",
    "grid_search_gbc1.fit(X_train_3y, y_train_3y)\n",
    "\n",
    "print(grid_search_gbc1.best_params_)"
   ]
  },
  {
   "cell_type": "code",
   "execution_count": 10,
   "id": "fa4a58cc",
   "metadata": {},
   "outputs": [
    {
     "data": {
      "text/html": [
       "<div>\n",
       "<style scoped>\n",
       "    .dataframe tbody tr th:only-of-type {\n",
       "        vertical-align: middle;\n",
       "    }\n",
       "\n",
       "    .dataframe tbody tr th {\n",
       "        vertical-align: top;\n",
       "    }\n",
       "\n",
       "    .dataframe thead th {\n",
       "        text-align: right;\n",
       "    }\n",
       "</style>\n",
       "<table border=\"1\" class=\"dataframe\">\n",
       "  <thead>\n",
       "    <tr style=\"text-align: right;\">\n",
       "      <th></th>\n",
       "      <th>rank_test_score</th>\n",
       "      <th>param_n_estimators</th>\n",
       "      <th>param_learning_rate</th>\n",
       "      <th>param_subsample</th>\n",
       "      <th>param_max_leaf_nodes</th>\n",
       "      <th>param_max_features</th>\n",
       "      <th>ll3y</th>\n",
       "    </tr>\n",
       "  </thead>\n",
       "  <tbody>\n",
       "    <tr>\n",
       "      <th>98</th>\n",
       "      <td>1</td>\n",
       "      <td>200</td>\n",
       "      <td>0.05</td>\n",
       "      <td>1.0</td>\n",
       "      <td>10</td>\n",
       "      <td>20</td>\n",
       "      <td>0.1125</td>\n",
       "    </tr>\n",
       "    <tr>\n",
       "      <th>107</th>\n",
       "      <td>1</td>\n",
       "      <td>200</td>\n",
       "      <td>0.05</td>\n",
       "      <td>1.0</td>\n",
       "      <td>20</td>\n",
       "      <td>20</td>\n",
       "      <td>0.1125</td>\n",
       "    </tr>\n",
       "    <tr>\n",
       "      <th>185</th>\n",
       "      <td>3</td>\n",
       "      <td>150</td>\n",
       "      <td>0.10</td>\n",
       "      <td>1.0</td>\n",
       "      <td>20</td>\n",
       "      <td>20</td>\n",
       "      <td>0.1127</td>\n",
       "    </tr>\n",
       "  </tbody>\n",
       "</table>\n",
       "</div>"
      ],
      "text/plain": [
       "     rank_test_score  param_n_estimators  param_learning_rate  \\\n",
       "98                 1                 200                 0.05   \n",
       "107                1                 200                 0.05   \n",
       "185                3                 150                 0.10   \n",
       "\n",
       "     param_subsample  param_max_leaf_nodes param_max_features    ll3y  \n",
       "98               1.0                    10                 20  0.1125  \n",
       "107              1.0                    20                 20  0.1125  \n",
       "185              1.0                    20                 20  0.1127  "
      ]
     },
     "execution_count": 10,
     "metadata": {},
     "output_type": "execute_result"
    }
   ],
   "source": [
    "results_df = pd.DataFrame(grid_search_gbc1.cv_results_)\n",
    "\n",
    "# extract relevant columns\n",
    "results_df = results_df[['rank_test_score', 'param_n_estimators', 'param_learning_rate', 'param_subsample', 'param_max_leaf_nodes', 'param_max_features', 'mean_test_score']]\n",
    "\n",
    "# convert negative log-loss to positive (since scoring='neg_log_loss')\n",
    "results_df['ll3y'] = (- results_df['mean_test_score']).round(4)\n",
    "results_df = results_df.drop(columns=['mean_test_score'])\n",
    "\n",
    "results_df = results_df.sort_values(by='rank_test_score')\n",
    "results_df.head(3)"
   ]
  },
  {
   "cell_type": "code",
   "execution_count": 11,
   "id": "b0896179",
   "metadata": {},
   "outputs": [],
   "source": [
    "# GBC1L"
   ]
  },
  {
   "cell_type": "code",
   "execution_count": 12,
   "id": "7ac3e968",
   "metadata": {},
   "outputs": [
    {
     "name": "stdout",
     "output_type": "stream",
     "text": [
      "Training Time: 21.83 seconds\n"
     ]
    }
   ],
   "source": [
    "gbc1l = GradientBoostingClassifier(loss='log_loss', random_state=42,\n",
    "                                  n_estimators=200, learning_rate=0.05, subsample=1, max_leaf_nodes=10, max_features=20)\n",
    "                                  \n",
    "# train\n",
    "start_time = time.time()\n",
    "gbc1l.fit(X_train_3y, y_train_3y)\n",
    "print(f\"Training Time: {time.time() - start_time:.2f} seconds\")"
   ]
  },
  {
   "cell_type": "code",
   "execution_count": 13,
   "id": "001b0e25",
   "metadata": {},
   "outputs": [
    {
     "name": "stdout",
     "output_type": "stream",
     "text": [
      "Log Loss is: 0.1082\n",
      "Log Loss os: 0.1099\n",
      "BS is: 0.0285\n",
      "BS os: 0.0292\n",
      "C is: 0.8948\n"
     ]
    }
   ],
   "source": [
    "# get predicted probabilities\n",
    "y_pred_proba_train_3y = gbc1l.predict_proba(X_train_3y)[:, 1]\n",
    "y_pred_proba_test_3y = gbc1l.predict_proba(X_test_3y)[:, 1]\n",
    "\n",
    "# compute log loss\n",
    "logloss_train_3y = log_loss(y_train_3y, y_pred_proba_train_3y)\n",
    "logloss_test_3y = log_loss(y_test_3y, y_pred_proba_test_3y)\n",
    "\n",
    "# compute Brier\n",
    "bs_train_3y = brier_score_loss(y_train_3y, y_pred_proba_train_3y)\n",
    "bs_test_3y = brier_score_loss(y_test_3y, y_pred_proba_test_3y)\n",
    "\n",
    "# c-index\n",
    "c_is = c_index_classification(df_train['MORTSTAT'], y_pred_proba_train_3y, df_train['TIMETOEVENT'])\n",
    "\n",
    "print(f'Log Loss is: {logloss_train_3y:.4f}')\n",
    "print(f'Log Loss os: {logloss_test_3y:.4f}')\n",
    "print(f'BS is: {bs_train_3y:.4f}')\n",
    "print(f'BS os: {bs_test_3y:.4f}')\n",
    "print(f'C is: {c_is:.4f}')"
   ]
  },
  {
   "cell_type": "code",
   "execution_count": 14,
   "id": "dfd32dc5",
   "metadata": {},
   "outputs": [],
   "source": [
    "# GBC2L"
   ]
  },
  {
   "cell_type": "code",
   "execution_count": 15,
   "id": "ffe83d18",
   "metadata": {},
   "outputs": [
    {
     "name": "stdout",
     "output_type": "stream",
     "text": [
      "Training Time: 17.83 seconds\n"
     ]
    }
   ],
   "source": [
    "gbc2l = GradientBoostingClassifier(loss='log_loss', random_state=42,\n",
    "                                  n_estimators=200, learning_rate=0.05, subsample=1, max_leaf_nodes=20, max_features=20)\n",
    "                                  \n",
    "# train\n",
    "start_time = time.time()\n",
    "gbc2l.fit(X_train_3y, y_train_3y)\n",
    "print(f\"Training Time: {time.time() - start_time:.2f} seconds\")"
   ]
  },
  {
   "cell_type": "code",
   "execution_count": 16,
   "id": "be2f3475",
   "metadata": {},
   "outputs": [
    {
     "name": "stdout",
     "output_type": "stream",
     "text": [
      "Log Loss is: 0.1082\n",
      "Log Loss os: 0.1099\n",
      "BS is: 0.0285\n",
      "BS os: 0.0292\n",
      "C is: 0.8948\n"
     ]
    }
   ],
   "source": [
    "# get predicted probabilities\n",
    "y_pred_proba_train_3y = gbc2l.predict_proba(X_train_3y)[:, 1]\n",
    "y_pred_proba_test_3y = gbc2l.predict_proba(X_test_3y)[:, 1]\n",
    "\n",
    "# compute log loss\n",
    "logloss_train_3y = log_loss(y_train_3y, y_pred_proba_train_3y)\n",
    "logloss_test_3y = log_loss(y_test_3y, y_pred_proba_test_3y)\n",
    "\n",
    "# compute Brier\n",
    "bs_train_3y = brier_score_loss(y_train_3y, y_pred_proba_train_3y)\n",
    "bs_test_3y = brier_score_loss(y_test_3y, y_pred_proba_test_3y)\n",
    "\n",
    "# c-index\n",
    "c_is = c_index_classification(df_train['MORTSTAT'], y_pred_proba_train_3y, df_train['TIMETOEVENT'])\n",
    "\n",
    "print(f'Log Loss is: {logloss_train_3y:.4f}')\n",
    "print(f'Log Loss os: {logloss_test_3y:.4f}')\n",
    "print(f'BS is: {bs_train_3y:.4f}')\n",
    "print(f'BS os: {bs_test_3y:.4f}')\n",
    "print(f'C is: {c_is:.4f}')"
   ]
  },
  {
   "cell_type": "code",
   "execution_count": 17,
   "id": "6b3a680e",
   "metadata": {},
   "outputs": [],
   "source": [
    "# GBC3L"
   ]
  },
  {
   "cell_type": "code",
   "execution_count": 18,
   "id": "00096b33",
   "metadata": {},
   "outputs": [
    {
     "name": "stdout",
     "output_type": "stream",
     "text": [
      "Training Time: 13.49 seconds\n"
     ]
    }
   ],
   "source": [
    "gbc3l = GradientBoostingClassifier(loss='log_loss', random_state=42,\n",
    "                                  n_estimators=150, learning_rate=0.10, subsample=1, max_leaf_nodes=20, max_features=20)\n",
    "\n",
    "# train\n",
    "start_time = time.time()\n",
    "gbc3l.fit(X_train_3y, y_train_3y)\n",
    "print(f\"Training Time: {time.time() - start_time:.2f} seconds\")"
   ]
  },
  {
   "cell_type": "code",
   "execution_count": 19,
   "id": "333486a5",
   "metadata": {},
   "outputs": [
    {
     "name": "stdout",
     "output_type": "stream",
     "text": [
      "Log Loss is: 0.1068\n",
      "Log Loss os: 0.1097\n",
      "BS is: 0.0281\n",
      "BS os: 0.0292\n",
      "C is: 0.8976\n"
     ]
    }
   ],
   "source": [
    "# get predicted probabilities\n",
    "y_pred_proba_train_3y = gbc3l.predict_proba(X_train_3y)[:, 1]\n",
    "y_pred_proba_test_3y = gbc3l.predict_proba(X_test_3y)[:, 1]\n",
    "\n",
    "# compute log loss\n",
    "logloss_train_3y = log_loss(y_train_3y, y_pred_proba_train_3y)\n",
    "logloss_test_3y = log_loss(y_test_3y, y_pred_proba_test_3y)\n",
    "\n",
    "# compute Brier\n",
    "bs_train_3y = brier_score_loss(y_train_3y, y_pred_proba_train_3y)\n",
    "bs_test_3y = brier_score_loss(y_test_3y, y_pred_proba_test_3y)\n",
    "\n",
    "# c-index\n",
    "c_is = c_index_classification(df_train['MORTSTAT'], y_pred_proba_train_3y, df_train['TIMETOEVENT'])\n",
    "\n",
    "print(f'Log Loss is: {logloss_train_3y:.4f}')\n",
    "print(f'Log Loss os: {logloss_test_3y:.4f}')\n",
    "print(f'BS is: {bs_train_3y:.4f}')\n",
    "print(f'BS os: {bs_test_3y:.4f}')\n",
    "print(f'C is: {c_is:.4f}')"
   ]
  },
  {
   "cell_type": "code",
   "execution_count": 20,
   "id": "5028e666",
   "metadata": {},
   "outputs": [],
   "source": [
    "#_______________________________________________________________________________________________________________________________"
   ]
  },
  {
   "cell_type": "code",
   "execution_count": 21,
   "id": "9ea8da97",
   "metadata": {},
   "outputs": [],
   "source": [
    "# hyperparamter search (scorer=Brier score)"
   ]
  },
  {
   "cell_type": "code",
   "execution_count": 22,
   "id": "3559c948",
   "metadata": {},
   "outputs": [
    {
     "name": "stdout",
     "output_type": "stream",
     "text": [
      "Fitting 4 folds for each of 243 candidates, totalling 972 fits\n",
      "{'learning_rate': 0.05, 'max_features': 20, 'max_leaf_nodes': 10, 'n_estimators': 200, 'subsample': 1}\n"
     ]
    }
   ],
   "source": [
    "grid_search_gbc2 = GridSearchCV(GradientBoostingClassifier(random_state=42, loss='log_loss'), param_grid_gbc, cv=4, scoring='neg_brier_score', n_jobs=-1, verbose=2)\n",
    "grid_search_gbc2.fit(X_train_3y, y_train_3y)\n",
    "\n",
    "print(grid_search_gbc2.best_params_)"
   ]
  },
  {
   "cell_type": "code",
   "execution_count": 23,
   "id": "cee73b81",
   "metadata": {},
   "outputs": [
    {
     "data": {
      "text/html": [
       "<div>\n",
       "<style scoped>\n",
       "    .dataframe tbody tr th:only-of-type {\n",
       "        vertical-align: middle;\n",
       "    }\n",
       "\n",
       "    .dataframe tbody tr th {\n",
       "        vertical-align: top;\n",
       "    }\n",
       "\n",
       "    .dataframe thead th {\n",
       "        text-align: right;\n",
       "    }\n",
       "</style>\n",
       "<table border=\"1\" class=\"dataframe\">\n",
       "  <thead>\n",
       "    <tr style=\"text-align: right;\">\n",
       "      <th></th>\n",
       "      <th>rank_test_score</th>\n",
       "      <th>param_n_estimators</th>\n",
       "      <th>param_learning_rate</th>\n",
       "      <th>param_subsample</th>\n",
       "      <th>param_max_leaf_nodes</th>\n",
       "      <th>param_max_features</th>\n",
       "      <th>ll3y</th>\n",
       "    </tr>\n",
       "  </thead>\n",
       "  <tbody>\n",
       "    <tr>\n",
       "      <th>107</th>\n",
       "      <td>1</td>\n",
       "      <td>200</td>\n",
       "      <td>0.05</td>\n",
       "      <td>1.0</td>\n",
       "      <td>20</td>\n",
       "      <td>20</td>\n",
       "      <td>0.0296</td>\n",
       "    </tr>\n",
       "    <tr>\n",
       "      <th>98</th>\n",
       "      <td>1</td>\n",
       "      <td>200</td>\n",
       "      <td>0.05</td>\n",
       "      <td>1.0</td>\n",
       "      <td>10</td>\n",
       "      <td>20</td>\n",
       "      <td>0.0296</td>\n",
       "    </tr>\n",
       "    <tr>\n",
       "      <th>95</th>\n",
       "      <td>3</td>\n",
       "      <td>150</td>\n",
       "      <td>0.05</td>\n",
       "      <td>1.0</td>\n",
       "      <td>10</td>\n",
       "      <td>20</td>\n",
       "      <td>0.0297</td>\n",
       "    </tr>\n",
       "  </tbody>\n",
       "</table>\n",
       "</div>"
      ],
      "text/plain": [
       "     rank_test_score  param_n_estimators  param_learning_rate  \\\n",
       "107                1                 200                 0.05   \n",
       "98                 1                 200                 0.05   \n",
       "95                 3                 150                 0.05   \n",
       "\n",
       "     param_subsample  param_max_leaf_nodes param_max_features    ll3y  \n",
       "107              1.0                    20                 20  0.0296  \n",
       "98               1.0                    10                 20  0.0296  \n",
       "95               1.0                    10                 20  0.0297  "
      ]
     },
     "execution_count": 23,
     "metadata": {},
     "output_type": "execute_result"
    }
   ],
   "source": [
    "results_df = pd.DataFrame(grid_search_gbc2.cv_results_)\n",
    "\n",
    "# extract relevant columns\n",
    "results_df = results_df[['rank_test_score', 'param_n_estimators', 'param_learning_rate', 'param_subsample', 'param_max_leaf_nodes', 'param_max_features', 'mean_test_score']]\n",
    "\n",
    "# convert negative log-loss to positive (since scoring='neg_log_loss')\n",
    "results_df['ll3y'] = (- results_df['mean_test_score']).round(4)\n",
    "results_df = results_df.drop(columns=['mean_test_score'])\n",
    "\n",
    "results_df = results_df.sort_values(by='rank_test_score')\n",
    "results_df.head(3)"
   ]
  },
  {
   "cell_type": "code",
   "execution_count": 24,
   "id": "7a663e71",
   "metadata": {},
   "outputs": [],
   "source": [
    "# GBC1B"
   ]
  },
  {
   "cell_type": "code",
   "execution_count": 25,
   "id": "3bb5c174",
   "metadata": {},
   "outputs": [
    {
     "name": "stdout",
     "output_type": "stream",
     "text": [
      "Training Time: 21.65 seconds\n"
     ]
    }
   ],
   "source": [
    "gbc1b = GradientBoostingClassifier(loss='log_loss', random_state=42,\n",
    "                                  n_estimators=200, learning_rate=0.05, subsample=1, max_leaf_nodes=20, max_features=20)\n",
    "                                           \n",
    "# train\n",
    "start_time = time.time()\n",
    "gbc1b.fit(X_train_3y, y_train_3y)\n",
    "print(f\"Training Time: {time.time() - start_time:.2f} seconds\")"
   ]
  },
  {
   "cell_type": "code",
   "execution_count": 26,
   "id": "0a048652",
   "metadata": {},
   "outputs": [
    {
     "name": "stdout",
     "output_type": "stream",
     "text": [
      "Log Loss is: 0.1082\n",
      "Log Loss os: 0.1099\n",
      "BS is: 0.0285\n",
      "BS os: 0.0292\n",
      "C is: 0.8948\n"
     ]
    }
   ],
   "source": [
    "# get predicted probabilities\n",
    "y_pred_proba_train_3y = gbc1b.predict_proba(X_train_3y)[:, 1]\n",
    "y_pred_proba_test_3y = gbc1b.predict_proba(X_test_3y)[:, 1]\n",
    "\n",
    "# compute log loss\n",
    "logloss_train_3y = log_loss(y_train_3y, y_pred_proba_train_3y)\n",
    "logloss_test_3y = log_loss(y_test_3y, y_pred_proba_test_3y)\n",
    "\n",
    "# compute Brier\n",
    "bs_train_3y = brier_score_loss(y_train_3y, y_pred_proba_train_3y)\n",
    "bs_test_3y = brier_score_loss(y_test_3y, y_pred_proba_test_3y)\n",
    "\n",
    "# c-index\n",
    "c_is = c_index_classification(df_train['MORTSTAT'], y_pred_proba_train_3y, df_train['TIMETOEVENT'])\n",
    "\n",
    "print(f'Log Loss is: {logloss_train_3y:.4f}')\n",
    "print(f'Log Loss os: {logloss_test_3y:.4f}')\n",
    "print(f'BS is: {bs_train_3y:.4f}')\n",
    "print(f'BS os: {bs_test_3y:.4f}')\n",
    "print(f'C is: {c_is:.4f}')"
   ]
  },
  {
   "cell_type": "code",
   "execution_count": 27,
   "id": "c0dfeae1",
   "metadata": {},
   "outputs": [],
   "source": [
    "# GBC2B"
   ]
  },
  {
   "cell_type": "code",
   "execution_count": 28,
   "id": "9cc278d1",
   "metadata": {},
   "outputs": [
    {
     "name": "stdout",
     "output_type": "stream",
     "text": [
      "Training Time: 17.04 seconds\n"
     ]
    }
   ],
   "source": [
    "gbc2b = GradientBoostingClassifier(loss='log_loss', random_state=42,\n",
    "                                 n_estimators=200, learning_rate=0.05, subsample=1, max_leaf_nodes=10, max_features=20)\n",
    "                                           \n",
    "# train\n",
    "start_time = time.time()\n",
    "gbc2b.fit(X_train_3y, y_train_3y)\n",
    "print(f\"Training Time: {time.time() - start_time:.2f} seconds\")"
   ]
  },
  {
   "cell_type": "code",
   "execution_count": 29,
   "id": "d3dae0a5",
   "metadata": {},
   "outputs": [
    {
     "name": "stdout",
     "output_type": "stream",
     "text": [
      "Log Loss is: 0.1082\n",
      "Log Loss os: 0.1099\n",
      "BS is: 0.0285\n",
      "BS os: 0.0292\n",
      "C is: 0.8948\n"
     ]
    }
   ],
   "source": [
    "# get predicted probabilities\n",
    "y_pred_proba_train_3y = gbc2b.predict_proba(X_train_3y)[:, 1]\n",
    "y_pred_proba_test_3y = gbc2b.predict_proba(X_test_3y)[:, 1]\n",
    "\n",
    "# compute log loss\n",
    "logloss_train_3y = log_loss(y_train_3y, y_pred_proba_train_3y)\n",
    "logloss_test_3y = log_loss(y_test_3y, y_pred_proba_test_3y)\n",
    "\n",
    "# compute Brier\n",
    "bs_train_3y = brier_score_loss(y_train_3y, y_pred_proba_train_3y)\n",
    "bs_test_3y = brier_score_loss(y_test_3y, y_pred_proba_test_3y)\n",
    "\n",
    "# c-index\n",
    "c_is = c_index_classification(df_train['MORTSTAT'], y_pred_proba_train_3y, df_train['TIMETOEVENT'])\n",
    "\n",
    "print(f'Log Loss is: {logloss_train_3y:.4f}')\n",
    "print(f'Log Loss os: {logloss_test_3y:.4f}')\n",
    "print(f'BS is: {bs_train_3y:.4f}')\n",
    "print(f'BS os: {bs_test_3y:.4f}')\n",
    "print(f'C is: {c_is:.4f}')"
   ]
  },
  {
   "cell_type": "code",
   "execution_count": 30,
   "id": "3f27ab09",
   "metadata": {},
   "outputs": [],
   "source": [
    "# GBC3B"
   ]
  },
  {
   "cell_type": "code",
   "execution_count": 31,
   "id": "c1d27486",
   "metadata": {},
   "outputs": [
    {
     "name": "stdout",
     "output_type": "stream",
     "text": [
      "Training Time: 13.39 seconds\n"
     ]
    }
   ],
   "source": [
    "gbc3b = GradientBoostingClassifier(loss='log_loss', random_state=42,\n",
    "                                n_estimators=150, learning_rate=0.05, subsample=1, max_leaf_nodes=10, max_features=20)\n",
    "                                           \n",
    "# train\n",
    "start_time = time.time()\n",
    "gbc3b.fit(X_train_3y, y_train_3y)\n",
    "print(f\"Training Time: {time.time() - start_time:.2f} seconds\")"
   ]
  },
  {
   "cell_type": "code",
   "execution_count": 32,
   "id": "6a8a9e76",
   "metadata": {},
   "outputs": [
    {
     "name": "stdout",
     "output_type": "stream",
     "text": [
      "Log Loss is: 0.1094\n",
      "Log Loss os: 0.1104\n",
      "BS is: 0.0287\n",
      "BS os: 0.0292\n",
      "C is: 0.8927\n"
     ]
    }
   ],
   "source": [
    "# get predicted probabilities\n",
    "y_pred_proba_train_3y = gbc3b.predict_proba(X_train_3y)[:, 1]\n",
    "y_pred_proba_test_3y = gbc3b.predict_proba(X_test_3y)[:, 1]\n",
    "\n",
    "# compute log loss\n",
    "logloss_train_3y = log_loss(y_train_3y, y_pred_proba_train_3y)\n",
    "logloss_test_3y = log_loss(y_test_3y, y_pred_proba_test_3y)\n",
    "\n",
    "# compute Brier\n",
    "bs_train_3y = brier_score_loss(y_train_3y, y_pred_proba_train_3y)\n",
    "bs_test_3y = brier_score_loss(y_test_3y, y_pred_proba_test_3y)\n",
    "\n",
    "# c-index\n",
    "c_is = c_index_classification(df_train['MORTSTAT'], y_pred_proba_train_3y, df_train['TIMETOEVENT'])\n",
    "\n",
    "print(f'Log Loss is: {logloss_train_3y:.4f}')\n",
    "print(f'Log Loss os: {logloss_test_3y:.4f}')\n",
    "print(f'BS is: {bs_train_3y:.4f}')\n",
    "print(f'BS os: {bs_test_3y:.4f}')\n",
    "print(f'C is: {c_is:.4f}')"
   ]
  },
  {
   "cell_type": "code",
   "execution_count": null,
   "id": "3f75ce23",
   "metadata": {},
   "outputs": [],
   "source": []
  },
  {
   "cell_type": "code",
   "execution_count": null,
   "id": "72b439a6",
   "metadata": {},
   "outputs": [],
   "source": []
  },
  {
   "cell_type": "code",
   "execution_count": null,
   "id": "f9f5a1eb",
   "metadata": {},
   "outputs": [],
   "source": []
  }
 ],
 "metadata": {
  "kernelspec": {
   "display_name": "Python 3 (ipykernel)",
   "language": "python",
   "name": "python3"
  },
  "language_info": {
   "codemirror_mode": {
    "name": "ipython",
    "version": 3
   },
   "file_extension": ".py",
   "mimetype": "text/x-python",
   "name": "python",
   "nbconvert_exporter": "python",
   "pygments_lexer": "ipython3",
   "version": "3.11.5"
  }
 },
 "nbformat": 4,
 "nbformat_minor": 5
}
