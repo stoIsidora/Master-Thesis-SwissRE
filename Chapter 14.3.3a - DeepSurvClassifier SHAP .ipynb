{
 "cells": [
  {
   "cell_type": "code",
   "execution_count": 2,
   "id": "6bfef93c",
   "metadata": {},
   "outputs": [],
   "source": [
    "import csv\n",
    "import os\n",
    "import pandas as pd\n",
    "import numpy as np\n",
    "import random\n",
    "import matplotlib.pyplot as plt\n",
    "\n",
    "from sksurv.preprocessing import OneHotEncoder\n",
    "from sklearn.neural_network import MLPClassifier\n",
    "from sklearn.preprocessing import StandardScaler\n",
    "from sklearn.preprocessing import MinMaxScaler\n",
    "from sklearn_pandas import DataFrameMapper\n",
    "from sklearn.model_selection import train_test_split\n",
    "\n",
    "from torchtuples.callbacks import EarlyStopping\n",
    "from torch.utils.data import Dataset, DataLoader\n",
    "\n",
    "from sklearn.metrics import brier_score_loss\n",
    "from lifelines.utils import concordance_index\n",
    "from sklearn.metrics import log_loss\n",
    "\n",
    "import torch\n",
    "import torch.nn as nn\n",
    "import torchtuples as tt\n",
    "\n",
    "import shap\n",
    "from shap import KernelExplainer"
   ]
  },
  {
   "cell_type": "code",
   "execution_count": null,
   "id": "f7f0e161",
   "metadata": {},
   "outputs": [],
   "source": []
  },
  {
   "cell_type": "code",
   "execution_count": null,
   "id": "5705dc13",
   "metadata": {},
   "outputs": [],
   "source": []
  },
  {
   "cell_type": "code",
   "execution_count": 3,
   "id": "e0ed099c",
   "metadata": {},
   "outputs": [],
   "source": [
    "df_train = pd.read_csv('df_train.csv')\n",
    "df_test = pd.read_csv('df_test.csv')"
   ]
  },
  {
   "cell_type": "code",
   "execution_count": 4,
   "id": "b5837249",
   "metadata": {},
   "outputs": [],
   "source": [
    "df_train, df_val = train_test_split(df_train, test_size=0.2, random_state=42)"
   ]
  },
  {
   "cell_type": "code",
   "execution_count": 5,
   "id": "534d487c",
   "metadata": {},
   "outputs": [],
   "source": [
    "# select feature to take dummy \n",
    "dummy_f = ['REGION','MARST', 'RACEA', 'USBORN', 'HSTATYR', 'ALCSTAT1', 'SMOKESTATUS2']\n",
    "\n",
    "# conver to int for more compact dummy featues names\n",
    "df_train[dummy_f] = df_train[dummy_f].astype(int)\n",
    "df_test[dummy_f] = df_test[dummy_f].astype(int)\n",
    "df_val[dummy_f] = df_val[dummy_f].astype(int)\n",
    "\n",
    "# get dummy\n",
    "df_train = pd.get_dummies(df_train, columns=dummy_f, prefix=dummy_f).astype(int)\n",
    "df_val = pd.get_dummies(df_val, columns=dummy_f, prefix=dummy_f).astype(int)\n",
    "df_test = pd.get_dummies(df_test, columns=dummy_f, prefix=dummy_f).astype(int)"
   ]
  },
  {
   "cell_type": "code",
   "execution_count": 6,
   "id": "9b626294",
   "metadata": {},
   "outputs": [],
   "source": [
    "# list of columns to standardize\n",
    "cols_stand = ['AGE', 'BMICALC', 'HRSLEEP']\n",
    "# list of columns to normalize\n",
    "cols_norm = ['FAMSIZE', 'EDUCREC1', 'POVERTY', 'FSRAWSCORE', 'ALC5UPYR', 'ALCAMT', 'ALCDAYSYR',\n",
    "              'CIGSDAY', 'MOD10DMIN', 'MOD10FWK', 'VIG10DMIN', 'VIG10FWK', 'STRONGFWK', 'AEFFORT', \n",
    "              'AFEELINT1MO', 'AWORTHLESS', 'WRYMEDCST', 'WRYRET',\n",
    "              'SEX', 'HINOTCOVE', 'HIPRIVATEE', 'HIMCAIDE', 'HIMCAREE', 'ARTHGLUPEV',\n",
    "              'BLIND', 'CANCEREV', 'CHEARTDIEV', 'CPOXEV', 'DIABETICEV', 'EMPHYSEMEV',\n",
    "              'HEARTATTEV', 'HEARTCONEV', 'HYPERTENEV', 'KIDNEYWKYR', 'LIVERCHRON',\n",
    "              'LIVERCONYR', 'STROKEV']\n",
    "\n",
    "# list of columns not to standardize\n",
    "cols_leave = [col for col in df_train.columns if col not in cols_stand + cols_norm + ['TIMETOEVENT', 'MORTSTAT']]\n",
    "\n",
    "# create mapper entries\n",
    "standardize = [([col], StandardScaler()) for col in cols_stand]\n",
    "normalize = [([col], MinMaxScaler()) for col in cols_norm]\n",
    "leave = [(col, None) for col in cols_leave]\n",
    "\n",
    "# combine into one mapper\n",
    "x_mapper = DataFrameMapper(standardize + normalize + leave, df_out=False)\n",
    "\n",
    "# prepare X matrices\n",
    "x_train = df_train.drop(columns=['MORTSTAT', 'TIMETOEVENT'])\n",
    "x_val = df_val.drop(columns=['MORTSTAT', 'TIMETOEVENT'])\n",
    "x_test = df_test.drop(columns=['MORTSTAT', 'TIMETOEVENT'])\n",
    "\n",
    "# transform\n",
    "x_train = x_mapper.fit_transform(x_train).astype('float32')\n",
    "x_val = x_mapper.transform(x_val).astype('float32')\n",
    "x_test = x_mapper.transform(x_test).astype('float32')"
   ]
  },
  {
   "cell_type": "code",
   "execution_count": 7,
   "id": "2f40ff94",
   "metadata": {},
   "outputs": [],
   "source": [
    "# get the transformed column names by matching them to the original columns\n",
    "transformed_column_names = cols_stand + cols_norm + cols_leave\n",
    "x_train_df_transformed = pd.DataFrame(x_train, columns=transformed_column_names)\n",
    "\n",
    "feature_names= list(x_train_df_transformed.columns)"
   ]
  },
  {
   "cell_type": "code",
   "execution_count": 8,
   "id": "54c23b0b",
   "metadata": {},
   "outputs": [],
   "source": [
    "# Transform with DataFrameMapper and convert to PyTorch tensors\n",
    "x_train = torch.tensor(x_mapper.fit_transform(df_train.drop(columns=['MORTSTAT', 'TIMETOEVENT'])), dtype=torch.float32)\n",
    "\n",
    "x_val = torch.tensor(x_mapper.transform(df_val.drop(columns=['MORTSTAT', 'TIMETOEVENT'])), dtype=torch.float32)\n",
    "\n",
    "x_test = torch.tensor(x_mapper.transform(df_test.drop(columns=['MORTSTAT', 'TIMETOEVENT'])), dtype=torch.float32)"
   ]
  },
  {
   "cell_type": "code",
   "execution_count": 9,
   "id": "7510175c",
   "metadata": {},
   "outputs": [],
   "source": [
    "# define three-year mortality status as PyTorch tensors\n",
    "y_train = torch.tensor(np.where((df_train[\"MORTSTAT\"] == 1) & (df_train[\"TIMETOEVENT\"] <= 3), 1, 0), dtype=torch.float32).view(-1, 1)\n",
    "\n",
    "y_val = torch.tensor(np.where((df_val[\"MORTSTAT\"] == 1) & (df_val[\"TIMETOEVENT\"] <= 3), 1, 0), dtype=torch.float32).view(-1, 1)\n",
    "\n",
    "y_test = torch.tensor(np.where((df_test[\"MORTSTAT\"] == 1) & (df_test[\"TIMETOEVENT\"] <= 3), 1, 0), dtype=torch.float32).view(-1, 1)"
   ]
  },
  {
   "cell_type": "code",
   "execution_count": null,
   "id": "10571ccc",
   "metadata": {},
   "outputs": [],
   "source": []
  },
  {
   "cell_type": "code",
   "execution_count": 10,
   "id": "b40f5a27",
   "metadata": {},
   "outputs": [],
   "source": [
    "# train model"
   ]
  },
  {
   "cell_type": "code",
   "execution_count": 11,
   "id": "d456a6f9",
   "metadata": {},
   "outputs": [
    {
     "name": "stdout",
     "output_type": "stream",
     "text": [
      "0:\t[0s / 0s],\t\ttrain_loss: 0.6416,\tval_loss: 0.5813\n",
      "1:\t[0s / 0s],\t\ttrain_loss: 0.5017,\tval_loss: 0.3955\n",
      "2:\t[0s / 0s],\t\ttrain_loss: 0.3187,\tval_loss: 0.2256\n",
      "3:\t[0s / 0s],\t\ttrain_loss: 0.2034,\tval_loss: 0.1524\n",
      "4:\t[0s / 0s],\t\ttrain_loss: 0.1554,\tval_loss: 0.1277\n",
      "5:\t[0s / 0s],\t\ttrain_loss: 0.1371,\tval_loss: 0.1184\n",
      "6:\t[0s / 1s],\t\ttrain_loss: 0.1300,\tval_loss: 0.1144\n",
      "7:\t[0s / 1s],\t\ttrain_loss: 0.1252,\tval_loss: 0.1119\n",
      "8:\t[0s / 1s],\t\ttrain_loss: 0.1225,\tval_loss: 0.1106\n",
      "9:\t[0s / 1s],\t\ttrain_loss: 0.1203,\tval_loss: 0.1100\n",
      "10:\t[0s / 1s],\t\ttrain_loss: 0.1191,\tval_loss: 0.1095\n",
      "11:\t[0s / 1s],\t\ttrain_loss: 0.1190,\tval_loss: 0.1092\n",
      "12:\t[0s / 2s],\t\ttrain_loss: 0.1187,\tval_loss: 0.1090\n",
      "13:\t[0s / 2s],\t\ttrain_loss: 0.1171,\tval_loss: 0.1087\n",
      "14:\t[0s / 2s],\t\ttrain_loss: 0.1172,\tval_loss: 0.1085\n",
      "15:\t[0s / 2s],\t\ttrain_loss: 0.1164,\tval_loss: 0.1084\n",
      "16:\t[0s / 2s],\t\ttrain_loss: 0.1166,\tval_loss: 0.1084\n",
      "17:\t[0s / 2s],\t\ttrain_loss: 0.1158,\tval_loss: 0.1083\n",
      "18:\t[0s / 2s],\t\ttrain_loss: 0.1163,\tval_loss: 0.1082\n",
      "19:\t[0s / 3s],\t\ttrain_loss: 0.1152,\tval_loss: 0.1082\n",
      "20:\t[0s / 3s],\t\ttrain_loss: 0.1150,\tval_loss: 0.1081\n",
      "21:\t[0s / 3s],\t\ttrain_loss: 0.1156,\tval_loss: 0.1079\n",
      "22:\t[0s / 3s],\t\ttrain_loss: 0.1149,\tval_loss: 0.1079\n",
      "23:\t[0s / 3s],\t\ttrain_loss: 0.1150,\tval_loss: 0.1079\n",
      "24:\t[0s / 3s],\t\ttrain_loss: 0.1143,\tval_loss: 0.1079\n",
      "25:\t[0s / 3s],\t\ttrain_loss: 0.1146,\tval_loss: 0.1078\n",
      "26:\t[0s / 4s],\t\ttrain_loss: 0.1143,\tval_loss: 0.1079\n",
      "27:\t[0s / 4s],\t\ttrain_loss: 0.1143,\tval_loss: 0.1078\n",
      "28:\t[0s / 4s],\t\ttrain_loss: 0.1140,\tval_loss: 0.1077\n",
      "29:\t[0s / 4s],\t\ttrain_loss: 0.1142,\tval_loss: 0.1077\n",
      "30:\t[0s / 4s],\t\ttrain_loss: 0.1142,\tval_loss: 0.1076\n",
      "31:\t[0s / 4s],\t\ttrain_loss: 0.1143,\tval_loss: 0.1077\n",
      "32:\t[0s / 5s],\t\ttrain_loss: 0.1142,\tval_loss: 0.1076\n",
      "33:\t[0s / 5s],\t\ttrain_loss: 0.1136,\tval_loss: 0.1077\n",
      "34:\t[0s / 5s],\t\ttrain_loss: 0.1136,\tval_loss: 0.1078\n",
      "35:\t[0s / 5s],\t\ttrain_loss: 0.1134,\tval_loss: 0.1076\n",
      "36:\t[0s / 6s],\t\ttrain_loss: 0.1139,\tval_loss: 0.1077\n",
      "37:\t[0s / 6s],\t\ttrain_loss: 0.1134,\tval_loss: 0.1077\n",
      "38:\t[0s / 6s],\t\ttrain_loss: 0.1134,\tval_loss: 0.1076\n",
      "39:\t[0s / 6s],\t\ttrain_loss: 0.1130,\tval_loss: 0.1076\n"
     ]
    },
    {
     "data": {
      "text/plain": [
       "<torchtuples.callbacks.TrainingLogger at 0x1b65e61f2d0>"
      ]
     },
     "execution_count": 11,
     "metadata": {},
     "output_type": "execute_result"
    }
   ],
   "source": [
    "# set seeds for reproducibility\n",
    "SEED = 42\n",
    "random.seed(SEED)\n",
    "np.random.seed(SEED)\n",
    "torch.manual_seed(SEED)\n",
    "torch.cuda.manual_seed(SEED)\n",
    "torch.cuda.manual_seed_all(SEED) \n",
    "torch.backends.cudnn.deterministic = True\n",
    "torch.backends.cudnn.benchmark = False\n",
    "os.environ['PYTHONHASHSEED'] = str(SEED)\n",
    "\n",
    "\n",
    "# define the network\n",
    "in_features = x_train.shape[1]\n",
    "net = tt.practical.MLPVanilla(in_features, [16], 1, activation=nn.ReLU, dropout=0.2)\n",
    "\n",
    "\n",
    "# model and optimizer\n",
    "loss_fn = nn.BCEWithLogitsLoss()\n",
    "model = tt.Model(net, loss_fn, tt.optim.Adam)  \n",
    "model.optimizer.set_lr(0.001)  \n",
    "\n",
    "\n",
    "# training setup      \n",
    "batch_size = 800\n",
    "epochs = 40\n",
    "checkpoint_path = 'best_model.pt'\n",
    "# early stopping\n",
    "if os.path.exists(checkpoint_path):\n",
    "    os.remove(checkpoint_path)\n",
    "callbacks = [EarlyStopping(patience=20, file_path=checkpoint_path)]\n",
    "\n",
    "\n",
    "# fit\n",
    "model.fit(x_train, y_train, batch_size=batch_size, epochs=epochs, val_data=(x_test, y_test), \n",
    "                shuffle=True, callbacks=callbacks, verbose=True)"
   ]
  },
  {
   "cell_type": "code",
   "execution_count": 12,
   "id": "5af34eb4",
   "metadata": {
    "scrolled": false
   },
   "outputs": [
    {
     "name": "stderr",
     "output_type": "stream",
     "text": [
      "Using 200 background data samples could cause slower run times. Consider using shap.sample(data, K) or shap.kmeans(data, K) to summarize the background as K samples.\n"
     ]
    },
    {
     "data": {
      "application/vnd.jupyter.widget-view+json": {
       "model_id": "0399ff8150ae4e43802b78ce9de7faf7",
       "version_major": 2,
       "version_minor": 0
      },
      "text/plain": [
       "  0%|          | 0/5000 [00:00<?, ?it/s]"
      ]
     },
     "metadata": {},
     "output_type": "display_data"
    }
   ],
   "source": [
    "# convert to numpy array\n",
    "x_train_numpy = x_train.cpu().numpy() \n",
    "x_test_numpy = x_test.cpu().numpy()  \n",
    "\n",
    "# set the random seed for reproducibility\n",
    "np.random.seed(21)\n",
    "\n",
    "# backgound set \n",
    "random_indices_train = np.random.choice(x_train_numpy.shape[0], size=200, replace=False) \n",
    "x_train_sampled = x_train_numpy[random_indices_train]  \n",
    "\n",
    "# data to plot\n",
    "random_indices_test = np.random.choice(x_test_numpy.shape[0], size=5000, replace=False)  \n",
    "x_test_subset = x_test_numpy[random_indices_test]\n",
    "\n",
    "# initialize KernelExplainer \n",
    "explainer_kernel = shap.KernelExplainer(model.predict, x_train_sampled)\n",
    "# compute SHAP values\n",
    "shap_values_kernel = explainer_kernel.shap_values(x_test_subset)"
   ]
  },
  {
   "cell_type": "code",
   "execution_count": 13,
   "id": "a862b8c3",
   "metadata": {},
   "outputs": [
    {
     "data": {
      "image/png": "[encoded data removed]",
      "text/plain": [
       "<Figure size 520x800 with 2 Axes>"
      ]
     },
     "metadata": {},
     "output_type": "display_data"
    }
   ],
   "source": [
    "# ---plot---\n",
    "rng = np.random.default_rng()\n",
    "\n",
    "# flatten for plotting\n",
    "shap_values_kernel_flattened = shap_values_kernel.reshape(shap_values_kernel.shape[0], -1)\n",
    "\n",
    "plt.figure(figsize=(5, 3)) \n",
    "shap.summary_plot(shap_values_kernel_flattened, x_test_subset,feature_names=feature_names,  max_display=15, rng=rng, show=False)\n",
    "\n",
    "plt.xticks(fontsize=10)  \n",
    "plt.yticks(fontsize=8)  \n",
    "plt.xlabel(\"SHAP value (log-odds of death within three years)\", fontsize=8)  \n",
    "plt.title(\"KernelSHAP: DeepSurvClassifier\", fontsize=10) \n",
    "fig = plt.gcf()\n",
    "fig.set_size_inches(5.2, 8) \n",
    "cbar = plt.gcf().axes[-1]  \n",
    "cbar.tick_params(labelsize=8)  \n",
    "cbar.set_ylabel(\"feature value\", fontsize=9) \n",
    "plt.savefig('DeepSurvClassifier_shap.png', format='png', dpi=300, bbox_inches='tight')\n",
    "plt.show()"
   ]
  },
  {
   "cell_type": "code",
   "execution_count": null,
   "id": "34aced97",
   "metadata": {},
   "outputs": [],
   "source": []
  }
 ],
 "metadata": {
  "kernelspec": {
   "display_name": "Python 3 (ipykernel)",
   "language": "python",
   "name": "python3"
  },
  "language_info": {
   "codemirror_mode": {
    "name": "ipython",
    "version": 3
   },
   "file_extension": ".py",
   "mimetype": "text/x-python",
   "name": "python",
   "nbconvert_exporter": "python",
   "pygments_lexer": "ipython3",
   "version": "3.11.5"
  }
 },
 "nbformat": 4,
 "nbformat_minor": 5
}
