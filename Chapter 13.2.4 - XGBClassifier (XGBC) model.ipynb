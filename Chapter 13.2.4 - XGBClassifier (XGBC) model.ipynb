{
 "cells": [
  {
   "cell_type": "code",
   "execution_count": 2,
   "id": "030f0c18",
   "metadata": {},
   "outputs": [],
   "source": [
    "import pandas as pd\n",
    "import numpy as np\n",
    "import time\n",
    "import matplotlib.colors as mcolors\n",
    "import matplotlib.pyplot as plt\n",
    "from xgboost import XGBClassifier\n",
    "from xgboost import XGBRegressor\n",
    "from lifelines.utils import concordance_index\n",
    "from sklearn.model_selection import GridSearchCV\n",
    "from sklearn.metrics import log_loss\n",
    "from sklearn.metrics import brier_score_loss\n",
    "import matplotlib.ticker as mticker"
   ]
  },
  {
   "cell_type": "code",
   "execution_count": null,
   "id": "acdaaa9b",
   "metadata": {},
   "outputs": [],
   "source": []
  },
  {
   "cell_type": "code",
   "execution_count": 3,
   "id": "b673a56f",
   "metadata": {},
   "outputs": [],
   "source": [
    "df_train = pd.read_csv('df_train.csv')\n",
    "df_test = pd.read_csv('df_test.csv')"
   ]
  },
  {
   "cell_type": "code",
   "execution_count": 4,
   "id": "55f5d26e",
   "metadata": {},
   "outputs": [],
   "source": [
    "# define three-year mortalitty status\n",
    "df_train.loc[:,'MORTSTAT3Y'] = np.where((df_train[\"MORTSTAT\"] == 1) & (df_train[\"TIMETOEVENT\"] <= 3), 1, 0)\n",
    "df_test.loc[:,'MORTSTAT3Y'] = np.where((df_test[\"MORTSTAT\"] == 1) & (df_test[\"TIMETOEVENT\"] <= 3), 1, 0)"
   ]
  },
  {
   "cell_type": "code",
   "execution_count": 5,
   "id": "2d9cd284",
   "metadata": {},
   "outputs": [],
   "source": [
    "# select features and target\n",
    "X_train_3y = df_train.drop(columns=['MORTSTAT3Y', 'TIMETOEVENT', 'MORTSTAT'])\n",
    "y_train_3y = df_train['MORTSTAT3Y']\n",
    "\n",
    "X_test_3y = df_test.drop(columns=['MORTSTAT3Y', 'TIMETOEVENT', 'MORTSTAT'])\n",
    "y_test_3y = df_test['MORTSTAT3Y']"
   ]
  },
  {
   "cell_type": "code",
   "execution_count": null,
   "id": "bedddaf3",
   "metadata": {},
   "outputs": [],
   "source": []
  },
  {
   "cell_type": "code",
   "execution_count": 6,
   "id": "4fa18e53",
   "metadata": {},
   "outputs": [],
   "source": [
    "def c_index_classification(y_true, y_pred_proba, times):\n",
    "    y_true = np.asarray(y_true)\n",
    "    y_pred_proba = np.asarray(y_pred_proba)\n",
    "    times = np.asarray(times)\n",
    "    cc = dc = tp = 0\n",
    "\n",
    "    n = len(y_true)\n",
    "    for i in range(n):\n",
    "        for j in range(n):\n",
    "            if i == j:\n",
    "                continue\n",
    "            if times[i] < times[j] and y_true[i] == 1:\n",
    "                if y_pred_proba[i] > y_pred_proba[j]:\n",
    "                    cc += 1\n",
    "                elif y_pred_proba[i] < y_pred_proba[j]:\n",
    "                    dc += 1\n",
    "                else:\n",
    "                    tp += 1\n",
    "\n",
    "        \n",
    "    return (cc + 0.5 * tp) / (cc + dc + tp)"
   ]
  },
  {
   "cell_type": "code",
   "execution_count": null,
   "id": "8e12d8df",
   "metadata": {},
   "outputs": [],
   "source": []
  },
  {
   "cell_type": "code",
   "execution_count": 7,
   "id": "4a07de48",
   "metadata": {},
   "outputs": [],
   "source": [
    "# XGBClassifier"
   ]
  },
  {
   "cell_type": "code",
   "execution_count": 8,
   "id": "654aa7a5",
   "metadata": {},
   "outputs": [],
   "source": [
    "# hyperparamter search (scorer=log-loss)"
   ]
  },
  {
   "cell_type": "code",
   "execution_count": 9,
   "id": "18cb1c2d",
   "metadata": {},
   "outputs": [
    {
     "name": "stdout",
     "output_type": "stream",
     "text": [
      "Fitting 4 folds for each of 324 candidates, totalling 1296 fits\n"
     ]
    },
    {
     "name": "stderr",
     "output_type": "stream",
     "text": [
      "C:\\ProgramData\\anaconda3\\Lib\\site-packages\\numpy\\ma\\core.py:2820: RuntimeWarning: invalid value encountered in cast\n",
      "  _data = np.array(data, dtype=dtype, copy=copy,\n"
     ]
    },
    {
     "name": "stdout",
     "output_type": "stream",
     "text": [
      "{'colsample_bytree': 1.0, 'learning_rate': 0.05, 'max_depth': 3, 'n_estimators': 200, 'subsample': 0.2}\n"
     ]
    }
   ],
   "source": [
    "param_grid_xgbc = {'n_estimators': [100, 150, 200],\n",
    "                   'learning_rate': [0.01, 0.02, 0.05, 0.1],\n",
    "                   'subsample': [0.2, 0.5, 0.8],\n",
    "                   'colsample_bytree': [0.6, 0.8, 1.0],\n",
    "                   'max_depth': [2, 3, 4]}\n",
    "\n",
    "grid_search_gbc1 = GridSearchCV(XGBClassifier(random_state=42, objective='binary:logistic'), param_grid_xgbc, cv=4, scoring='neg_log_loss', n_jobs=-1, verbose=1)\n",
    "grid_search_gbc1.fit(X_train_3y, y_train_3y)\n",
    "\n",
    "print(grid_search_gbc1.best_params_)"
   ]
  },
  {
   "cell_type": "code",
   "execution_count": 10,
   "id": "609c15b2",
   "metadata": {},
   "outputs": [
    {
     "data": {
      "text/html": [
       "<div>\n",
       "<style scoped>\n",
       "    .dataframe tbody tr th:only-of-type {\n",
       "        vertical-align: middle;\n",
       "    }\n",
       "\n",
       "    .dataframe tbody tr th {\n",
       "        vertical-align: top;\n",
       "    }\n",
       "\n",
       "    .dataframe thead th {\n",
       "        text-align: right;\n",
       "    }\n",
       "</style>\n",
       "<table border=\"1\" class=\"dataframe\">\n",
       "  <thead>\n",
       "    <tr style=\"text-align: right;\">\n",
       "      <th></th>\n",
       "      <th>rank_test_score</th>\n",
       "      <th>param_n_estimators</th>\n",
       "      <th>param_learning_rate</th>\n",
       "      <th>param_subsample</th>\n",
       "      <th>param_colsample_bytree</th>\n",
       "      <th>param_max_depth</th>\n",
       "      <th>ll3y</th>\n",
       "    </tr>\n",
       "  </thead>\n",
       "  <tbody>\n",
       "    <tr>\n",
       "      <th>285</th>\n",
       "      <td>1</td>\n",
       "      <td>200</td>\n",
       "      <td>0.05</td>\n",
       "      <td>0.2</td>\n",
       "      <td>1.0</td>\n",
       "      <td>3</td>\n",
       "      <td>0.112</td>\n",
       "    </tr>\n",
       "    <tr>\n",
       "      <th>178</th>\n",
       "      <td>2</td>\n",
       "      <td>200</td>\n",
       "      <td>0.05</td>\n",
       "      <td>0.5</td>\n",
       "      <td>0.8</td>\n",
       "      <td>3</td>\n",
       "      <td>0.112</td>\n",
       "    </tr>\n",
       "    <tr>\n",
       "      <th>286</th>\n",
       "      <td>3</td>\n",
       "      <td>200</td>\n",
       "      <td>0.05</td>\n",
       "      <td>0.5</td>\n",
       "      <td>1.0</td>\n",
       "      <td>3</td>\n",
       "      <td>0.112</td>\n",
       "    </tr>\n",
       "  </tbody>\n",
       "</table>\n",
       "</div>"
      ],
      "text/plain": [
       "     rank_test_score  param_n_estimators  param_learning_rate  \\\n",
       "285                1                 200                 0.05   \n",
       "178                2                 200                 0.05   \n",
       "286                3                 200                 0.05   \n",
       "\n",
       "     param_subsample  param_colsample_bytree  param_max_depth   ll3y  \n",
       "285              0.2                     1.0                3  0.112  \n",
       "178              0.5                     0.8                3  0.112  \n",
       "286              0.5                     1.0                3  0.112  "
      ]
     },
     "execution_count": 10,
     "metadata": {},
     "output_type": "execute_result"
    }
   ],
   "source": [
    "results_df = pd.DataFrame(grid_search_gbc1.cv_results_)\n",
    "\n",
    "# extract relevant columns\n",
    "results_df = results_df[['rank_test_score', 'param_n_estimators', 'param_learning_rate', 'param_subsample', 'param_colsample_bytree', 'param_max_depth', 'mean_test_score']]\n",
    "\n",
    "results_df['ll3y'] = (- results_df['mean_test_score']).round(4)\n",
    "results_df = results_df.drop(columns=['mean_test_score'])\n",
    "\n",
    "results_df = results_df.sort_values(by='rank_test_score')\n",
    "results_df.head(3)"
   ]
  },
  {
   "cell_type": "code",
   "execution_count": 11,
   "id": "eb472965",
   "metadata": {},
   "outputs": [],
   "source": [
    "# XGBC1"
   ]
  },
  {
   "cell_type": "code",
   "execution_count": 12,
   "id": "51aeb0a1",
   "metadata": {},
   "outputs": [
    {
     "name": "stdout",
     "output_type": "stream",
     "text": [
      "Training Time: 265.64 seconds\n"
     ]
    }
   ],
   "source": [
    "xgbc1l = XGBClassifier(objective='binary:logistic', random_state=42, \n",
    "                      n_estimators=200, learning_rate=0.05, subsample=0.2, colsample_bytree=1, max_depth=3)\n",
    "\n",
    "# train\n",
    "start_time = time.time()\n",
    "xgbc1l.fit(X_train_3y, y_train_3y)\n",
    "print(f\"Training Time: {time.time() - start_time:.2f} seconds\")"
   ]
  },
  {
   "cell_type": "code",
   "execution_count": 13,
   "id": "b147d5c6",
   "metadata": {},
   "outputs": [
    {
     "name": "stdout",
     "output_type": "stream",
     "text": [
      "Log Loss is: 0.1080\n",
      "Log Loss os: 0.1091\n",
      "BS is: 0.0286\n",
      "BS os: 0.0291\n",
      "C is: 0.8967\n"
     ]
    }
   ],
   "source": [
    "# get predicted probabilities\n",
    "y_pred_proba_train_3y = xgbc1l.predict_proba(X_train_3y)[:, 1]\n",
    "y_pred_proba_test_3y = xgbc1l.predict_proba(X_test_3y)[:, 1]\n",
    "\n",
    "# compute Log Loss\n",
    "logloss_train_3y = log_loss(y_train_3y, y_pred_proba_train_3y)\n",
    "logloss_test_3y = log_loss(y_test_3y, y_pred_proba_test_3y)\n",
    "\n",
    "# compute Brier\n",
    "bs_train_3y = brier_score_loss(y_train_3y, y_pred_proba_train_3y)\n",
    "bs_test_3y = brier_score_loss(y_test_3y, y_pred_proba_test_3y)\n",
    "\n",
    "# c-index\n",
    "c_is = c_index_classification(df_train['MORTSTAT'], y_pred_proba_train_3y, df_train['TIMETOEVENT'])\n",
    "\n",
    "print(f'Log Loss is: {logloss_train_3y:.4f}')\n",
    "print(f'Log Loss os: {logloss_test_3y:.4f}')\n",
    "print(f'BS is: {bs_train_3y:.4f}')\n",
    "print(f'BS os: {bs_test_3y:.4f}')\n",
    "print(f'C is: {c_is:.4f}')"
   ]
  },
  {
   "cell_type": "code",
   "execution_count": 14,
   "id": "8db286e6",
   "metadata": {},
   "outputs": [],
   "source": [
    "# XGBC2L"
   ]
  },
  {
   "cell_type": "code",
   "execution_count": 15,
   "id": "cbcd5391",
   "metadata": {},
   "outputs": [
    {
     "name": "stdout",
     "output_type": "stream",
     "text": [
      "Training Time: 1.33 seconds\n"
     ]
    }
   ],
   "source": [
    "xgbc2l = XGBClassifier(objective='binary:logistic', random_state=42, \n",
    "                        n_estimators=200, learning_rate=0.05, subsample=0.5, colsample_bytree=0.8, max_depth=3)\n",
    "\n",
    "# train\n",
    "start_time = time.time()\n",
    "xgbc2l.fit(X_train_3y, y_train_3y)\n",
    "print(f\"Training Time: {time.time() - start_time:.2f} seconds\")"
   ]
  },
  {
   "cell_type": "code",
   "execution_count": 16,
   "id": "cd774208",
   "metadata": {},
   "outputs": [
    {
     "name": "stdout",
     "output_type": "stream",
     "text": [
      "Log Loss is: 0.1079\n",
      "Log Loss os: 0.1091\n",
      "BS is: 0.0285\n",
      "BS os: 0.0290\n",
      "C is: 0.8968\n"
     ]
    }
   ],
   "source": [
    "# get predicted probabilities\n",
    "y_pred_proba_train_3y = xgbc2l.predict_proba(X_train_3y)[:, 1]\n",
    "y_pred_proba_test_3y = xgbc2l.predict_proba(X_test_3y)[:, 1]\n",
    "\n",
    "# compute Log Loss\n",
    "logloss_train_3y = log_loss(y_train_3y, y_pred_proba_train_3y)\n",
    "logloss_test_3y = log_loss(y_test_3y, y_pred_proba_test_3y)\n",
    "\n",
    "# compute Brier\n",
    "bs_train_3y = brier_score_loss(y_train_3y, y_pred_proba_train_3y)\n",
    "bs_test_3y = brier_score_loss(y_test_3y, y_pred_proba_test_3y)\n",
    "\n",
    "# c-index\n",
    "c_is = c_index_classification(df_train['MORTSTAT'], y_pred_proba_train_3y, df_train['TIMETOEVENT'])\n",
    "\n",
    "print(f'Log Loss is: {logloss_train_3y:.4f}')\n",
    "print(f'Log Loss os: {logloss_test_3y:.4f}')\n",
    "print(f'BS is: {bs_train_3y:.4f}')\n",
    "print(f'BS os: {bs_test_3y:.4f}')\n",
    "print(f'C is: {c_is:.4f}')"
   ]
  },
  {
   "cell_type": "code",
   "execution_count": 17,
   "id": "df1e702a",
   "metadata": {},
   "outputs": [],
   "source": [
    "# XGBC3l"
   ]
  },
  {
   "cell_type": "code",
   "execution_count": 18,
   "id": "07bbeb9b",
   "metadata": {},
   "outputs": [
    {
     "name": "stdout",
     "output_type": "stream",
     "text": [
      "Training Time: 1.35 seconds\n"
     ]
    }
   ],
   "source": [
    "xgbc3l = XGBClassifier(objective='binary:logistic', random_state=42,\n",
    "                        n_estimators=200, learning_rate=0.05, subsample=0.5, colsample_bytree=1, max_depth=3)\n",
    "\n",
    "# train\n",
    "start_time = time.time()\n",
    "xgbc3l.fit(X_train_3y, y_train_3y)\n",
    "print(f\"Training Time: {time.time() - start_time:.2f} seconds\")"
   ]
  },
  {
   "cell_type": "code",
   "execution_count": 19,
   "id": "fa90ced6",
   "metadata": {},
   "outputs": [
    {
     "name": "stdout",
     "output_type": "stream",
     "text": [
      "Log Loss is: 0.1078\n",
      "Log Loss os: 0.1091\n",
      "BS is: 0.0286\n",
      "BS os: 0.0290\n",
      "C is: 0.8969\n"
     ]
    }
   ],
   "source": [
    "# get predicted probabilities\n",
    "y_pred_proba_train_3y = xgbc3l.predict_proba(X_train_3y)[:, 1]\n",
    "y_pred_proba_test_3y = xgbc3l.predict_proba(X_test_3y)[:, 1]\n",
    "\n",
    "# compute Log Loss\n",
    "logloss_train_3y = log_loss(y_train_3y, y_pred_proba_train_3y)\n",
    "logloss_test_3y = log_loss(y_test_3y, y_pred_proba_test_3y)\n",
    "\n",
    "# compute Brier\n",
    "bs_train_3y = brier_score_loss(y_train_3y, y_pred_proba_train_3y)\n",
    "bs_test_3y = brier_score_loss(y_test_3y, y_pred_proba_test_3y)\n",
    "\n",
    "# c-index\n",
    "c_is = c_index_classification(df_train['MORTSTAT'], y_pred_proba_train_3y, df_train['TIMETOEVENT'])\n",
    "\n",
    "print(f'Log Loss is: {logloss_train_3y:.4f}')\n",
    "print(f'Log Loss os: {logloss_test_3y:.4f}')\n",
    "print(f'BS is: {bs_train_3y:.4f}')\n",
    "print(f'BS os: {bs_test_3y:.4f}')\n",
    "print(f'C is: {c_is:.4f}')"
   ]
  },
  {
   "cell_type": "code",
   "execution_count": 20,
   "id": "b6d975f6",
   "metadata": {},
   "outputs": [],
   "source": [
    "# hyperparamter search (scorer=Brier-score)"
   ]
  },
  {
   "cell_type": "code",
   "execution_count": 21,
   "id": "52f83c57",
   "metadata": {},
   "outputs": [
    {
     "name": "stdout",
     "output_type": "stream",
     "text": [
      "Fitting 4 folds for each of 324 candidates, totalling 1296 fits\n",
      "{'colsample_bytree': 1.0, 'learning_rate': 0.05, 'max_depth': 3, 'n_estimators': 200, 'subsample': 0.5}\n"
     ]
    }
   ],
   "source": [
    "grid_search_gbc2 = GridSearchCV(XGBClassifier(random_state=42, objective='binary:logistic'), param_grid_xgbc, cv=4, scoring='neg_brier_score', n_jobs=-1, verbose=1)\n",
    "grid_search_gbc2.fit(X_train_3y, y_train_3y)\n",
    "\n",
    "print(grid_search_gbc2.best_params_)"
   ]
  },
  {
   "cell_type": "code",
   "execution_count": 22,
   "id": "fe180ede",
   "metadata": {},
   "outputs": [
    {
     "data": {
      "text/html": [
       "<div>\n",
       "<style scoped>\n",
       "    .dataframe tbody tr th:only-of-type {\n",
       "        vertical-align: middle;\n",
       "    }\n",
       "\n",
       "    .dataframe tbody tr th {\n",
       "        vertical-align: top;\n",
       "    }\n",
       "\n",
       "    .dataframe thead th {\n",
       "        text-align: right;\n",
       "    }\n",
       "</style>\n",
       "<table border=\"1\" class=\"dataframe\">\n",
       "  <thead>\n",
       "    <tr style=\"text-align: right;\">\n",
       "      <th></th>\n",
       "      <th>rank_test_score</th>\n",
       "      <th>param_n_estimators</th>\n",
       "      <th>param_learning_rate</th>\n",
       "      <th>param_subsample</th>\n",
       "      <th>param_colsample_bytree</th>\n",
       "      <th>param_max_depth</th>\n",
       "      <th>bs3y</th>\n",
       "    </tr>\n",
       "  </thead>\n",
       "  <tbody>\n",
       "    <tr>\n",
       "      <th>286</th>\n",
       "      <td>1</td>\n",
       "      <td>200</td>\n",
       "      <td>0.05</td>\n",
       "      <td>0.5</td>\n",
       "      <td>1.0</td>\n",
       "      <td>3</td>\n",
       "      <td>0.0295</td>\n",
       "    </tr>\n",
       "    <tr>\n",
       "      <th>70</th>\n",
       "      <td>2</td>\n",
       "      <td>200</td>\n",
       "      <td>0.05</td>\n",
       "      <td>0.5</td>\n",
       "      <td>0.6</td>\n",
       "      <td>3</td>\n",
       "      <td>0.0295</td>\n",
       "    </tr>\n",
       "    <tr>\n",
       "      <th>178</th>\n",
       "      <td>3</td>\n",
       "      <td>200</td>\n",
       "      <td>0.05</td>\n",
       "      <td>0.5</td>\n",
       "      <td>0.8</td>\n",
       "      <td>3</td>\n",
       "      <td>0.0295</td>\n",
       "    </tr>\n",
       "  </tbody>\n",
       "</table>\n",
       "</div>"
      ],
      "text/plain": [
       "     rank_test_score  param_n_estimators  param_learning_rate  \\\n",
       "286                1                 200                 0.05   \n",
       "70                 2                 200                 0.05   \n",
       "178                3                 200                 0.05   \n",
       "\n",
       "     param_subsample  param_colsample_bytree  param_max_depth    bs3y  \n",
       "286              0.5                     1.0                3  0.0295  \n",
       "70               0.5                     0.6                3  0.0295  \n",
       "178              0.5                     0.8                3  0.0295  "
      ]
     },
     "execution_count": 22,
     "metadata": {},
     "output_type": "execute_result"
    }
   ],
   "source": [
    "results_df = pd.DataFrame(grid_search_gbc2.cv_results_)\n",
    "\n",
    "# extract relevant columns\n",
    "results_df = results_df[['rank_test_score', 'param_n_estimators', 'param_learning_rate', 'param_subsample', 'param_colsample_bytree', 'param_max_depth', 'mean_test_score']]\n",
    "results_df['bs3y'] = (- results_df['mean_test_score']).round(4)\n",
    "results_df = results_df.drop(columns=['mean_test_score'])\n",
    "\n",
    "results_df = results_df.sort_values(by='rank_test_score')\n",
    "results_df.head(3)"
   ]
  },
  {
   "cell_type": "code",
   "execution_count": 23,
   "id": "419b46be",
   "metadata": {},
   "outputs": [],
   "source": [
    "# XGBC1B"
   ]
  },
  {
   "cell_type": "code",
   "execution_count": 24,
   "id": "0cb1af25",
   "metadata": {},
   "outputs": [
    {
     "name": "stdout",
     "output_type": "stream",
     "text": [
      "Training Time: 2.61 seconds\n"
     ]
    }
   ],
   "source": [
    "xgbc1b = XGBClassifier(objective='binary:logistic', random_state=42,\n",
    "                       n_estimators=200, learning_rate=0.05, subsample=0.5, colsample_bytree=1, max_depth=3)\n",
    "# train\n",
    "start_time = time.time()\n",
    "xgbc1b.fit(X_train_3y, y_train_3y)\n",
    "print(f\"Training Time: {time.time() - start_time:.2f} seconds\")"
   ]
  },
  {
   "cell_type": "code",
   "execution_count": 25,
   "id": "bcbb74a4",
   "metadata": {},
   "outputs": [
    {
     "name": "stdout",
     "output_type": "stream",
     "text": [
      "Log Loss is: 0.1078\n",
      "Log Loss os: 0.1091\n",
      "BS is: 0.0286\n",
      "BS os: 0.0290\n",
      "C is: 0.8969\n"
     ]
    }
   ],
   "source": [
    "# get predicted probabilities\n",
    "y_pred_proba_train_3y = xgbc1b.predict_proba(X_train_3y)[:, 1]\n",
    "y_pred_proba_test_3y = xgbc1b.predict_proba(X_test_3y)[:, 1]\n",
    "\n",
    "# compute Log Loss\n",
    "logloss_train_3y = log_loss(y_train_3y, y_pred_proba_train_3y)\n",
    "logloss_test_3y = log_loss(y_test_3y, y_pred_proba_test_3y)\n",
    "\n",
    "# compute Brier\n",
    "bs_train_3y = brier_score_loss(y_train_3y, y_pred_proba_train_3y)\n",
    "bs_test_3y = brier_score_loss(y_test_3y, y_pred_proba_test_3y)\n",
    "\n",
    "# c-index\n",
    "c_is = c_index_classification(df_train['MORTSTAT'], y_pred_proba_train_3y, df_train['TIMETOEVENT'])\n",
    "\n",
    "print(f'Log Loss is: {logloss_train_3y:.4f}')\n",
    "print(f'Log Loss os: {logloss_test_3y:.4f}')\n",
    "print(f'BS is: {bs_train_3y:.4f}')\n",
    "print(f'BS os: {bs_test_3y:.4f}')\n",
    "print(f'C is: {c_is:.4f}')"
   ]
  },
  {
   "cell_type": "code",
   "execution_count": 26,
   "id": "4c326bd1",
   "metadata": {},
   "outputs": [],
   "source": [
    "# XGBC2B"
   ]
  },
  {
   "cell_type": "code",
   "execution_count": 27,
   "id": "ef044d4c",
   "metadata": {},
   "outputs": [
    {
     "name": "stdout",
     "output_type": "stream",
     "text": [
      "Training Time: 1.41 seconds\n"
     ]
    }
   ],
   "source": [
    "xgbc2b = XGBClassifier(objective='binary:logistic', random_state=42,\n",
    "                        n_estimators=200, learning_rate=0.05, subsample=0.5, colsample_bytree=0.6, max_depth=3)\n",
    "\n",
    "# train\n",
    "start_time = time.time()\n",
    "xgbc2b.fit(X_train_3y, y_train_3y)\n",
    "print(f\"Training Time: {time.time() - start_time:.2f} seconds\")"
   ]
  },
  {
   "cell_type": "code",
   "execution_count": 28,
   "id": "c84c0994",
   "metadata": {},
   "outputs": [
    {
     "name": "stdout",
     "output_type": "stream",
     "text": [
      "Log Loss is: 0.1082\n",
      "Log Loss os: 0.1092\n",
      "BS is: 0.0286\n",
      "BS os: 0.0290\n",
      "C is: 0.8962\n"
     ]
    }
   ],
   "source": [
    "# get predicted probabilities\n",
    "y_pred_proba_train_3y = xgbc2b.predict_proba(X_train_3y)[:, 1]\n",
    "y_pred_proba_test_3y = xgbc2b.predict_proba(X_test_3y)[:, 1]\n",
    "\n",
    "# compute Log Loss\n",
    "logloss_train_3y = log_loss(y_train_3y, y_pred_proba_train_3y)\n",
    "logloss_test_3y = log_loss(y_test_3y, y_pred_proba_test_3y)\n",
    "\n",
    "# compute Brier\n",
    "bs_train_3y = brier_score_loss(y_train_3y, y_pred_proba_train_3y)\n",
    "bs_test_3y = brier_score_loss(y_test_3y, y_pred_proba_test_3y)\n",
    "\n",
    "# c-index\n",
    "c_is = c_index_classification(df_train['MORTSTAT'], y_pred_proba_train_3y, df_train['TIMETOEVENT'])\n",
    "\n",
    "print(f'Log Loss is: {logloss_train_3y:.4f}')\n",
    "print(f'Log Loss os: {logloss_test_3y:.4f}')\n",
    "print(f'BS is: {bs_train_3y:.4f}')\n",
    "print(f'BS os: {bs_test_3y:.4f}')\n",
    "print(f'C is: {c_is:.4f}')"
   ]
  },
  {
   "cell_type": "code",
   "execution_count": 29,
   "id": "c5470234",
   "metadata": {},
   "outputs": [],
   "source": [
    "# XGBC3B"
   ]
  },
  {
   "cell_type": "code",
   "execution_count": 30,
   "id": "a65897fa",
   "metadata": {},
   "outputs": [
    {
     "name": "stdout",
     "output_type": "stream",
     "text": [
      "Training Time: 1.36 seconds\n"
     ]
    }
   ],
   "source": [
    "xgbc3b = XGBClassifier(objective='binary:logistic', random_state=42,\n",
    "                        n_estimators=200, learning_rate=0.05, subsample=0.5, colsample_bytree=0.8, max_depth=3)\n",
    "\n",
    "# train\n",
    "start_time = time.time()\n",
    "xgbc3b.fit(X_train_3y, y_train_3y)\n",
    "print(f\"Training Time: {time.time() - start_time:.2f} seconds\")"
   ]
  },
  {
   "cell_type": "code",
   "execution_count": 31,
   "id": "2cbd7c09",
   "metadata": {},
   "outputs": [
    {
     "name": "stdout",
     "output_type": "stream",
     "text": [
      "Log Loss is: 0.1079\n",
      "Log Loss os: 0.1091\n",
      "BS is: 0.0285\n",
      "BS os: 0.0290\n",
      "C is: 0.8968\n"
     ]
    }
   ],
   "source": [
    "# get predicted probabilities\n",
    "y_pred_proba_train_3y = xgbc3b.predict_proba(X_train_3y)[:, 1]\n",
    "y_pred_proba_test_3y = xgbc3b.predict_proba(X_test_3y)[:, 1]\n",
    "\n",
    "# compute Log Loss\n",
    "logloss_train_3y = log_loss(y_train_3y, y_pred_proba_train_3y)\n",
    "logloss_test_3y = log_loss(y_test_3y, y_pred_proba_test_3y)\n",
    "\n",
    "# compute Brier\n",
    "bs_train_3y = brier_score_loss(y_train_3y, y_pred_proba_train_3y)\n",
    "bs_test_3y = brier_score_loss(y_test_3y, y_pred_proba_test_3y)\n",
    "\n",
    "# c-index\n",
    "c_is = c_index_classification(df_train['MORTSTAT'], y_pred_proba_train_3y, df_train['TIMETOEVENT'])\n",
    "\n",
    "print(f'Log Loss is: {logloss_train_3y:.4f}')\n",
    "print(f'Log Loss os: {logloss_test_3y:.4f}')\n",
    "print(f'BS is: {bs_train_3y:.4f}')\n",
    "print(f'BS os: {bs_test_3y:.4f}')\n",
    "print(f'C is: {c_is:.4f}')"
   ]
  },
  {
   "cell_type": "code",
   "execution_count": null,
   "id": "c9b2710d",
   "metadata": {},
   "outputs": [],
   "source": []
  },
  {
   "cell_type": "code",
   "execution_count": null,
   "id": "b5ac43ae",
   "metadata": {},
   "outputs": [],
   "source": []
  },
  {
   "cell_type": "code",
   "execution_count": null,
   "id": "a5c24549",
   "metadata": {},
   "outputs": [],
   "source": []
  },
  {
   "cell_type": "code",
   "execution_count": null,
   "id": "e1c797a4",
   "metadata": {},
   "outputs": [],
   "source": []
  }
 ],
 "metadata": {
  "kernelspec": {
   "display_name": "Python 3 (ipykernel)",
   "language": "python",
   "name": "python3"
  },
  "language_info": {
   "codemirror_mode": {
    "name": "ipython",
    "version": 3
   },
   "file_extension": ".py",
   "mimetype": "text/x-python",
   "name": "python",
   "nbconvert_exporter": "python",
   "pygments_lexer": "ipython3",
   "version": "3.11.5"
  }
 },
 "nbformat": 4,
 "nbformat_minor": 5
}
