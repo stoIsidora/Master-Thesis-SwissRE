{
 "cells": [
  {
   "cell_type": "code",
   "execution_count": 2,
   "id": "a598a5ea",
   "metadata": {},
   "outputs": [],
   "source": [
    "import pandas as pd\n",
    "import numpy as np\n",
    "from sklearn.ensemble import RandomForestClassifier"
   ]
  },
  {
   "cell_type": "code",
   "execution_count": null,
   "id": "39f6e7f4",
   "metadata": {},
   "outputs": [],
   "source": []
  },
  {
   "cell_type": "code",
   "execution_count": 3,
   "id": "dddcdd04",
   "metadata": {},
   "outputs": [],
   "source": [
    "demographic = ['AGE', 'SEX', 'RACEA', 'REGION', 'USBORN', 'FAMSIZE', 'MARST', 'POVERTY', 'EDUCREC1']\n",
    "\n",
    "insurace = ['HIPRIVATEE', 'HIMCAIDE', 'HIMCAREE', 'HINOTCOVE']\n",
    "\n",
    "health = ['BMICALC', 'HSTATYR', 'FSRAWSCORE']  \n",
    "\n",
    "smoke = ['SMOKESTATUS2', 'CIGSDAY']\n",
    "\n",
    "alch = ['ALCSTAT1', 'ALCDAYSYR', 'ALCAMT', 'ALC5UPYR']\n",
    "\n",
    "activity = ['MOD10DMIN', 'MOD10FWK', 'VIG10DMIN', 'VIG10FWK', 'STRONGFWK']\n",
    "\n",
    "sleep = ['HRSLEEP']\n",
    "\n",
    "p_health = ['CANCEREV', 'DIABETICEV', 'HEARTATTEV', 'CHEARTDIEV', 'STROKEV', 'HEARTCONEV', 'HYPERTENEV',\n",
    "            'EMPHYSEMEV', 'LIVERCHRON', 'LIVERCONYR',  'KIDNEYWKYR', 'ARTHGLUPEV', 'CPOXEV', 'BLIND'] \n",
    "\n",
    "m_health = ['WRYRET', 'WRYMEDCST', 'AWORTHLESS', 'AEFFORT', 'AFEELINT1MO']  \n",
    "\n",
    "tech = ['MORTSTAT']\n",
    "\n",
    "# features to be droped after preprocessing\n",
    "universe_fixers = ['ALC1YR', 'ALCLIFE', 'VISIONPROB', 'AHOPELESS', 'ANERVOUS', 'ARESTLESS', 'ASAD', 'INCIMPPOINT1', 'EARNIMPOINT1']\n",
    "# features to be droped later\n",
    "drop_next = ['YEAR', 'MORTDODY']"
   ]
  },
  {
   "cell_type": "code",
   "execution_count": 4,
   "id": "79b9d5a6",
   "metadata": {},
   "outputs": [],
   "source": [
    "df_original = pd.read_csv('thesis__data_res.csv', \n",
    "                 usecols = demographic + insurace + health + smoke + alch + activity + sleep + p_health + m_health + tech +\n",
    "                         universe_fixers + drop_next)"
   ]
  },
  {
   "cell_type": "code",
   "execution_count": 5,
   "id": "21228b11",
   "metadata": {},
   "outputs": [],
   "source": [
    "# use only samples tracked for mortality \n",
    "df_original = df_original[(df_original['MORTSTAT']==1) | (df_original['MORTSTAT']==2)]"
   ]
  },
  {
   "cell_type": "code",
   "execution_count": 6,
   "id": "20fee9cf",
   "metadata": {},
   "outputs": [],
   "source": [
    "# define TIMETOEVENT\n",
    "df_original['TIMETOEVENT'] = df_original.apply(\n",
    "    lambda row: row['MORTDODY'] - row['YEAR'] if row['MORTSTAT'] == 1 else 2019 - row['YEAR'], \n",
    "    axis=1)"
   ]
  },
  {
   "cell_type": "code",
   "execution_count": 7,
   "id": "8b009584",
   "metadata": {},
   "outputs": [],
   "source": [
    "# define dead as 1 and alive as 0\n",
    "df_original['MORTSTAT'] = df_original['MORTSTAT'].replace(2, 0)"
   ]
  },
  {
   "cell_type": "code",
   "execution_count": 8,
   "id": "79600154",
   "metadata": {},
   "outputs": [],
   "source": [
    "df = df_original.copy()"
   ]
  },
  {
   "cell_type": "code",
   "execution_count": null,
   "id": "a66f3f60",
   "metadata": {},
   "outputs": [],
   "source": []
  },
  {
   "cell_type": "code",
   "execution_count": 9,
   "id": "07cdaca4",
   "metadata": {},
   "outputs": [],
   "source": [
    "# feature prepocessing"
   ]
  },
  {
   "cell_type": "code",
   "execution_count": 10,
   "id": "6559aec8",
   "metadata": {},
   "outputs": [],
   "source": [
    "# AGE\n",
    "\n",
    "# top-code\n",
    "df['AGE'] = df['AGE'].clip(upper=85)"
   ]
  },
  {
   "cell_type": "code",
   "execution_count": 11,
   "id": "ffa2e277",
   "metadata": {},
   "outputs": [],
   "source": [
    "# SEX"
   ]
  },
  {
   "cell_type": "code",
   "execution_count": 12,
   "id": "4b8837c7",
   "metadata": {},
   "outputs": [
    {
     "name": "stdout",
     "output_type": "stream",
     "text": [
      "number of samples 2091202\n"
     ]
    }
   ],
   "source": [
    "# RACEA\n",
    "\n",
    "# remove unknown and NIU\n",
    "df = df[(df['RACEA']<900)]\n",
    "\n",
    "# group categories\n",
    "df['RACEA'] = df['RACEA'] // 100\n",
    "\n",
    "# write = 1\n",
    "# black = 2\n",
    "# asian = 4\n",
    "# other = 3\n",
    "df['RACEA'] = df['RACEA'].replace(3, 3)\n",
    "df['RACEA'] = df['RACEA'].replace(5, 3)\n",
    "df['RACEA'] = df['RACEA'].replace(6, 3)\n",
    "\n",
    "print('number of samples', len(df))"
   ]
  },
  {
   "cell_type": "code",
   "execution_count": 13,
   "id": "7f09b678",
   "metadata": {},
   "outputs": [],
   "source": [
    "# REGION"
   ]
  },
  {
   "cell_type": "code",
   "execution_count": 14,
   "id": "48424ac4",
   "metadata": {},
   "outputs": [
    {
     "name": "stdout",
     "output_type": "stream",
     "text": [
      "number of samples 1260000\n"
     ]
    }
   ],
   "source": [
    "# USBORN\n",
    "\n",
    "# remove unknown and NIU\n",
    "df = df[(df['USBORN']<=20)]\n",
    "\n",
    "# group\n",
    "df['USBORN'] = df['USBORN'].apply(lambda x: 10 if 10 <= x <= 12 else x)\n",
    "\n",
    "print('number of samples', len(df))"
   ]
  },
  {
   "cell_type": "code",
   "execution_count": 15,
   "id": "e369c10c",
   "metadata": {},
   "outputs": [
    {
     "name": "stdout",
     "output_type": "stream",
     "text": [
      "number of samples 1260000\n"
     ]
    }
   ],
   "source": [
    "# FAMSIZE\n",
    "\n",
    "# remove unknown and NIU\n",
    "df = df[(df['FAMSIZE']<=90)]\n",
    "\n",
    "print('number of samples', len(df))"
   ]
  },
  {
   "cell_type": "code",
   "execution_count": 16,
   "id": "66445a6a",
   "metadata": {},
   "outputs": [
    {
     "name": "stdout",
     "output_type": "stream",
     "text": [
      "number of samples 1255683\n"
     ]
    }
   ],
   "source": [
    "# MARST\n",
    "\n",
    "# group\n",
    "df['MARST'] = df['MARST'].apply(lambda x: 10 if 10 <= x <= 13 else x)\n",
    "\n",
    "# remove unknown and NIU\n",
    "df = df[df['MARST'].isin([10, 20, 30, 40, 50])]\n",
    "\n",
    "print('number of samples', len(df))"
   ]
  },
  {
   "cell_type": "code",
   "execution_count": 17,
   "id": "95bba6e9",
   "metadata": {},
   "outputs": [
    {
     "name": "stdout",
     "output_type": "stream",
     "text": [
      "number of samples 1240097\n"
     ]
    }
   ],
   "source": [
    "# EDUCREC1\n",
    "\n",
    "# remove unknown\n",
    "df = df[(df['EDUCREC1']>=1) & (df['EDUCREC1']<=16)].copy()\n",
    "\n",
    "print('number of samples', len(df))"
   ]
  },
  {
   "cell_type": "code",
   "execution_count": 18,
   "id": "35b80618",
   "metadata": {},
   "outputs": [
    {
     "name": "stdout",
     "output_type": "stream",
     "text": [
      "number of samples 1221136\n"
     ]
    }
   ],
   "source": [
    "# HIPRIVATEE\n",
    "\n",
    "# remove unknown and NIU\n",
    "df = df[(df['HIPRIVATEE']==1) | (df['HIPRIVATEE']==2)]\n",
    "\n",
    "print('number of samples', len(df))"
   ]
  },
  {
   "cell_type": "code",
   "execution_count": 19,
   "id": "fd76fad7",
   "metadata": {},
   "outputs": [
    {
     "name": "stdout",
     "output_type": "stream",
     "text": [
      "number of samples 1221136\n"
     ]
    }
   ],
   "source": [
    "# HIMCAIDE\n",
    "\n",
    "# remove unknown and NIU\n",
    "df.loc[(df['HIMCAIDE'] == 3), 'HIMCAIDE'] = 2\n",
    "df = df[(df['HIMCAIDE']==1) | (df['HIMCAIDE']==2)]\n",
    "\n",
    "print('number of samples', len(df))"
   ]
  },
  {
   "cell_type": "code",
   "execution_count": 20,
   "id": "76adb218",
   "metadata": {},
   "outputs": [
    {
     "name": "stdout",
     "output_type": "stream",
     "text": [
      "number of samples 1221086\n"
     ]
    }
   ],
   "source": [
    "# HIMCAREE\n",
    "\n",
    "# remove unknown and NIU\n",
    "df.loc[(df['HIMCAREE'] == 3), 'HIMCAREE'] = 2\n",
    "df = df[(df['HIMCAREE']==1) | (df['HIMCAREE']==2)]\n",
    "\n",
    "print('number of samples', len(df))"
   ]
  },
  {
   "cell_type": "code",
   "execution_count": 21,
   "id": "3ea9287c",
   "metadata": {},
   "outputs": [
    {
     "name": "stdout",
     "output_type": "stream",
     "text": [
      "number of samples 1221086\n"
     ]
    }
   ],
   "source": [
    "# HINOTCOVE\n",
    "\n",
    "# remove unknown and NIU\n",
    "df = df[(df['HINOTCOVE']==1) | (df['HINOTCOVE']==2)]\n",
    "\n",
    "print('number of samples', len(df))"
   ]
  },
  {
   "cell_type": "code",
   "execution_count": 22,
   "id": "65cf2ee0",
   "metadata": {},
   "outputs": [
    {
     "name": "stdout",
     "output_type": "stream",
     "text": [
      "number of samples 573418\n"
     ]
    }
   ],
   "source": [
    "# BMICALC\n",
    "\n",
    "# fix samples with no BMI beacuse weight botom-coded (not the same as 'too low')\n",
    "#condition_15 = (\n",
    "#    (df['WEIGHT'] == 126) & (df['SEX'] == 1) |  \n",
    "#    (df['WEIGHT'] == 99)  & (df['SEX'] == 2) & (df['YEAR'] <= 2005) |  \n",
    "#    (df['WEIGHT'] == 100) & (df['SEX'] == 2) & (df['YEAR'] >= 2006)\n",
    "#)\n",
    "\n",
    "# fix samples with no BMI beacuse weight top-coded (not the same as 'too high')\n",
    "#condition_50 = (\n",
    "#    (df['WEIGHT'] == 285) & (df['SEX'] == 1) & (df['YEAR'] <= 2005) |  \n",
    "#    (df['WEIGHT'] == 299) & (df['SEX'] == 1) & (df['YEAR'] >= 2006) |  \n",
    "#    (df['WEIGHT'] == 259) & (df['SEX'] == 2) & (df['YEAR'] <= 2005) |  \n",
    "#    (df['WEIGHT'] == 274) & (df['SEX'] == 2) & (df['YEAR'] >= 2006)   \n",
    "#)\n",
    " \n",
    "\n",
    "# assign values based on conditions\n",
    "#df.loc[condition_15, 'BMICALC'] = 15\n",
    "#df.loc[condition_50, 'BMICALC'] = 50\n",
    "\n",
    "\n",
    "# remove unknown and NIU\n",
    "df = df[(df['BMICALC']>0) & (df['BMICALC']<900)]\n",
    "\n",
    "print('number of samples', len(df))"
   ]
  },
  {
   "cell_type": "code",
   "execution_count": 23,
   "id": "86096741",
   "metadata": {},
   "outputs": [
    {
     "name": "stdout",
     "output_type": "stream",
     "text": [
      "number of samples 572892\n"
     ]
    }
   ],
   "source": [
    "# HSTATYR\n",
    "\n",
    "# remove unknown and NIU\n",
    "df = df[df['HSTATYR'].isin([1, 2, 3])]\n",
    "\n",
    "# make it ordinal\n",
    "df['HSTATYR'] = df['HSTATYR'].replace(3, 5)  # about the same \n",
    "df['HSTATYR'] = df['HSTATYR'].replace(2, 3)  # worse\n",
    "df['HSTATYR'] = df['HSTATYR'].replace(5, 2)  # about the same\n",
    "\n",
    "print('number of samples', len(df))"
   ]
  },
  {
   "cell_type": "code",
   "execution_count": 24,
   "id": "f189cb0f",
   "metadata": {},
   "outputs": [
    {
     "name": "stdout",
     "output_type": "stream",
     "text": [
      "number of samples 222580\n"
     ]
    }
   ],
   "source": [
    "# FSRAWSCORE\n",
    "\n",
    "# remove unknown samples\n",
    "df = df[df['FSRAWSCORE']<=10]\n",
    "\n",
    "print('number of samples', len(df))"
   ]
  },
  {
   "cell_type": "code",
   "execution_count": 25,
   "id": "70841ed3",
   "metadata": {},
   "outputs": [
    {
     "name": "stdout",
     "output_type": "stream",
     "text": [
      "number of samples 222338\n"
     ]
    }
   ],
   "source": [
    "# SMOKESTATUS2\n",
    "\n",
    "# remove unknown and NIU\n",
    "df = df[df['SMOKESTATUS2'].isin([11, 12, 20, 30])]\n",
    "\n",
    "# 11 = curent everyday\n",
    "# 12 = curent someday\n",
    "# 20 = former\n",
    "# 30 = never\n",
    "\n",
    "print('number of samples', len(df))"
   ]
  },
  {
   "cell_type": "code",
   "execution_count": 26,
   "id": "44d75898",
   "metadata": {},
   "outputs": [
    {
     "name": "stdout",
     "output_type": "stream",
     "text": [
      "number of samples 222109\n"
     ]
    }
   ],
   "source": [
    "# CIGSDAY\n",
    "\n",
    "# make NIU as 0\n",
    "df['CIGSDAY'] = df['CIGSDAY'].replace(96, 0)\n",
    "\n",
    "# remove unknown \n",
    "df = df[df['CIGSDAY']<=90]\n",
    "\n",
    "print('number of samples', len(df))"
   ]
  },
  {
   "cell_type": "code",
   "execution_count": 27,
   "id": "ad53c4c0",
   "metadata": {},
   "outputs": [
    {
     "name": "stdout",
     "output_type": "stream",
     "text": [
      "number of samples 220609\n"
     ]
    }
   ],
   "source": [
    "# ALCSTAT1\n",
    "\n",
    "# remove unknown and NIU\n",
    "df = df[df['ALCSTAT1'].isin([1, 2, 3])]\n",
    "\n",
    "print('number of samples', len(df))"
   ]
  },
  {
   "cell_type": "code",
   "execution_count": 28,
   "id": "7d841d5f",
   "metadata": {},
   "outputs": [
    {
     "name": "stdout",
     "output_type": "stream",
     "text": [
      "number of samples 220609\n"
     ]
    }
   ],
   "source": [
    "# ALCDAYSYR\n",
    "\n",
    "# fix universe\n",
    "df = df[(df['ALC1YR']==1) | (df['ALC1YR']==2) | (df['ALCLIFE']==1) | (df['ALCLIFE']==2)]\n",
    "\n",
    "# make NIU be 0\n",
    "df['ALCDAYSYR'] = df['ALCDAYSYR'].replace(996, 0)\n",
    "\n",
    "# remove unknown \n",
    "df = df[(df['ALCDAYSYR']<=365)]\n",
    "\n",
    "print('number of samples', len(df))"
   ]
  },
  {
   "cell_type": "code",
   "execution_count": 29,
   "id": "6ba27553",
   "metadata": {},
   "outputs": [
    {
     "name": "stdout",
     "output_type": "stream",
     "text": [
      "number of samples 219995\n"
     ]
    }
   ],
   "source": [
    "# ALCAMT\n",
    "\n",
    "# universed fixed in ALCDAYSYR \n",
    "\n",
    "# remove unknown\n",
    "df= df[df['ALCAMT']<=95]\n",
    "\n",
    "print('number of samples', len(df))"
   ]
  },
  {
   "cell_type": "code",
   "execution_count": 30,
   "id": "929464ff",
   "metadata": {},
   "outputs": [
    {
     "name": "stdout",
     "output_type": "stream",
     "text": [
      "number of samples 218399\n"
     ]
    }
   ],
   "source": [
    "# ALC5UPYR\n",
    "\n",
    "# universed fixed in ALCDAYSYR \n",
    "\n",
    "# make NIU be 0\n",
    "df['ALC5UPYR'] = df['ALC5UPYR'].replace(996, 0)\n",
    "\n",
    "# remove unknown \n",
    "df = df[(df['ALC5UPYR']<=365)]\n",
    "\n",
    "print('number of samples', len(df))"
   ]
  },
  {
   "cell_type": "code",
   "execution_count": 31,
   "id": "4b609ef8",
   "metadata": {},
   "outputs": [
    {
     "name": "stdout",
     "output_type": "stream",
     "text": [
      "number of samples 215687\n"
     ]
    }
   ],
   "source": [
    "# MOD10FWK\n",
    "\n",
    "# make never, unable, less than once a week as 0\n",
    "df['MOD10FWK'] = df['MOD10FWK'].replace({94: 0, 95: 0, 96: 0})\n",
    "# remove samples wihtout data\n",
    "df = df[(df['MOD10FWK']<=93)]\n",
    "\n",
    "print('number of samples', len(df))"
   ]
  },
  {
   "cell_type": "code",
   "execution_count": 32,
   "id": "07ecd86f",
   "metadata": {},
   "outputs": [
    {
     "name": "stdout",
     "output_type": "stream",
     "text": [
      "number of samples 214941\n"
     ]
    }
   ],
   "source": [
    "# MOD10DMIN\n",
    "\n",
    "# remove people who refused to answer\n",
    "df = df[(df['MOD10DMIN']<=996)]\n",
    "\n",
    "print('number of samples', len(df))"
   ]
  },
  {
   "cell_type": "code",
   "execution_count": 33,
   "id": "444be72c",
   "metadata": {},
   "outputs": [
    {
     "name": "stdout",
     "output_type": "stream",
     "text": [
      "number of samples 214186\n"
     ]
    }
   ],
   "source": [
    "# VIG10FWK\n",
    "\n",
    "# make never, unable, less than once a week as 0\n",
    "df['VIG10FWK'] = df['VIG10FWK'].replace({94: 0, 95: 0, 96: 0})\n",
    "# remove samples wihtout data\n",
    "df = df[(df['VIG10FWK']<=93)]\n",
    "\n",
    "print('number of samples', len(df))"
   ]
  },
  {
   "cell_type": "code",
   "execution_count": 34,
   "id": "2b991bed",
   "metadata": {},
   "outputs": [
    {
     "name": "stdout",
     "output_type": "stream",
     "text": [
      "number of samples 213946\n"
     ]
    }
   ],
   "source": [
    "# VIG10DMIN\n",
    "\n",
    "# remove people who refused to answer\n",
    "df = df[(df['VIG10DMIN']<=996)]\n",
    "\n",
    "print('number of samples', len(df))"
   ]
  },
  {
   "cell_type": "code",
   "execution_count": 35,
   "id": "4942bb5d",
   "metadata": {},
   "outputs": [
    {
     "name": "stdout",
     "output_type": "stream",
     "text": [
      "number of samples 213642\n"
     ]
    }
   ],
   "source": [
    "# STRONGFWK\n",
    "\n",
    "# make never, unable, less than once a week as 0\n",
    "df['STRONGFWK'] = df['STRONGFWK'].replace({94: 0, 95: 0, 96: 0})\n",
    "# remove samples wihtout data\n",
    "df = df[(df['STRONGFWK']<=93)]\n",
    "\n",
    "print('number of samples', len(df))"
   ]
  },
  {
   "cell_type": "code",
   "execution_count": 36,
   "id": "cbb11e5f",
   "metadata": {},
   "outputs": [
    {
     "name": "stdout",
     "output_type": "stream",
     "text": [
      "number of samples 210305\n"
     ]
    }
   ],
   "source": [
    "# HRSLEEP\n",
    "\n",
    "# remove people who refused to answer\n",
    "df = df[(df['HRSLEEP']>=1) & (df['HRSLEEP']<=24)]\n",
    "\n",
    "print('number of samples', len(df))"
   ]
  },
  {
   "cell_type": "code",
   "execution_count": 37,
   "id": "3123b54f",
   "metadata": {},
   "outputs": [
    {
     "name": "stdout",
     "output_type": "stream",
     "text": [
      "number of samples 210208\n"
     ]
    }
   ],
   "source": [
    "# CANCEREV \n",
    "\n",
    "# remove unknown and NIU\n",
    "df = df[df['CANCEREV'].isin([1, 2])]\n",
    "\n",
    "print('number of samples', len(df))"
   ]
  },
  {
   "cell_type": "code",
   "execution_count": 38,
   "id": "c4892307",
   "metadata": {},
   "outputs": [
    {
     "name": "stdout",
     "output_type": "stream",
     "text": [
      "number of samples 206052\n"
     ]
    }
   ],
   "source": [
    "# DIABETICEV\n",
    "\n",
    "# remove unknown and NIU\n",
    "df = df[df['DIABETICEV'].isin([1, 2])]\n",
    "\n",
    "print('number of samples', len(df))"
   ]
  },
  {
   "cell_type": "code",
   "execution_count": 39,
   "id": "3d91791e",
   "metadata": {},
   "outputs": [
    {
     "name": "stdout",
     "output_type": "stream",
     "text": [
      "number of samples 205967\n"
     ]
    }
   ],
   "source": [
    "# HEARTATTEV\n",
    "\n",
    "# remove unknown and NIU\n",
    "df = df[df['HEARTATTEV'].isin([1, 2])]\n",
    "\n",
    "print('number of samples', len(df))"
   ]
  },
  {
   "cell_type": "code",
   "execution_count": 40,
   "id": "c7f4423d",
   "metadata": {},
   "outputs": [
    {
     "name": "stdout",
     "output_type": "stream",
     "text": [
      "number of samples 205763\n"
     ]
    }
   ],
   "source": [
    "# CHEARTDIEV\n",
    "\n",
    "# remove unknown and NIU\n",
    "df = df[df['CHEARTDIEV'].isin([1, 2])]\n",
    "\n",
    "print('number of samples', len(df))"
   ]
  },
  {
   "cell_type": "code",
   "execution_count": 41,
   "id": "c340537b",
   "metadata": {},
   "outputs": [
    {
     "name": "stdout",
     "output_type": "stream",
     "text": [
      "number of samples 205698\n"
     ]
    }
   ],
   "source": [
    "# STROKEV\n",
    "\n",
    "# remove unknown and NIU\n",
    "df = df[df['STROKEV'].isin([1, 2])]\n",
    "\n",
    "print('number of samples', len(df))"
   ]
  },
  {
   "cell_type": "code",
   "execution_count": 42,
   "id": "cf5aa7a0",
   "metadata": {},
   "outputs": [
    {
     "name": "stdout",
     "output_type": "stream",
     "text": [
      "number of samples 205643\n"
     ]
    }
   ],
   "source": [
    "# HEARTCONEV\n",
    "\n",
    "# remove unknown and NIU\n",
    "df = df[df['HEARTCONEV'].isin([1, 2])]\n",
    "\n",
    "print('number of samples', len(df))"
   ]
  },
  {
   "cell_type": "code",
   "execution_count": 43,
   "id": "06148afc",
   "metadata": {},
   "outputs": [
    {
     "name": "stdout",
     "output_type": "stream",
     "text": [
      "number of samples 205547\n"
     ]
    }
   ],
   "source": [
    "# HYPERTENEV\n",
    "\n",
    "# remove unknown and NIU\n",
    "df = df[df['HYPERTENEV'].isin([1, 2])]\n",
    "\n",
    "print('number of samples', len(df))"
   ]
  },
  {
   "cell_type": "code",
   "execution_count": 44,
   "id": "104ce975",
   "metadata": {},
   "outputs": [
    {
     "name": "stdout",
     "output_type": "stream",
     "text": [
      "number of samples 205505\n"
     ]
    }
   ],
   "source": [
    "# EMPHYSEMEV\n",
    "\n",
    "# remove unknown and NIU\n",
    "df = df[df['EMPHYSEMEV'].isin([1, 2])]\n",
    "\n",
    "print('number of samples', len(df))"
   ]
  },
  {
   "cell_type": "code",
   "execution_count": 45,
   "id": "98c23648",
   "metadata": {},
   "outputs": [
    {
     "name": "stdout",
     "output_type": "stream",
     "text": [
      "number of samples 204931\n"
     ]
    }
   ],
   "source": [
    "# LIVERCHRON\n",
    "\n",
    "# remove unknown and NIU\n",
    "df = df[df['LIVERCHRON'].isin([1, 2])]\n",
    "\n",
    "print('number of samples', len(df))"
   ]
  },
  {
   "cell_type": "code",
   "execution_count": 46,
   "id": "240edc95",
   "metadata": {},
   "outputs": [
    {
     "name": "stdout",
     "output_type": "stream",
     "text": [
      "number of samples 204883\n"
     ]
    }
   ],
   "source": [
    "# LIVERCONYR\n",
    "\n",
    "# remove unknown and NIU\n",
    "df = df[df['LIVERCONYR'].isin([1, 2])]\n",
    "\n",
    "print('number of samples', len(df))"
   ]
  },
  {
   "cell_type": "code",
   "execution_count": 47,
   "id": "485a8cef",
   "metadata": {},
   "outputs": [
    {
     "name": "stdout",
     "output_type": "stream",
     "text": [
      "number of samples 204834\n"
     ]
    }
   ],
   "source": [
    "# KIDNEYWKYR\n",
    "\n",
    "# remove unknown and NIU\n",
    "df = df[df['KIDNEYWKYR'].isin([1, 2])]\n",
    "\n",
    "print('number of samples', len(df))"
   ]
  },
  {
   "cell_type": "code",
   "execution_count": 48,
   "id": "2bd26dc5",
   "metadata": {},
   "outputs": [
    {
     "name": "stdout",
     "output_type": "stream",
     "text": [
      "number of samples 204713\n"
     ]
    }
   ],
   "source": [
    "# ARTHGLUPEV\n",
    "\n",
    "# remove unknown and NIU\n",
    "df = df[df['ARTHGLUPEV'].isin([1, 2])]\n",
    "\n",
    "print('number of samples', len(df))"
   ]
  },
  {
   "cell_type": "code",
   "execution_count": 49,
   "id": "53e5ac30",
   "metadata": {},
   "outputs": [
    {
     "name": "stdout",
     "output_type": "stream",
     "text": [
      "number of samples 196953\n"
     ]
    }
   ],
   "source": [
    "# CPOXEV\n",
    "\n",
    "# remove unknown and NIU\n",
    "df = df[df['CPOXEV'].isin([1, 2])]\n",
    "\n",
    "print('number of samples', len(df))"
   ]
  },
  {
   "cell_type": "code",
   "execution_count": 50,
   "id": "7719e40b",
   "metadata": {},
   "outputs": [
    {
     "name": "stdout",
     "output_type": "stream",
     "text": [
      "number of samples 196919\n"
     ]
    }
   ],
   "source": [
    "# BLIND\n",
    "\n",
    "# fix universe\n",
    "df.loc[(df['VISIONPROB'] == 1), 'BLIND'] = 1\n",
    "\n",
    "# remove unknown and NIU\n",
    "df = df[df['BLIND'].isin([1, 2])]\n",
    "\n",
    "print('number of samples', len(df))"
   ]
  },
  {
   "cell_type": "code",
   "execution_count": 51,
   "id": "4725f459",
   "metadata": {},
   "outputs": [
    {
     "name": "stdout",
     "output_type": "stream",
     "text": [
      "number of samples 144091\n"
     ]
    }
   ],
   "source": [
    "# WRYRET\n",
    "\n",
    "# remove unknown and NIU\n",
    "df = df[df['WRYRET'].isin([1, 2, 3, 4])]\n",
    "\n",
    "print('number of samples', len(df))"
   ]
  },
  {
   "cell_type": "code",
   "execution_count": 52,
   "id": "43efdf63",
   "metadata": {},
   "outputs": [
    {
     "name": "stdout",
     "output_type": "stream",
     "text": [
      "number of samples 144010\n"
     ]
    }
   ],
   "source": [
    "# WRYMEDCST\n",
    "\n",
    "# remove unknown and NIU\n",
    "df = df[df['WRYMEDCST'].isin([1, 2, 3, 4])]\n",
    "\n",
    "print('number of samples', len(df))"
   ]
  },
  {
   "cell_type": "code",
   "execution_count": 53,
   "id": "c2702c85",
   "metadata": {},
   "outputs": [
    {
     "name": "stdout",
     "output_type": "stream",
     "text": [
      "number of samples 143256\n"
     ]
    }
   ],
   "source": [
    "# AWORTHLESS\n",
    "\n",
    "# remove unknown and NIU\n",
    "df = df[df['AWORTHLESS'].isin([0, 1, 2, 3, 4])]\n",
    "\n",
    "print('number of samples', len(df))"
   ]
  },
  {
   "cell_type": "code",
   "execution_count": 54,
   "id": "905c2aec",
   "metadata": {},
   "outputs": [
    {
     "name": "stdout",
     "output_type": "stream",
     "text": [
      "number of samples 143164\n"
     ]
    }
   ],
   "source": [
    "# AEFFORT\n",
    "\n",
    "# remove unknown and NIU\n",
    "df = df[df['AEFFORT'].isin([0, 1, 2, 3, 4])]\n",
    "\n",
    "print('number of samples', len(df))"
   ]
  },
  {
   "cell_type": "code",
   "execution_count": 55,
   "id": "9f5bf0d4",
   "metadata": {},
   "outputs": [
    {
     "name": "stdout",
     "output_type": "stream",
     "text": [
      "number of samples 143002\n"
     ]
    }
   ],
   "source": [
    "# AFEELINT1MO\n",
    "\n",
    "# fix universe\n",
    "df = df[(df['AHOPELESS']<=4)]\n",
    "df = df[(df['ANERVOUS']<=4)]\n",
    "df = df[(df['ARESTLESS']<=4)]\n",
    "df = df[(df['ASAD']<=4)]\n",
    "df = df[(df['AWORTHLESS']<=4)]\n",
    "df = df[(df['AEFFORT']<=4)]\n",
    "\n",
    "# remove unknown and NIU\n",
    "df = df[df['AFEELINT1MO']<=5]\n",
    "\n",
    "# make AFEELINT1MO ordinal \n",
    "df['AFEELINT1MO'] = df['AFEELINT1MO'].replace(0, 5)\n",
    "\n",
    "print('number of samples', len(df))"
   ]
  },
  {
   "cell_type": "code",
   "execution_count": 56,
   "id": "528891b2",
   "metadata": {},
   "outputs": [
    {
     "name": "stdout",
     "output_type": "stream",
     "text": [
      "number of samples 142152\n"
     ]
    }
   ],
   "source": [
    "# POVERTY\n",
    "\n",
    "# remove samples with undefinable POVERTY value\n",
    "df = df[df['POVERTY'] != 98]\n",
    "\n",
    "# group\n",
    "df['POVERTY'] = df['POVERTY'].apply(lambda x: 1 if 10 <= x <= 14 else x)\n",
    "df['POVERTY'] = df['POVERTY'].apply(lambda x: 2 if 20 <= x <= 25 else x)\n",
    "df['POVERTY'] = df['POVERTY'].apply(lambda x: 3 if 31 <= x <= 32 else x)\n",
    "df['POVERTY'] = df['POVERTY'].apply(lambda x: 4 if 33 <= x <= 34 else x)\n",
    "df['POVERTY'] = df['POVERTY'].apply(lambda x: 5 if 35 <= x <= 36 else x)\n",
    "df['POVERTY'] = df['POVERTY'].apply(lambda x: 6 if x == 37 else x)\n",
    "df['POVERTY'] = df['POVERTY'].replace(38, np.nan)\n",
    "df['POVERTY'] = df['POVERTY'].replace(99, np.nan)\n",
    "\n",
    "# predict POVERTY for POVERTY = 38 and 99\n",
    "model = RandomForestClassifier(n_estimators=100, criterion='log_loss', random_state=42)\n",
    "# define features and target  \n",
    "df_imp = df[['INCIMPPOINT1', 'EARNIMPOINT1', 'FAMSIZE', 'YEAR', 'POVERTY']]\n",
    "df_train = df_imp[df['POVERTY'].notna()]\n",
    "df_test = df_imp[df['POVERTY'].isna()]\n",
    "\n",
    "X_train = df_train[['INCIMPPOINT1', 'EARNIMPOINT1', 'FAMSIZE', 'YEAR']]\n",
    "y_train = df_train['POVERTY'].astype(int)\n",
    "X_test = df_test[['INCIMPPOINT1', 'EARNIMPOINT1', 'FAMSIZE', 'YEAR']]\n",
    "\n",
    "model.fit(X_train, y_train)\n",
    "\n",
    "# predict\n",
    "df_test.loc[:, 'POVERTY'] = np.round(model.predict(X_test))\n",
    "\n",
    "# impute\n",
    "df.loc[df['POVERTY'].isna(), 'POVERTY'] = df_test['POVERTY']\n",
    "    \n",
    "print('number of samples', len(df))"
   ]
  },
  {
   "cell_type": "code",
   "execution_count": null,
   "id": "f4f34ef2",
   "metadata": {},
   "outputs": [],
   "source": []
  },
  {
   "cell_type": "code",
   "execution_count": null,
   "id": "d4c0493f",
   "metadata": {},
   "outputs": [],
   "source": []
  },
  {
   "cell_type": "code",
   "execution_count": 57,
   "id": "a4b5aa77",
   "metadata": {},
   "outputs": [],
   "source": [
    "# define df for 3y mortaltity state prediction\n",
    "df_2016 = df[df['YEAR'] <= 2016]"
   ]
  },
  {
   "cell_type": "code",
   "execution_count": 58,
   "id": "8f579bd1",
   "metadata": {},
   "outputs": [],
   "source": [
    "# remove universe_fixers\n",
    "\n",
    "df = df.drop(columns=universe_fixers)\n",
    "df_2016 = df_2016.drop(columns=universe_fixers)"
   ]
  },
  {
   "cell_type": "code",
   "execution_count": 59,
   "id": "c37511ea",
   "metadata": {},
   "outputs": [],
   "source": [
    "# save new data \n",
    "df_2016.to_csv(\"df2016.csv\", index=False)"
   ]
  },
  {
   "cell_type": "code",
   "execution_count": 60,
   "id": "270fe4f0",
   "metadata": {},
   "outputs": [],
   "source": [
    "# remove universe_fixers\n",
    "df_2016 = df_2016.drop(columns=drop_next)"
   ]
  },
  {
   "cell_type": "code",
   "execution_count": 65,
   "id": "65a8f701",
   "metadata": {},
   "outputs": [],
   "source": [
    "# save new data for Cox model\n",
    "df_2016.to_csv(\"df2016cox.csv\", index=False)"
   ]
  },
  {
   "cell_type": "code",
   "execution_count": 61,
   "id": "8c869808",
   "metadata": {},
   "outputs": [],
   "source": [
    "# D_{imputed}"
   ]
  },
  {
   "cell_type": "code",
   "execution_count": 62,
   "id": "edbfcc23",
   "metadata": {},
   "outputs": [
    {
     "name": "stdout",
     "output_type": "stream",
     "text": [
      "number of samples: 142152\n",
      "non-censored: 4.64%\n",
      "censored: 95.36%\n"
     ]
    }
   ],
   "source": [
    "print(\"number of samples:\", len(df))\n",
    "print(f\"non-censored: {len(df[df['MORTSTAT'] == 1]) / len(df) * 100:.2f}%\")\n",
    "print(f\"censored: {len(df[df['MORTSTAT'] == 0]) / len(df) * 100:.2f}%\")"
   ]
  },
  {
   "cell_type": "code",
   "execution_count": 63,
   "id": "03b44dab",
   "metadata": {},
   "outputs": [],
   "source": [
    "# D_{final}"
   ]
  },
  {
   "cell_type": "code",
   "execution_count": 64,
   "id": "cf27e0b4",
   "metadata": {},
   "outputs": [
    {
     "name": "stdout",
     "output_type": "stream",
     "text": [
      "number of samples: 103400\n",
      "non-censored: 5.56%\n",
      "censored: 94.44%\n"
     ]
    }
   ],
   "source": [
    "print(\"number of samples:\", len(df_2016))\n",
    "print(f\"non-censored: {len(df_2016[df_2016['MORTSTAT'] == 1]) / len(df_2016) * 100:.2f}%\")\n",
    "print(f\"censored: {len(df_2016[df_2016['MORTSTAT'] == 0]) / len(df_2016) * 100:.2f}%\")"
   ]
  }
 ],
 "metadata": {
  "kernelspec": {
   "display_name": "Python 3 (ipykernel)",
   "language": "python",
   "name": "python3"
  },
  "language_info": {
   "codemirror_mode": {
    "name": "ipython",
    "version": 3
   },
   "file_extension": ".py",
   "mimetype": "text/x-python",
   "name": "python",
   "nbconvert_exporter": "python",
   "pygments_lexer": "ipython3",
   "version": "3.11.5"
  }
 },
 "nbformat": 4,
 "nbformat_minor": 5
}
